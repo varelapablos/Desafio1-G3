{
 "cells": [
  {
   "cell_type": "markdown",
   "metadata": {},
   "source": [
    "<img src='logo_DH.png' align='center' width=35%/>\n",
    "\n",
    "<h1 style=\"text-align: center;\">Desafío 2 - Modelo de Regresión Lineal</h1>"
   ]
  },
  {
   "cell_type": "markdown",
   "metadata": {},
   "source": [
    "<a id=\"section_toc\"></a> \n",
    "## Tabla de Contenidos\n",
    "\n",
    "[Introducción y objetivos](#section_intro)\n",
    "\n",
    "[Importación de librerías y confguración de display()](#section_importacion)\n",
    "\n",
    "[Importación del archivo properati_desafio_2](#section_properati)\n",
    "\n",
    "[Inspección de la tabla](#section_inspeccion)\n",
    "\n",
    "[Relaciones](#section_relaciones)\n",
    "\n",
    "[Creación de variables dummies](#section_dummies)\n",
    "\n",
    "[Modelo de regresión lineal](#section_modelo)\n",
    "\n",
    "[Análisis de p-value (statsmodel)](#section_p)\n",
    "\n",
    "[Mejora del modelo - Ridge, Lasso](#section_mejora)"
   ]
  },
  {
   "cell_type": "markdown",
   "metadata": {},
   "source": [
    "---\n",
    "<a id=\"section_intro\"></a> \n",
    "## Introducción y objetivos\n",
    "\n",
    "[volver a TOC](#section_toc)\n",
    "\n",
    "La inmobiliaria Properati publica periódicamente información sobre ofertas de propiedades para venta y alquiler. Debemos asesorar a la inmobiliaria para desarrollar un modelo de regresión que permita predecir el **precio por metro cuadrado** de una propiedad. \n",
    "\n",
    "El objetivo final es que el modelo que desarrollen sea utilizado como **tasador automático** a ser aplicados a las próximas propiedades que sean comercializadas por la empresa. Para ello la empresa le provee de un dataset correspondiente al primer semestre de 2017. El nombre del dataset es *properati.csv*.\n",
    "\n",
    "En el desafío 1 realizamos los primeros pasos de este objetivo:\n",
    "- Efectuamos una limpieza del dataset provisto. Lidiamos con los datos perdidos en ciertas variables.\n",
    "- Realizamos un análisis descriptivo de las principales variables.\n",
    "- Creamos nuevas columnas a partir de las características dadas que puedan tener valor predictivo. En particular, se calcularon la amenities ya que no lo habíamos realizado.\n",
    "\n",
    "En este desafío tenemos como objetivo realizar un modelo de regresión lineal que permite predecir el precio por metro cuadrado usando las variables que consideremos relevantes:\n",
    "- Construcción de variables dummies para realizar el modelo si es necesario.\n",
    "- Normalización.\n",
    "- Train/test split del modelo.\n",
    "- Cross validation.\n",
    "- Regularización.\n",
    "- Métricas RMSE y R² (ver para set de entrenamiento y de validación)."
   ]
  },
  {
   "cell_type": "markdown",
   "metadata": {},
   "source": [
    "---\n",
    "<a id=\"section_importacion\"></a> \n",
    "## Importación de librerías y configuración de display()\n",
    "\n",
    "[volver a TOC](#section_toc)\n",
    "\n",
    "\n",
    "En esta parte importamos las librerías que usamos y cambiamos la configuración para tener un display/print correctos/útiles"
   ]
  },
  {
   "cell_type": "code",
   "execution_count": 357,
   "metadata": {},
   "outputs": [],
   "source": [
    "# Importación de librerias:\n",
    "import numpy as np\n",
    "import pandas as pd \n",
    "import seaborn as sns\n",
    "import matplotlib.pyplot as plt\n",
    "import re\n",
    "\n",
    "from sklearn.linear_model import LinearRegression\n",
    "from sklearn import metrics\n",
    "from sklearn.metrics import mean_absolute_error\n",
    "from sklearn.metrics import mean_squared_error\n",
    "from sklearn.metrics import r2_score\n",
    "from sklearn.model_selection import train_test_split\n",
    "from sklearn.model_selection import cross_val_score\n",
    "from sklearn.linear_model import RidgeCV\n",
    "from sklearn.linear_model import LassoCV\n",
    "from sklearn import linear_model\n",
    "\n",
    "import statsmodels.api as sm\n",
    "import random"
   ]
  },
  {
   "cell_type": "code",
   "execution_count": 358,
   "metadata": {},
   "outputs": [],
   "source": [
    "# Configuraciones de display:\n",
    "pd.set_option(\"display.max_columns\", 50)   # Limita la visualización a max 50 columnas. Si se excede genera \"...\".NO existe display.min_columns\n",
    "pd.set_option(\"display.max_rows\", 700)     # Limita la visualización a max 20 columnas. Si se excede genera \"...\"\n",
    "pd.set_option(\"display.min_rows\", 20)      # Una vez que display.max_rows se excede, la display.min_rows determina cuántas filas se muestran.\n",
    "#pd.reset_option(\"^display\")               # Este comando resetea todas las opciones por defecto."
   ]
  },
  {
   "cell_type": "markdown",
   "metadata": {},
   "source": [
    "---\n",
    "<a id=\"section_properati\"></a> \n",
    "## Importación del archivo properati_desafio_2.csv\n",
    "\n",
    "[volver a TOC](#section_toc)"
   ]
  },
  {
   "cell_type": "markdown",
   "metadata": {},
   "source": [
    "Del desafío 1 exportamos el siguiente dataset únicamente con las variables que considermao importantes que podrán ser relevante para el modelo:\n",
    "    \n",
    "property_type - tipo de propiedad\n",
    "\n",
    "place_name - provincia\n",
    "\n",
    "state_name - localidad\n",
    "\n",
    "price_aprox_usd - precio usd\n",
    "\n",
    "surface_total_in_m2 - superficie total\n",
    "\n",
    "surface_covered_in_m2 - superficie cubierta\n",
    "\n",
    "price_usd_per_m2 - precio por metro cuadrado (superficie total)\n",
    "\n",
    "price_per_m2 - precio por metro cuadrado (superficie cubierta)\n",
    "\n",
    "floor - piso\n",
    "\n",
    "rooms - habitaciones\n",
    "\n",
    "expenses - expensas\n",
    "\n",
    "centro_urbano - provincias agrupadas en centros urbanos\n",
    "\n",
    "pileta -  tiene pileta\n",
    "\n",
    "parrilla - tiene parrila\n",
    "\n",
    "quincho -  tiene quincho\n",
    "\n",
    "patio - tiene patio\n",
    "\n",
    "cochera - tiene cochera\n",
    "\n",
    "balcon -  tiene cochera\n",
    "\n",
    "amenities - cantidad de amenities (amenities en total que tiene)"
   ]
  },
  {
   "cell_type": "code",
   "execution_count": 359,
   "metadata": {},
   "outputs": [],
   "source": [
    "# Importación del archivo de Properati:\n",
    "data = pd.read_csv(\"properati_desafio_2.csv\", sep = \",\", low_memory=False) # low_memory=False es para que lea el archivo con la mayor cantidad de memoria dsponible y no infiera \"mal\" un tipo de dato."
   ]
  },
  {
   "cell_type": "code",
   "execution_count": 360,
   "metadata": {},
   "outputs": [
    {
     "data": {
      "text/html": [
       "<div>\n",
       "<style scoped>\n",
       "    .dataframe tbody tr th:only-of-type {\n",
       "        vertical-align: middle;\n",
       "    }\n",
       "\n",
       "    .dataframe tbody tr th {\n",
       "        vertical-align: top;\n",
       "    }\n",
       "\n",
       "    .dataframe thead th {\n",
       "        text-align: right;\n",
       "    }\n",
       "</style>\n",
       "<table border=\"1\" class=\"dataframe\">\n",
       "  <thead>\n",
       "    <tr style=\"text-align: right;\">\n",
       "      <th></th>\n",
       "      <th>property_type</th>\n",
       "      <th>place_name</th>\n",
       "      <th>state_name</th>\n",
       "      <th>price_aprox_usd</th>\n",
       "      <th>surface_total_in_m2</th>\n",
       "      <th>surface_covered_in_m2</th>\n",
       "      <th>price_usd_per_m2</th>\n",
       "      <th>price_per_m2</th>\n",
       "      <th>floor</th>\n",
       "      <th>rooms</th>\n",
       "      <th>expenses</th>\n",
       "      <th>centro_urbano</th>\n",
       "      <th>pileta</th>\n",
       "      <th>parrilla</th>\n",
       "      <th>quincho</th>\n",
       "      <th>patio</th>\n",
       "      <th>cochera</th>\n",
       "      <th>balcon</th>\n",
       "      <th>amenities</th>\n",
       "    </tr>\n",
       "  </thead>\n",
       "  <tbody>\n",
       "    <tr>\n",
       "      <th>54508</th>\n",
       "      <td>APARTMENT</td>\n",
       "      <td>GÜEMES</td>\n",
       "      <td>BUENOS AIRES COSTA ATLÁNTICA</td>\n",
       "      <td>137965.84</td>\n",
       "      <td>55.0</td>\n",
       "      <td>55.0</td>\n",
       "      <td>2508.469818</td>\n",
       "      <td>44727.272727</td>\n",
       "      <td>NaN</td>\n",
       "      <td>NaN</td>\n",
       "      <td>NaN</td>\n",
       "      <td>BUENOS AIRES COSTA ATLÁNTICA</td>\n",
       "      <td>0</td>\n",
       "      <td>0</td>\n",
       "      <td>0</td>\n",
       "      <td>0</td>\n",
       "      <td>1</td>\n",
       "      <td>0</td>\n",
       "      <td>1</td>\n",
       "    </tr>\n",
       "    <tr>\n",
       "      <th>49375</th>\n",
       "      <td>APARTMENT</td>\n",
       "      <td>CABALLITO</td>\n",
       "      <td>CAPITAL FEDERAL</td>\n",
       "      <td>88632.00</td>\n",
       "      <td>30.0</td>\n",
       "      <td>25.0</td>\n",
       "      <td>2954.400000</td>\n",
       "      <td>3545.280000</td>\n",
       "      <td>NaN</td>\n",
       "      <td>NaN</td>\n",
       "      <td>NaN</td>\n",
       "      <td>CAPITAL FEDERAL</td>\n",
       "      <td>0</td>\n",
       "      <td>0</td>\n",
       "      <td>0</td>\n",
       "      <td>0</td>\n",
       "      <td>0</td>\n",
       "      <td>0</td>\n",
       "      <td>0</td>\n",
       "    </tr>\n",
       "    <tr>\n",
       "      <th>7588</th>\n",
       "      <td>APARTMENT</td>\n",
       "      <td>RECOLETA</td>\n",
       "      <td>CAPITAL FEDERAL</td>\n",
       "      <td>495000.00</td>\n",
       "      <td>160.0</td>\n",
       "      <td>160.0</td>\n",
       "      <td>3093.750000</td>\n",
       "      <td>3093.750000</td>\n",
       "      <td>NaN</td>\n",
       "      <td>5.0</td>\n",
       "      <td>NaN</td>\n",
       "      <td>CAPITAL FEDERAL</td>\n",
       "      <td>0</td>\n",
       "      <td>0</td>\n",
       "      <td>0</td>\n",
       "      <td>0</td>\n",
       "      <td>0</td>\n",
       "      <td>0</td>\n",
       "      <td>0</td>\n",
       "    </tr>\n",
       "    <tr>\n",
       "      <th>37433</th>\n",
       "      <td>HOUSE</td>\n",
       "      <td>BANFIELD</td>\n",
       "      <td>BS.AS. G.B.A. ZONA SUR</td>\n",
       "      <td>170000.00</td>\n",
       "      <td>90.0</td>\n",
       "      <td>70.0</td>\n",
       "      <td>1888.888889</td>\n",
       "      <td>2428.571429</td>\n",
       "      <td>NaN</td>\n",
       "      <td>NaN</td>\n",
       "      <td>500.0</td>\n",
       "      <td>BS.AS. G.B.A. ZONA SUR</td>\n",
       "      <td>0</td>\n",
       "      <td>1</td>\n",
       "      <td>0</td>\n",
       "      <td>1</td>\n",
       "      <td>0</td>\n",
       "      <td>0</td>\n",
       "      <td>2</td>\n",
       "    </tr>\n",
       "    <tr>\n",
       "      <th>37158</th>\n",
       "      <td>APARTMENT</td>\n",
       "      <td>BANFIELD</td>\n",
       "      <td>BS.AS. G.B.A. ZONA SUR</td>\n",
       "      <td>50000.00</td>\n",
       "      <td>67.0</td>\n",
       "      <td>67.0</td>\n",
       "      <td>746.268657</td>\n",
       "      <td>746.268657</td>\n",
       "      <td>NaN</td>\n",
       "      <td>NaN</td>\n",
       "      <td>1500.0</td>\n",
       "      <td>BS.AS. G.B.A. ZONA SUR</td>\n",
       "      <td>0</td>\n",
       "      <td>0</td>\n",
       "      <td>0</td>\n",
       "      <td>0</td>\n",
       "      <td>0</td>\n",
       "      <td>0</td>\n",
       "      <td>0</td>\n",
       "    </tr>\n",
       "  </tbody>\n",
       "</table>\n",
       "</div>"
      ],
      "text/plain": [
       "      property_type place_name                    state_name  price_aprox_usd  \\\n",
       "54508     APARTMENT     GÜEMES  BUENOS AIRES COSTA ATLÁNTICA        137965.84   \n",
       "49375     APARTMENT  CABALLITO               CAPITAL FEDERAL         88632.00   \n",
       "7588      APARTMENT   RECOLETA               CAPITAL FEDERAL        495000.00   \n",
       "37433         HOUSE   BANFIELD        BS.AS. G.B.A. ZONA SUR        170000.00   \n",
       "37158     APARTMENT   BANFIELD        BS.AS. G.B.A. ZONA SUR         50000.00   \n",
       "\n",
       "       surface_total_in_m2  surface_covered_in_m2  price_usd_per_m2  \\\n",
       "54508                 55.0                   55.0       2508.469818   \n",
       "49375                 30.0                   25.0       2954.400000   \n",
       "7588                 160.0                  160.0       3093.750000   \n",
       "37433                 90.0                   70.0       1888.888889   \n",
       "37158                 67.0                   67.0        746.268657   \n",
       "\n",
       "       price_per_m2  floor  rooms  expenses                 centro_urbano  \\\n",
       "54508  44727.272727    NaN    NaN       NaN  BUENOS AIRES COSTA ATLÁNTICA   \n",
       "49375   3545.280000    NaN    NaN       NaN               CAPITAL FEDERAL   \n",
       "7588    3093.750000    NaN    5.0       NaN               CAPITAL FEDERAL   \n",
       "37433   2428.571429    NaN    NaN     500.0        BS.AS. G.B.A. ZONA SUR   \n",
       "37158    746.268657    NaN    NaN    1500.0        BS.AS. G.B.A. ZONA SUR   \n",
       "\n",
       "       pileta  parrilla  quincho  patio  cochera  balcon  amenities  \n",
       "54508       0         0        0      0        1       0          1  \n",
       "49375       0         0        0      0        0       0          0  \n",
       "7588        0         0        0      0        0       0          0  \n",
       "37433       0         1        0      1        0       0          2  \n",
       "37158       0         0        0      0        0       0          0  "
      ]
     },
     "execution_count": 360,
     "metadata": {},
     "output_type": "execute_result"
    }
   ],
   "source": [
    "# Muestra de la tabla:\n",
    "data.sample(5)"
   ]
  },
  {
   "cell_type": "markdown",
   "metadata": {},
   "source": [
    "---\n",
    "<a id=\"section_inspeccion\"></a> \n",
    "## Inspección de la tabla\n",
    "\n",
    "[volver a TOC](#section_toc)\n",
    "\n",
    "Se realiza un análisis básico para recordar las variables."
   ]
  },
  {
   "cell_type": "code",
   "execution_count": 361,
   "metadata": {},
   "outputs": [
    {
     "name": "stdout",
     "output_type": "stream",
     "text": [
      "Dimensiones de la tabla:  (60678, 19)\n"
     ]
    }
   ],
   "source": [
    "# Dimensiones:\n",
    "print(\"Dimensiones de la tabla: \", data.shape)"
   ]
  },
  {
   "cell_type": "code",
   "execution_count": 362,
   "metadata": {},
   "outputs": [
    {
     "data": {
      "text/plain": [
       "property_type             object\n",
       "place_name                object\n",
       "state_name                object\n",
       "price_aprox_usd          float64\n",
       "surface_total_in_m2      float64\n",
       "surface_covered_in_m2    float64\n",
       "price_usd_per_m2         float64\n",
       "price_per_m2             float64\n",
       "floor                    float64\n",
       "rooms                    float64\n",
       "expenses                 float64\n",
       "centro_urbano             object\n",
       "pileta                     int64\n",
       "parrilla                   int64\n",
       "quincho                    int64\n",
       "patio                      int64\n",
       "cochera                    int64\n",
       "balcon                     int64\n",
       "amenities                  int64\n",
       "dtype: object"
      ]
     },
     "execution_count": 362,
     "metadata": {},
     "output_type": "execute_result"
    }
   ],
   "source": [
    "# Tipo de datos de las columnas:\n",
    "data.dtypes"
   ]
  },
  {
   "cell_type": "markdown",
   "metadata": {},
   "source": [
    "Analizando las columnas una a una podemos ver que los tipos de datos son los correctos segun muestra el df."
   ]
  },
  {
   "cell_type": "code",
   "execution_count": 363,
   "metadata": {},
   "outputs": [
    {
     "data": {
      "text/html": [
       "<div>\n",
       "<style scoped>\n",
       "    .dataframe tbody tr th:only-of-type {\n",
       "        vertical-align: middle;\n",
       "    }\n",
       "\n",
       "    .dataframe tbody tr th {\n",
       "        vertical-align: top;\n",
       "    }\n",
       "\n",
       "    .dataframe thead th {\n",
       "        text-align: right;\n",
       "    }\n",
       "</style>\n",
       "<table border=\"1\" class=\"dataframe\">\n",
       "  <thead>\n",
       "    <tr style=\"text-align: right;\">\n",
       "      <th></th>\n",
       "      <th>property_type</th>\n",
       "      <th>place_name</th>\n",
       "      <th>state_name</th>\n",
       "      <th>price_aprox_usd</th>\n",
       "      <th>surface_total_in_m2</th>\n",
       "      <th>surface_covered_in_m2</th>\n",
       "      <th>price_usd_per_m2</th>\n",
       "      <th>price_per_m2</th>\n",
       "      <th>floor</th>\n",
       "      <th>rooms</th>\n",
       "      <th>expenses</th>\n",
       "      <th>centro_urbano</th>\n",
       "      <th>pileta</th>\n",
       "      <th>parrilla</th>\n",
       "      <th>quincho</th>\n",
       "      <th>patio</th>\n",
       "      <th>cochera</th>\n",
       "      <th>balcon</th>\n",
       "      <th>amenities</th>\n",
       "    </tr>\n",
       "  </thead>\n",
       "  <tbody>\n",
       "    <tr>\n",
       "      <th>54240</th>\n",
       "      <td>APARTMENT</td>\n",
       "      <td>ROSARIO</td>\n",
       "      <td>SANTA FE</td>\n",
       "      <td>60794.7</td>\n",
       "      <td>30.0</td>\n",
       "      <td>30.0</td>\n",
       "      <td>2026.490000</td>\n",
       "      <td>36133.333333</td>\n",
       "      <td>NaN</td>\n",
       "      <td>NaN</td>\n",
       "      <td>NaN</td>\n",
       "      <td>SANTA FE</td>\n",
       "      <td>1</td>\n",
       "      <td>0</td>\n",
       "      <td>1</td>\n",
       "      <td>0</td>\n",
       "      <td>0</td>\n",
       "      <td>0</td>\n",
       "      <td>2</td>\n",
       "    </tr>\n",
       "    <tr>\n",
       "      <th>48521</th>\n",
       "      <td>APARTMENT</td>\n",
       "      <td>OLIVOS</td>\n",
       "      <td>BS.AS. G.B.A. ZONA NORTE</td>\n",
       "      <td>220000.0</td>\n",
       "      <td>57.0</td>\n",
       "      <td>44.0</td>\n",
       "      <td>3859.649123</td>\n",
       "      <td>5000.000000</td>\n",
       "      <td>NaN</td>\n",
       "      <td>NaN</td>\n",
       "      <td>NaN</td>\n",
       "      <td>BS.AS. G.B.A. ZONA NORTE</td>\n",
       "      <td>0</td>\n",
       "      <td>0</td>\n",
       "      <td>0</td>\n",
       "      <td>0</td>\n",
       "      <td>1</td>\n",
       "      <td>0</td>\n",
       "      <td>1</td>\n",
       "    </tr>\n",
       "    <tr>\n",
       "      <th>6292</th>\n",
       "      <td>HOUSE</td>\n",
       "      <td>ESCOBAR</td>\n",
       "      <td>BS.AS. G.B.A. ZONA NORTE</td>\n",
       "      <td>332000.0</td>\n",
       "      <td>221.0</td>\n",
       "      <td>221.0</td>\n",
       "      <td>1502.262443</td>\n",
       "      <td>1502.262443</td>\n",
       "      <td>NaN</td>\n",
       "      <td>NaN</td>\n",
       "      <td>NaN</td>\n",
       "      <td>BS.AS. G.B.A. ZONA NORTE</td>\n",
       "      <td>0</td>\n",
       "      <td>0</td>\n",
       "      <td>0</td>\n",
       "      <td>0</td>\n",
       "      <td>0</td>\n",
       "      <td>0</td>\n",
       "      <td>0</td>\n",
       "    </tr>\n",
       "  </tbody>\n",
       "</table>\n",
       "</div>"
      ],
      "text/plain": [
       "      property_type place_name                state_name  price_aprox_usd  \\\n",
       "54240     APARTMENT    ROSARIO                  SANTA FE          60794.7   \n",
       "48521     APARTMENT     OLIVOS  BS.AS. G.B.A. ZONA NORTE         220000.0   \n",
       "6292          HOUSE    ESCOBAR  BS.AS. G.B.A. ZONA NORTE         332000.0   \n",
       "\n",
       "       surface_total_in_m2  surface_covered_in_m2  price_usd_per_m2  \\\n",
       "54240                 30.0                   30.0       2026.490000   \n",
       "48521                 57.0                   44.0       3859.649123   \n",
       "6292                 221.0                  221.0       1502.262443   \n",
       "\n",
       "       price_per_m2  floor  rooms  expenses             centro_urbano  pileta  \\\n",
       "54240  36133.333333    NaN    NaN       NaN                  SANTA FE       1   \n",
       "48521   5000.000000    NaN    NaN       NaN  BS.AS. G.B.A. ZONA NORTE       0   \n",
       "6292    1502.262443    NaN    NaN       NaN  BS.AS. G.B.A. ZONA NORTE       0   \n",
       "\n",
       "       parrilla  quincho  patio  cochera  balcon  amenities  \n",
       "54240         0        1      0        0       0          2  \n",
       "48521         0        0      0        1       0          1  \n",
       "6292          0        0      0        0       0          0  "
      ]
     },
     "metadata": {},
     "output_type": "display_data"
    }
   ],
   "source": [
    "# Para evitar inconvenientes en el análisis pasamos todos los strings a uppercase():\n",
    "data = data.applymap(lambda x: x.upper() if type(x) == str else x)\n",
    "display(data.sample(3))"
   ]
  },
  {
   "cell_type": "code",
   "execution_count": 364,
   "metadata": {},
   "outputs": [
    {
     "data": {
      "text/plain": [
       "property_type             0.00\n",
       "place_name                0.03\n",
       "state_name                0.00\n",
       "price_aprox_usd           0.00\n",
       "surface_total_in_m2       0.00\n",
       "surface_covered_in_m2     7.82\n",
       "price_usd_per_m2          0.00\n",
       "price_per_m2              7.82\n",
       "floor                    95.11\n",
       "rooms                    54.77\n",
       "expenses                 83.17\n",
       "centro_urbano             0.00\n",
       "pileta                    0.00\n",
       "parrilla                  0.00\n",
       "quincho                   0.00\n",
       "patio                     0.00\n",
       "cochera                   0.00\n",
       "balcon                    0.00\n",
       "amenities                 0.00\n",
       "dtype: float64"
      ]
     },
     "execution_count": 364,
     "metadata": {},
     "output_type": "execute_result"
    }
   ],
   "source": [
    "# Porcentaje de nulos por columnas:\n",
    "(data.isnull().sum()/data.shape[0]*100).round(2)"
   ]
  },
  {
   "cell_type": "markdown",
   "metadata": {},
   "source": [
    "---\n",
    "<a id=\"section_relaciones\"></a> \n",
    "## Relaciones\n",
    "\n",
    "[volver a TOC](#section_toc)"
   ]
  },
  {
   "cell_type": "markdown",
   "metadata": {},
   "source": [
    "Veamos mediante una matriz de correlaciones las posibles correlaciones entre las diferentes variables que pueden resultar útiles para el modelo:"
   ]
  },
  {
   "cell_type": "code",
   "execution_count": 365,
   "metadata": {},
   "outputs": [
    {
     "data": {
      "image/png": "[encoded data removed]",
      "text/plain": [
       "<Figure size 648x432 with 2 Axes>"
      ]
     },
     "metadata": {
      "needs_background": "light"
     },
     "output_type": "display_data"
    }
   ],
   "source": [
    "# Graficamos un heatmap con las variables numericas que pueden resultar útiles para el modelo:\n",
    "data_numerico_mask = data[['surface_total_in_m2', 'surface_covered_in_m2', 'rooms', 'expenses', 'price_aprox_usd', 'price_usd_per_m2', 'amenities']]\n",
    "\n",
    "plt.figure(figsize=(9,6))\n",
    "sns.heatmap(data_numerico_mask.corr(), annot=True, vmin=-1, cmap='Oranges').set_title('Mapa de covarianza de variables numericas');"
   ]
  },
  {
   "cell_type": "markdown",
   "metadata": {},
   "source": [
    "#### Analizamos la relación de las variables contínuas mas relevantes\n",
    "[volver a TOC](#section_toc)"
   ]
  },
  {
   "cell_type": "code",
   "execution_count": 366,
   "metadata": {},
   "outputs": [
    {
     "data": {
      "text/plain": [
       "(0.0, 7923.390014810532)"
      ]
     },
     "execution_count": 366,
     "metadata": {},
     "output_type": "execute_result"
    },
    {
     "data": {
      "image/png": "[encoded data removed]",
      "text/plain": [
       "<Figure size 432x288 with 1 Axes>"
      ]
     },
     "metadata": {
      "needs_background": "light"
     },
     "output_type": "display_data"
    }
   ],
   "source": [
    "# Graficamos una recta de regresión de la variable surface_total_in_m2:\n",
    "sns.regplot(data.surface_total_in_m2, data.price_usd_per_m2, order=1, ci=None, scatter_kws={'color':'r', 's':9,'alpha':.3})\n",
    "plt.xlim(-10,5000)\n",
    "plt.ylim(bottom=0)"
   ]
  },
  {
   "cell_type": "code",
   "execution_count": 367,
   "metadata": {},
   "outputs": [
    {
     "data": {
      "text/plain": [
       "(0.0, 7509.694278450957)"
      ]
     },
     "execution_count": 367,
     "metadata": {},
     "output_type": "execute_result"
    },
    {
     "data": {
      "image/png": "[encoded data removed]",
      "text/plain": [
       "<Figure size 432x288 with 1 Axes>"
      ]
     },
     "metadata": {
      "needs_background": "light"
     },
     "output_type": "display_data"
    }
   ],
   "source": [
    "# Graficamos una recta de regresión de la variable surface_covered_in_m2:\n",
    "sns.regplot(data.surface_covered_in_m2, data.price_usd_per_m2, order=1, ci=None, scatter_kws={'color':'r', 's':9, 'alpha':.3})\n",
    "plt.xlim(-10,5000)\n",
    "plt.ylim(bottom=0)"
   ]
  },
  {
   "cell_type": "code",
   "execution_count": 368,
   "metadata": {},
   "outputs": [
    {
     "data": {
      "text/plain": [
       "(0.0, 6427.900145016259)"
      ]
     },
     "execution_count": 368,
     "metadata": {},
     "output_type": "execute_result"
    },
    {
     "data": {
      "image/png": "[encoded data removed]",
      "text/plain": [
       "<Figure size 432x288 with 1 Axes>"
      ]
     },
     "metadata": {
      "needs_background": "light"
     },
     "output_type": "display_data"
    }
   ],
   "source": [
    "# Graficamos una recta de regresión de la variable rooms:\n",
    "sns.regplot(data.rooms, data.price_usd_per_m2, order=1, ci=None, scatter_kws={'color':'r', 's':9,'alpha':.3})\n",
    "plt.xlim(0,20)\n",
    "plt.ylim(bottom=0)"
   ]
  },
  {
   "cell_type": "markdown",
   "metadata": {},
   "source": [
    "Podemos ver que las variables que \"mas aportan\" al modelo pueden ser, superficie y rooms"
   ]
  },
  {
   "cell_type": "markdown",
   "metadata": {},
   "source": [
    "#### Analizamos la relación de las variables discretas/categóricas mas relevantes\n",
    "[volver a TOC](#section_toc)"
   ]
  },
  {
   "cell_type": "code",
   "execution_count": 369,
   "metadata": {},
   "outputs": [
    {
     "data": {
      "image/png": "[encoded data removed]",
      "text/plain": [
       "<Figure size 2160x504 with 1 Axes>"
      ]
     },
     "metadata": {
      "needs_background": "light"
     },
     "output_type": "display_data"
    }
   ],
   "source": [
    "# Analizamos la distribución de las variables categoricas para verificar cuales podrían aportar mayor información al modelo:\n",
    "plt.figure(figsize=(30,7))\n",
    "sns.boxplot(x='centro_urbano', y='price_usd_per_m2', data=data, showmeans=True, meanprops={'marker':'x','markeredgecolor':'w'}).set_title('Boxplot de la variable centro urbano');"
   ]
  },
  {
   "cell_type": "code",
   "execution_count": 370,
   "metadata": {},
   "outputs": [
    {
     "data": {
      "image/png": "[encoded data removed]",
      "text/plain": [
       "<Figure size 1080x360 with 1 Axes>"
      ]
     },
     "metadata": {
      "needs_background": "light"
     },
     "output_type": "display_data"
    }
   ],
   "source": [
    "plt.figure(figsize=(15,5))\n",
    "sns.boxplot(x='property_type', y='price_usd_per_m2', data=data, showmeans=True, meanprops={'marker':'x','markeredgecolor':'w'}).set_title('Boxplot de la variable property type');"
   ]
  },
  {
   "cell_type": "code",
   "execution_count": 371,
   "metadata": {},
   "outputs": [
    {
     "data": {
      "image/png": "[encoded data removed]",
      "text/plain": [
       "<Figure size 2160x576 with 1 Axes>"
      ]
     },
     "metadata": {
      "needs_background": "light"
     },
     "output_type": "display_data"
    }
   ],
   "source": [
    "plt.figure(figsize=(30,8))\n",
    "sns.boxplot(x='state_name', y='price_usd_per_m2', data=data, showmeans=True, meanprops={'marker':'x','markeredgecolor':'w'}).set_title('Boxplot de la variable state_name');"
   ]
  },
  {
   "cell_type": "markdown",
   "metadata": {},
   "source": [
    "Podemos ver que existe una gran dispersión de las medías por lo que cuanto mayor es la diferencia en el promedio entre las variables, mas va a aportar al modelo"
   ]
  },
  {
   "cell_type": "markdown",
   "metadata": {},
   "source": [
    "Gráficos de algunas otras variables categóricas:"
   ]
  },
  {
   "cell_type": "code",
   "execution_count": 372,
   "metadata": {},
   "outputs": [
    {
     "data": {
      "image/png": "[encoded data removed]",
      "text/plain": [
       "<Figure size 1080x360 with 1 Axes>"
      ]
     },
     "metadata": {
      "needs_background": "light"
     },
     "output_type": "display_data"
    },
    {
     "data": {
      "image/png": "[encoded data removed]",
      "text/plain": [
       "<Figure size 360x360 with 1 Axes>"
      ]
     },
     "metadata": {
      "needs_background": "light"
     },
     "output_type": "display_data"
    },
    {
     "data": {
      "image/png": "[encoded data removed]",
      "text/plain": [
       "<Figure size 360x360 with 1 Axes>"
      ]
     },
     "metadata": {
      "needs_background": "light"
     },
     "output_type": "display_data"
    },
    {
     "data": {
      "image/png": "[encoded data removed]",
      "text/plain": [
       "<Figure size 360x360 with 1 Axes>"
      ]
     },
     "metadata": {
      "needs_background": "light"
     },
     "output_type": "display_data"
    },
    {
     "data": {
      "image/png": "[encoded data removed]",
      "text/plain": [
       "<Figure size 360x360 with 1 Axes>"
      ]
     },
     "metadata": {
      "needs_background": "light"
     },
     "output_type": "display_data"
    },
    {
     "data": {
      "image/png": "[encoded data removed]",
      "text/plain": [
       "<Figure size 360x360 with 1 Axes>"
      ]
     },
     "metadata": {
      "needs_background": "light"
     },
     "output_type": "display_data"
    },
    {
     "data": {
      "image/png": "[encoded data removed]",
      "text/plain": [
       "<Figure size 360x360 with 1 Axes>"
      ]
     },
     "metadata": {
      "needs_background": "light"
     },
     "output_type": "display_data"
    },
    {
     "data": {
      "image/png": "[encoded data removed]",
      "text/plain": [
       "<Figure size 360x360 with 1 Axes>"
      ]
     },
     "metadata": {
      "needs_background": "light"
     },
     "output_type": "display_data"
    }
   ],
   "source": [
    "plt.figure(figsize=(15,5))\n",
    "sns.boxplot(x = 'rooms', y = 'price_usd_per_m2', data=data,\n",
    "           showmeans=True, meanprops={'marker':'x','markeredgecolor':'w'}).set_title('Boxplot de la variable rooms');\n",
    "plt.figure(figsize=(5,5))\n",
    "sns.boxplot(x = 'pileta', y = 'price_usd_per_m2', data=data,\n",
    "           showmeans=True, meanprops={'marker':'x','markeredgecolor':'w'}).set_title('Boxplot de la variable pileta');\n",
    "plt.figure(figsize=(5,5))\n",
    "sns.boxplot(x = 'parrilla', y = 'price_usd_per_m2', data=data,\n",
    "           showmeans=True, meanprops={'marker':'x','markeredgecolor':'w'}).set_title('Boxplot de la variable parrilla');\n",
    "plt.figure(figsize=(5,5))\n",
    "sns.boxplot(x = 'quincho', y = 'price_usd_per_m2', data=data,\n",
    "           showmeans=True, meanprops={'marker':'x','markeredgecolor':'w'}).set_title('Boxplot de la variable quincho');\n",
    "plt.figure(figsize=(5,5))\n",
    "sns.boxplot(x = 'patio', y = 'price_usd_per_m2', data=data,\n",
    "           showmeans=True, meanprops={'marker':'x','markeredgecolor':'w'}).set_title('Boxplot de la variable patio');\n",
    "plt.figure(figsize=(5,5))\n",
    "sns.boxplot(x = 'cochera', y = 'price_usd_per_m2', data=data,\n",
    "           showmeans=True, meanprops={'marker':'x','markeredgecolor':'w'}).set_title('Boxplot de la variable cochera');\n",
    "plt.figure(figsize=(5,5))\n",
    "sns.boxplot(x = 'balcon', y = 'price_usd_per_m2', data=data,\n",
    "           showmeans=True, meanprops={'marker':'x','markeredgecolor':'w'}).set_title('Boxplot de la variable balcon');\n",
    "plt.figure(figsize=(5,5))\n",
    "sns.boxplot(x = 'amenities', y = 'price_usd_per_m2', data=data,\n",
    "           showmeans=True, meanprops={'marker':'x','markeredgecolor':'w'}).set_title('Boxplot de la variable amenities');"
   ]
  },
  {
   "cell_type": "markdown",
   "metadata": {},
   "source": [
    "---\n",
    "<a id=\"section_dummies\"></a> \n",
    "## Creación de variables Dummies\n",
    "\n",
    "[volver a TOC](#section_toc)"
   ]
  },
  {
   "cell_type": "code",
   "execution_count": 373,
   "metadata": {},
   "outputs": [
    {
     "data": {
      "text/html": [
       "<div>\n",
       "<style scoped>\n",
       "    .dataframe tbody tr th:only-of-type {\n",
       "        vertical-align: middle;\n",
       "    }\n",
       "\n",
       "    .dataframe tbody tr th {\n",
       "        vertical-align: top;\n",
       "    }\n",
       "\n",
       "    .dataframe thead th {\n",
       "        text-align: right;\n",
       "    }\n",
       "</style>\n",
       "<table border=\"1\" class=\"dataframe\">\n",
       "  <thead>\n",
       "    <tr style=\"text-align: right;\">\n",
       "      <th></th>\n",
       "      <th>property_type</th>\n",
       "      <th>place_name</th>\n",
       "      <th>state_name</th>\n",
       "      <th>price_aprox_usd</th>\n",
       "      <th>surface_total_in_m2</th>\n",
       "      <th>surface_covered_in_m2</th>\n",
       "      <th>price_usd_per_m2</th>\n",
       "      <th>price_per_m2</th>\n",
       "      <th>floor</th>\n",
       "      <th>rooms</th>\n",
       "      <th>expenses</th>\n",
       "      <th>centro_urbano</th>\n",
       "      <th>pileta</th>\n",
       "      <th>parrilla</th>\n",
       "      <th>quincho</th>\n",
       "      <th>patio</th>\n",
       "      <th>cochera</th>\n",
       "      <th>balcon</th>\n",
       "      <th>amenities</th>\n",
       "      <th>dummy_BS.AS. G.B.A. ZONA OESTE</th>\n",
       "      <th>dummy_BS.AS. G.B.A. ZONA SUR</th>\n",
       "      <th>dummy_BUENOS AIRES COSTA ATLÁNTICA</th>\n",
       "      <th>dummy_BUENOS AIRES INTERIOR</th>\n",
       "      <th>dummy_CAPITAL FEDERAL</th>\n",
       "      <th>dummy_CÓRDOBA</th>\n",
       "      <th>dummy_MENDOZA</th>\n",
       "      <th>dummy_RESTO DEL PAIS</th>\n",
       "      <th>dummy_SANTA FE</th>\n",
       "    </tr>\n",
       "  </thead>\n",
       "  <tbody>\n",
       "    <tr>\n",
       "      <th>0</th>\n",
       "      <td>PH</td>\n",
       "      <td>MATADEROS</td>\n",
       "      <td>CAPITAL FEDERAL</td>\n",
       "      <td>62000.0</td>\n",
       "      <td>55.0</td>\n",
       "      <td>40.0</td>\n",
       "      <td>1127.272727</td>\n",
       "      <td>1550.000000</td>\n",
       "      <td>NaN</td>\n",
       "      <td>2.0</td>\n",
       "      <td>NaN</td>\n",
       "      <td>CAPITAL FEDERAL</td>\n",
       "      <td>0</td>\n",
       "      <td>0</td>\n",
       "      <td>0</td>\n",
       "      <td>1</td>\n",
       "      <td>0</td>\n",
       "      <td>0</td>\n",
       "      <td>1</td>\n",
       "      <td>0</td>\n",
       "      <td>0</td>\n",
       "      <td>0</td>\n",
       "      <td>0</td>\n",
       "      <td>1</td>\n",
       "      <td>0</td>\n",
       "      <td>0</td>\n",
       "      <td>0</td>\n",
       "      <td>0</td>\n",
       "    </tr>\n",
       "    <tr>\n",
       "      <th>1</th>\n",
       "      <td>APARTMENT</td>\n",
       "      <td>MATADEROS</td>\n",
       "      <td>CAPITAL FEDERAL</td>\n",
       "      <td>72000.0</td>\n",
       "      <td>55.0</td>\n",
       "      <td>55.0</td>\n",
       "      <td>1309.090909</td>\n",
       "      <td>1309.090909</td>\n",
       "      <td>NaN</td>\n",
       "      <td>2.0</td>\n",
       "      <td>NaN</td>\n",
       "      <td>CAPITAL FEDERAL</td>\n",
       "      <td>0</td>\n",
       "      <td>0</td>\n",
       "      <td>0</td>\n",
       "      <td>0</td>\n",
       "      <td>0</td>\n",
       "      <td>0</td>\n",
       "      <td>0</td>\n",
       "      <td>0</td>\n",
       "      <td>0</td>\n",
       "      <td>0</td>\n",
       "      <td>0</td>\n",
       "      <td>1</td>\n",
       "      <td>0</td>\n",
       "      <td>0</td>\n",
       "      <td>0</td>\n",
       "      <td>0</td>\n",
       "    </tr>\n",
       "  </tbody>\n",
       "</table>\n",
       "</div>"
      ],
      "text/plain": [
       "  property_type place_name       state_name  price_aprox_usd  \\\n",
       "0            PH  MATADEROS  CAPITAL FEDERAL          62000.0   \n",
       "1     APARTMENT  MATADEROS  CAPITAL FEDERAL          72000.0   \n",
       "\n",
       "   surface_total_in_m2  surface_covered_in_m2  price_usd_per_m2  price_per_m2  \\\n",
       "0                 55.0                   40.0       1127.272727   1550.000000   \n",
       "1                 55.0                   55.0       1309.090909   1309.090909   \n",
       "\n",
       "   floor  rooms  expenses    centro_urbano  pileta  parrilla  quincho  patio  \\\n",
       "0    NaN    2.0       NaN  CAPITAL FEDERAL       0         0        0      1   \n",
       "1    NaN    2.0       NaN  CAPITAL FEDERAL       0         0        0      0   \n",
       "\n",
       "   cochera  balcon  amenities  dummy_BS.AS. G.B.A. ZONA OESTE  \\\n",
       "0        0       0          1                               0   \n",
       "1        0       0          0                               0   \n",
       "\n",
       "   dummy_BS.AS. G.B.A. ZONA SUR  dummy_BUENOS AIRES COSTA ATLÁNTICA  \\\n",
       "0                             0                                   0   \n",
       "1                             0                                   0   \n",
       "\n",
       "   dummy_BUENOS AIRES INTERIOR  dummy_CAPITAL FEDERAL  dummy_CÓRDOBA  \\\n",
       "0                            0                      1              0   \n",
       "1                            0                      1              0   \n",
       "\n",
       "   dummy_MENDOZA  dummy_RESTO DEL PAIS  dummy_SANTA FE  \n",
       "0              0                     0               0  \n",
       "1              0                     0               0  "
      ]
     },
     "execution_count": 373,
     "metadata": {},
     "output_type": "execute_result"
    }
   ],
   "source": [
    "#mTransformamos la variable centro_urbano en variable dummies:\n",
    "centrourbano_dummies = pd.get_dummies(data.centro_urbano, drop_first = True, prefix='dummy')\n",
    "data = pd.concat([data, centrourbano_dummies], axis=1, sort=False)\n",
    "data.head(2)"
   ]
  },
  {
   "cell_type": "code",
   "execution_count": 374,
   "metadata": {},
   "outputs": [
    {
     "data": {
      "text/html": [
       "<div>\n",
       "<style scoped>\n",
       "    .dataframe tbody tr th:only-of-type {\n",
       "        vertical-align: middle;\n",
       "    }\n",
       "\n",
       "    .dataframe tbody tr th {\n",
       "        vertical-align: top;\n",
       "    }\n",
       "\n",
       "    .dataframe thead th {\n",
       "        text-align: right;\n",
       "    }\n",
       "</style>\n",
       "<table border=\"1\" class=\"dataframe\">\n",
       "  <thead>\n",
       "    <tr style=\"text-align: right;\">\n",
       "      <th></th>\n",
       "      <th>property_type</th>\n",
       "      <th>place_name</th>\n",
       "      <th>state_name</th>\n",
       "      <th>price_aprox_usd</th>\n",
       "      <th>surface_total_in_m2</th>\n",
       "      <th>surface_covered_in_m2</th>\n",
       "      <th>price_usd_per_m2</th>\n",
       "      <th>price_per_m2</th>\n",
       "      <th>floor</th>\n",
       "      <th>rooms</th>\n",
       "      <th>expenses</th>\n",
       "      <th>centro_urbano</th>\n",
       "      <th>pileta</th>\n",
       "      <th>parrilla</th>\n",
       "      <th>quincho</th>\n",
       "      <th>patio</th>\n",
       "      <th>cochera</th>\n",
       "      <th>balcon</th>\n",
       "      <th>amenities</th>\n",
       "      <th>dummy_BS.AS. G.B.A. ZONA OESTE</th>\n",
       "      <th>dummy_BS.AS. G.B.A. ZONA SUR</th>\n",
       "      <th>dummy_BUENOS AIRES COSTA ATLÁNTICA</th>\n",
       "      <th>dummy_BUENOS AIRES INTERIOR</th>\n",
       "      <th>dummy_CAPITAL FEDERAL</th>\n",
       "      <th>dummy_CÓRDOBA</th>\n",
       "      <th>dummy_MENDOZA</th>\n",
       "      <th>dummy_RESTO DEL PAIS</th>\n",
       "      <th>dummy_SANTA FE</th>\n",
       "      <th>dummy_HOUSE</th>\n",
       "      <th>dummy_PH</th>\n",
       "      <th>dummy_STORE</th>\n",
       "    </tr>\n",
       "  </thead>\n",
       "  <tbody>\n",
       "    <tr>\n",
       "      <th>0</th>\n",
       "      <td>PH</td>\n",
       "      <td>MATADEROS</td>\n",
       "      <td>CAPITAL FEDERAL</td>\n",
       "      <td>62000.0</td>\n",
       "      <td>55.0</td>\n",
       "      <td>40.0</td>\n",
       "      <td>1127.272727</td>\n",
       "      <td>1550.000000</td>\n",
       "      <td>NaN</td>\n",
       "      <td>2.0</td>\n",
       "      <td>NaN</td>\n",
       "      <td>CAPITAL FEDERAL</td>\n",
       "      <td>0</td>\n",
       "      <td>0</td>\n",
       "      <td>0</td>\n",
       "      <td>1</td>\n",
       "      <td>0</td>\n",
       "      <td>0</td>\n",
       "      <td>1</td>\n",
       "      <td>0</td>\n",
       "      <td>0</td>\n",
       "      <td>0</td>\n",
       "      <td>0</td>\n",
       "      <td>1</td>\n",
       "      <td>0</td>\n",
       "      <td>0</td>\n",
       "      <td>0</td>\n",
       "      <td>0</td>\n",
       "      <td>0</td>\n",
       "      <td>1</td>\n",
       "      <td>0</td>\n",
       "    </tr>\n",
       "    <tr>\n",
       "      <th>1</th>\n",
       "      <td>APARTMENT</td>\n",
       "      <td>MATADEROS</td>\n",
       "      <td>CAPITAL FEDERAL</td>\n",
       "      <td>72000.0</td>\n",
       "      <td>55.0</td>\n",
       "      <td>55.0</td>\n",
       "      <td>1309.090909</td>\n",
       "      <td>1309.090909</td>\n",
       "      <td>NaN</td>\n",
       "      <td>2.0</td>\n",
       "      <td>NaN</td>\n",
       "      <td>CAPITAL FEDERAL</td>\n",
       "      <td>0</td>\n",
       "      <td>0</td>\n",
       "      <td>0</td>\n",
       "      <td>0</td>\n",
       "      <td>0</td>\n",
       "      <td>0</td>\n",
       "      <td>0</td>\n",
       "      <td>0</td>\n",
       "      <td>0</td>\n",
       "      <td>0</td>\n",
       "      <td>0</td>\n",
       "      <td>1</td>\n",
       "      <td>0</td>\n",
       "      <td>0</td>\n",
       "      <td>0</td>\n",
       "      <td>0</td>\n",
       "      <td>0</td>\n",
       "      <td>0</td>\n",
       "      <td>0</td>\n",
       "    </tr>\n",
       "  </tbody>\n",
       "</table>\n",
       "</div>"
      ],
      "text/plain": [
       "  property_type place_name       state_name  price_aprox_usd  \\\n",
       "0            PH  MATADEROS  CAPITAL FEDERAL          62000.0   \n",
       "1     APARTMENT  MATADEROS  CAPITAL FEDERAL          72000.0   \n",
       "\n",
       "   surface_total_in_m2  surface_covered_in_m2  price_usd_per_m2  price_per_m2  \\\n",
       "0                 55.0                   40.0       1127.272727   1550.000000   \n",
       "1                 55.0                   55.0       1309.090909   1309.090909   \n",
       "\n",
       "   floor  rooms  expenses    centro_urbano  pileta  parrilla  quincho  patio  \\\n",
       "0    NaN    2.0       NaN  CAPITAL FEDERAL       0         0        0      1   \n",
       "1    NaN    2.0       NaN  CAPITAL FEDERAL       0         0        0      0   \n",
       "\n",
       "   cochera  balcon  amenities  dummy_BS.AS. G.B.A. ZONA OESTE  \\\n",
       "0        0       0          1                               0   \n",
       "1        0       0          0                               0   \n",
       "\n",
       "   dummy_BS.AS. G.B.A. ZONA SUR  dummy_BUENOS AIRES COSTA ATLÁNTICA  \\\n",
       "0                             0                                   0   \n",
       "1                             0                                   0   \n",
       "\n",
       "   dummy_BUENOS AIRES INTERIOR  dummy_CAPITAL FEDERAL  dummy_CÓRDOBA  \\\n",
       "0                            0                      1              0   \n",
       "1                            0                      1              0   \n",
       "\n",
       "   dummy_MENDOZA  dummy_RESTO DEL PAIS  dummy_SANTA FE  dummy_HOUSE  dummy_PH  \\\n",
       "0              0                     0               0            0         1   \n",
       "1              0                     0               0            0         0   \n",
       "\n",
       "   dummy_STORE  \n",
       "0            0  \n",
       "1            0  "
      ]
     },
     "execution_count": 374,
     "metadata": {},
     "output_type": "execute_result"
    }
   ],
   "source": [
    "# Transformamos la variable property_type en variable dummies:\n",
    "property_type_dummies = pd.get_dummies(data.property_type, drop_first = True, prefix='dummy')\n",
    "data = pd.concat([data, property_type_dummies], axis=1, sort=False)\n",
    "data.head(2)"
   ]
  },
  {
   "cell_type": "code",
   "execution_count": 375,
   "metadata": {},
   "outputs": [
    {
     "data": {
      "text/html": [
       "<div>\n",
       "<style scoped>\n",
       "    .dataframe tbody tr th:only-of-type {\n",
       "        vertical-align: middle;\n",
       "    }\n",
       "\n",
       "    .dataframe tbody tr th {\n",
       "        vertical-align: top;\n",
       "    }\n",
       "\n",
       "    .dataframe thead th {\n",
       "        text-align: right;\n",
       "    }\n",
       "</style>\n",
       "<table border=\"1\" class=\"dataframe\">\n",
       "  <thead>\n",
       "    <tr style=\"text-align: right;\">\n",
       "      <th></th>\n",
       "      <th>property_type</th>\n",
       "      <th>place_name</th>\n",
       "      <th>state_name</th>\n",
       "      <th>price_aprox_usd</th>\n",
       "      <th>surface_total_in_m2</th>\n",
       "      <th>surface_covered_in_m2</th>\n",
       "      <th>price_usd_per_m2</th>\n",
       "      <th>price_per_m2</th>\n",
       "      <th>floor</th>\n",
       "      <th>rooms</th>\n",
       "      <th>expenses</th>\n",
       "      <th>centro_urbano</th>\n",
       "      <th>pileta</th>\n",
       "      <th>parrilla</th>\n",
       "      <th>quincho</th>\n",
       "      <th>patio</th>\n",
       "      <th>cochera</th>\n",
       "      <th>balcon</th>\n",
       "      <th>amenities</th>\n",
       "      <th>dummy_BS.AS. G.B.A. ZONA OESTE</th>\n",
       "      <th>dummy_BS.AS. G.B.A. ZONA SUR</th>\n",
       "      <th>dummy_BUENOS AIRES COSTA ATLÁNTICA</th>\n",
       "      <th>dummy_BUENOS AIRES INTERIOR</th>\n",
       "      <th>dummy_CAPITAL FEDERAL</th>\n",
       "      <th>dummy_CÓRDOBA</th>\n",
       "      <th>...</th>\n",
       "      <th>state_dummy__BUENOS AIRES COSTA ATLÁNTICA</th>\n",
       "      <th>state_dummy__BUENOS AIRES INTERIOR</th>\n",
       "      <th>state_dummy__CAPITAL FEDERAL</th>\n",
       "      <th>state_dummy__CATAMARCA</th>\n",
       "      <th>state_dummy__CHACO</th>\n",
       "      <th>state_dummy__CHUBUT</th>\n",
       "      <th>state_dummy__CORRIENTES</th>\n",
       "      <th>state_dummy__CÓRDOBA</th>\n",
       "      <th>state_dummy__ENTRE RÍOS</th>\n",
       "      <th>state_dummy__FORMOSA</th>\n",
       "      <th>state_dummy__JUJUY</th>\n",
       "      <th>state_dummy__LA PAMPA</th>\n",
       "      <th>state_dummy__LA RIOJA</th>\n",
       "      <th>state_dummy__MENDOZA</th>\n",
       "      <th>state_dummy__MISIONES</th>\n",
       "      <th>state_dummy__NEUQUÉN</th>\n",
       "      <th>state_dummy__RÍO NEGRO</th>\n",
       "      <th>state_dummy__SALTA</th>\n",
       "      <th>state_dummy__SAN JUAN</th>\n",
       "      <th>state_dummy__SAN LUIS</th>\n",
       "      <th>state_dummy__SANTA CRUZ</th>\n",
       "      <th>state_dummy__SANTA FE</th>\n",
       "      <th>state_dummy__SANTIAGO DEL ESTERO</th>\n",
       "      <th>state_dummy__TIERRA DEL FUEGO</th>\n",
       "      <th>state_dummy__TUCUMÁN</th>\n",
       "    </tr>\n",
       "  </thead>\n",
       "  <tbody>\n",
       "    <tr>\n",
       "      <th>0</th>\n",
       "      <td>PH</td>\n",
       "      <td>MATADEROS</td>\n",
       "      <td>CAPITAL FEDERAL</td>\n",
       "      <td>62000.0</td>\n",
       "      <td>55.0</td>\n",
       "      <td>40.0</td>\n",
       "      <td>1127.272727</td>\n",
       "      <td>1550.000000</td>\n",
       "      <td>NaN</td>\n",
       "      <td>2.0</td>\n",
       "      <td>NaN</td>\n",
       "      <td>CAPITAL FEDERAL</td>\n",
       "      <td>0</td>\n",
       "      <td>0</td>\n",
       "      <td>0</td>\n",
       "      <td>1</td>\n",
       "      <td>0</td>\n",
       "      <td>0</td>\n",
       "      <td>1</td>\n",
       "      <td>0</td>\n",
       "      <td>0</td>\n",
       "      <td>0</td>\n",
       "      <td>0</td>\n",
       "      <td>1</td>\n",
       "      <td>0</td>\n",
       "      <td>...</td>\n",
       "      <td>0</td>\n",
       "      <td>0</td>\n",
       "      <td>1</td>\n",
       "      <td>0</td>\n",
       "      <td>0</td>\n",
       "      <td>0</td>\n",
       "      <td>0</td>\n",
       "      <td>0</td>\n",
       "      <td>0</td>\n",
       "      <td>0</td>\n",
       "      <td>0</td>\n",
       "      <td>0</td>\n",
       "      <td>0</td>\n",
       "      <td>0</td>\n",
       "      <td>0</td>\n",
       "      <td>0</td>\n",
       "      <td>0</td>\n",
       "      <td>0</td>\n",
       "      <td>0</td>\n",
       "      <td>0</td>\n",
       "      <td>0</td>\n",
       "      <td>0</td>\n",
       "      <td>0</td>\n",
       "      <td>0</td>\n",
       "      <td>0</td>\n",
       "    </tr>\n",
       "    <tr>\n",
       "      <th>1</th>\n",
       "      <td>APARTMENT</td>\n",
       "      <td>MATADEROS</td>\n",
       "      <td>CAPITAL FEDERAL</td>\n",
       "      <td>72000.0</td>\n",
       "      <td>55.0</td>\n",
       "      <td>55.0</td>\n",
       "      <td>1309.090909</td>\n",
       "      <td>1309.090909</td>\n",
       "      <td>NaN</td>\n",
       "      <td>2.0</td>\n",
       "      <td>NaN</td>\n",
       "      <td>CAPITAL FEDERAL</td>\n",
       "      <td>0</td>\n",
       "      <td>0</td>\n",
       "      <td>0</td>\n",
       "      <td>0</td>\n",
       "      <td>0</td>\n",
       "      <td>0</td>\n",
       "      <td>0</td>\n",
       "      <td>0</td>\n",
       "      <td>0</td>\n",
       "      <td>0</td>\n",
       "      <td>0</td>\n",
       "      <td>1</td>\n",
       "      <td>0</td>\n",
       "      <td>...</td>\n",
       "      <td>0</td>\n",
       "      <td>0</td>\n",
       "      <td>1</td>\n",
       "      <td>0</td>\n",
       "      <td>0</td>\n",
       "      <td>0</td>\n",
       "      <td>0</td>\n",
       "      <td>0</td>\n",
       "      <td>0</td>\n",
       "      <td>0</td>\n",
       "      <td>0</td>\n",
       "      <td>0</td>\n",
       "      <td>0</td>\n",
       "      <td>0</td>\n",
       "      <td>0</td>\n",
       "      <td>0</td>\n",
       "      <td>0</td>\n",
       "      <td>0</td>\n",
       "      <td>0</td>\n",
       "      <td>0</td>\n",
       "      <td>0</td>\n",
       "      <td>0</td>\n",
       "      <td>0</td>\n",
       "      <td>0</td>\n",
       "      <td>0</td>\n",
       "    </tr>\n",
       "  </tbody>\n",
       "</table>\n",
       "<p>2 rows × 58 columns</p>\n",
       "</div>"
      ],
      "text/plain": [
       "  property_type place_name       state_name  price_aprox_usd  \\\n",
       "0            PH  MATADEROS  CAPITAL FEDERAL          62000.0   \n",
       "1     APARTMENT  MATADEROS  CAPITAL FEDERAL          72000.0   \n",
       "\n",
       "   surface_total_in_m2  surface_covered_in_m2  price_usd_per_m2  price_per_m2  \\\n",
       "0                 55.0                   40.0       1127.272727   1550.000000   \n",
       "1                 55.0                   55.0       1309.090909   1309.090909   \n",
       "\n",
       "   floor  rooms  expenses    centro_urbano  pileta  parrilla  quincho  patio  \\\n",
       "0    NaN    2.0       NaN  CAPITAL FEDERAL       0         0        0      1   \n",
       "1    NaN    2.0       NaN  CAPITAL FEDERAL       0         0        0      0   \n",
       "\n",
       "   cochera  balcon  amenities  dummy_BS.AS. G.B.A. ZONA OESTE  \\\n",
       "0        0       0          1                               0   \n",
       "1        0       0          0                               0   \n",
       "\n",
       "   dummy_BS.AS. G.B.A. ZONA SUR  dummy_BUENOS AIRES COSTA ATLÁNTICA  \\\n",
       "0                             0                                   0   \n",
       "1                             0                                   0   \n",
       "\n",
       "   dummy_BUENOS AIRES INTERIOR  dummy_CAPITAL FEDERAL  dummy_CÓRDOBA  ...  \\\n",
       "0                            0                      1              0  ...   \n",
       "1                            0                      1              0  ...   \n",
       "\n",
       "   state_dummy__BUENOS AIRES COSTA ATLÁNTICA  \\\n",
       "0                                          0   \n",
       "1                                          0   \n",
       "\n",
       "   state_dummy__BUENOS AIRES INTERIOR  state_dummy__CAPITAL FEDERAL  \\\n",
       "0                                   0                             1   \n",
       "1                                   0                             1   \n",
       "\n",
       "   state_dummy__CATAMARCA  state_dummy__CHACO  state_dummy__CHUBUT  \\\n",
       "0                       0                   0                    0   \n",
       "1                       0                   0                    0   \n",
       "\n",
       "   state_dummy__CORRIENTES  state_dummy__CÓRDOBA  state_dummy__ENTRE RÍOS  \\\n",
       "0                        0                     0                        0   \n",
       "1                        0                     0                        0   \n",
       "\n",
       "   state_dummy__FORMOSA  state_dummy__JUJUY  state_dummy__LA PAMPA  \\\n",
       "0                     0                   0                      0   \n",
       "1                     0                   0                      0   \n",
       "\n",
       "   state_dummy__LA RIOJA  state_dummy__MENDOZA  state_dummy__MISIONES  \\\n",
       "0                      0                     0                      0   \n",
       "1                      0                     0                      0   \n",
       "\n",
       "   state_dummy__NEUQUÉN  state_dummy__RÍO NEGRO  state_dummy__SALTA  \\\n",
       "0                     0                       0                   0   \n",
       "1                     0                       0                   0   \n",
       "\n",
       "   state_dummy__SAN JUAN  state_dummy__SAN LUIS  state_dummy__SANTA CRUZ  \\\n",
       "0                      0                      0                        0   \n",
       "1                      0                      0                        0   \n",
       "\n",
       "   state_dummy__SANTA FE  state_dummy__SANTIAGO DEL ESTERO  \\\n",
       "0                      0                                 0   \n",
       "1                      0                                 0   \n",
       "\n",
       "   state_dummy__TIERRA DEL FUEGO  state_dummy__TUCUMÁN  \n",
       "0                              0                     0  \n",
       "1                              0                     0  \n",
       "\n",
       "[2 rows x 58 columns]"
      ]
     },
     "execution_count": 375,
     "metadata": {},
     "output_type": "execute_result"
    }
   ],
   "source": [
    "# Transformamos la variable state_name en variable dummies:\n",
    "state_name_dummies = pd.get_dummies(data.state_name, drop_first = True, prefix='state_dummy_')\n",
    "data = pd.concat([data, state_name_dummies], axis=1, sort=False)\n",
    "data.head(2)"
   ]
  },
  {
   "cell_type": "code",
   "execution_count": 376,
   "metadata": {},
   "outputs": [
    {
     "data": {
      "text/html": [
       "<div>\n",
       "<style scoped>\n",
       "    .dataframe tbody tr th:only-of-type {\n",
       "        vertical-align: middle;\n",
       "    }\n",
       "\n",
       "    .dataframe tbody tr th {\n",
       "        vertical-align: top;\n",
       "    }\n",
       "\n",
       "    .dataframe thead th {\n",
       "        text-align: right;\n",
       "    }\n",
       "</style>\n",
       "<table border=\"1\" class=\"dataframe\">\n",
       "  <thead>\n",
       "    <tr style=\"text-align: right;\">\n",
       "      <th></th>\n",
       "      <th>property_type</th>\n",
       "      <th>place_name</th>\n",
       "      <th>state_name</th>\n",
       "      <th>price_aprox_usd</th>\n",
       "      <th>surface_total_in_m2</th>\n",
       "      <th>surface_covered_in_m2</th>\n",
       "      <th>price_usd_per_m2</th>\n",
       "      <th>price_per_m2</th>\n",
       "      <th>floor</th>\n",
       "      <th>rooms</th>\n",
       "      <th>expenses</th>\n",
       "      <th>centro_urbano</th>\n",
       "      <th>pileta</th>\n",
       "      <th>parrilla</th>\n",
       "      <th>quincho</th>\n",
       "      <th>patio</th>\n",
       "      <th>cochera</th>\n",
       "      <th>balcon</th>\n",
       "      <th>amenities</th>\n",
       "      <th>dummy_BS.AS. G.B.A. ZONA OESTE</th>\n",
       "      <th>dummy_BS.AS. G.B.A. ZONA SUR</th>\n",
       "      <th>dummy_BUENOS AIRES COSTA ATLÁNTICA</th>\n",
       "      <th>dummy_BUENOS AIRES INTERIOR</th>\n",
       "      <th>dummy_CAPITAL FEDERAL</th>\n",
       "      <th>dummy_CÓRDOBA</th>\n",
       "      <th>...</th>\n",
       "      <th>state_dummy__SALTA</th>\n",
       "      <th>state_dummy__SAN JUAN</th>\n",
       "      <th>state_dummy__SAN LUIS</th>\n",
       "      <th>state_dummy__SANTA CRUZ</th>\n",
       "      <th>state_dummy__SANTA FE</th>\n",
       "      <th>state_dummy__SANTIAGO DEL ESTERO</th>\n",
       "      <th>state_dummy__TIERRA DEL FUEGO</th>\n",
       "      <th>state_dummy__TUCUMÁN</th>\n",
       "      <th>rooms_dummy__2.0</th>\n",
       "      <th>rooms_dummy__3.0</th>\n",
       "      <th>rooms_dummy__4.0</th>\n",
       "      <th>rooms_dummy__5.0</th>\n",
       "      <th>rooms_dummy__6.0</th>\n",
       "      <th>rooms_dummy__7.0</th>\n",
       "      <th>rooms_dummy__8.0</th>\n",
       "      <th>rooms_dummy__9.0</th>\n",
       "      <th>rooms_dummy__10.0</th>\n",
       "      <th>rooms_dummy__11.0</th>\n",
       "      <th>rooms_dummy__12.0</th>\n",
       "      <th>rooms_dummy__13.0</th>\n",
       "      <th>rooms_dummy__14.0</th>\n",
       "      <th>rooms_dummy__15.0</th>\n",
       "      <th>rooms_dummy__16.0</th>\n",
       "      <th>rooms_dummy__22.0</th>\n",
       "      <th>rooms_dummy__32.0</th>\n",
       "    </tr>\n",
       "  </thead>\n",
       "  <tbody>\n",
       "    <tr>\n",
       "      <th>0</th>\n",
       "      <td>PH</td>\n",
       "      <td>MATADEROS</td>\n",
       "      <td>CAPITAL FEDERAL</td>\n",
       "      <td>62000.0</td>\n",
       "      <td>55.0</td>\n",
       "      <td>40.0</td>\n",
       "      <td>1127.272727</td>\n",
       "      <td>1550.000000</td>\n",
       "      <td>NaN</td>\n",
       "      <td>2.0</td>\n",
       "      <td>NaN</td>\n",
       "      <td>CAPITAL FEDERAL</td>\n",
       "      <td>0</td>\n",
       "      <td>0</td>\n",
       "      <td>0</td>\n",
       "      <td>1</td>\n",
       "      <td>0</td>\n",
       "      <td>0</td>\n",
       "      <td>1</td>\n",
       "      <td>0</td>\n",
       "      <td>0</td>\n",
       "      <td>0</td>\n",
       "      <td>0</td>\n",
       "      <td>1</td>\n",
       "      <td>0</td>\n",
       "      <td>...</td>\n",
       "      <td>0</td>\n",
       "      <td>0</td>\n",
       "      <td>0</td>\n",
       "      <td>0</td>\n",
       "      <td>0</td>\n",
       "      <td>0</td>\n",
       "      <td>0</td>\n",
       "      <td>0</td>\n",
       "      <td>1</td>\n",
       "      <td>0</td>\n",
       "      <td>0</td>\n",
       "      <td>0</td>\n",
       "      <td>0</td>\n",
       "      <td>0</td>\n",
       "      <td>0</td>\n",
       "      <td>0</td>\n",
       "      <td>0</td>\n",
       "      <td>0</td>\n",
       "      <td>0</td>\n",
       "      <td>0</td>\n",
       "      <td>0</td>\n",
       "      <td>0</td>\n",
       "      <td>0</td>\n",
       "      <td>0</td>\n",
       "      <td>0</td>\n",
       "    </tr>\n",
       "    <tr>\n",
       "      <th>1</th>\n",
       "      <td>APARTMENT</td>\n",
       "      <td>MATADEROS</td>\n",
       "      <td>CAPITAL FEDERAL</td>\n",
       "      <td>72000.0</td>\n",
       "      <td>55.0</td>\n",
       "      <td>55.0</td>\n",
       "      <td>1309.090909</td>\n",
       "      <td>1309.090909</td>\n",
       "      <td>NaN</td>\n",
       "      <td>2.0</td>\n",
       "      <td>NaN</td>\n",
       "      <td>CAPITAL FEDERAL</td>\n",
       "      <td>0</td>\n",
       "      <td>0</td>\n",
       "      <td>0</td>\n",
       "      <td>0</td>\n",
       "      <td>0</td>\n",
       "      <td>0</td>\n",
       "      <td>0</td>\n",
       "      <td>0</td>\n",
       "      <td>0</td>\n",
       "      <td>0</td>\n",
       "      <td>0</td>\n",
       "      <td>1</td>\n",
       "      <td>0</td>\n",
       "      <td>...</td>\n",
       "      <td>0</td>\n",
       "      <td>0</td>\n",
       "      <td>0</td>\n",
       "      <td>0</td>\n",
       "      <td>0</td>\n",
       "      <td>0</td>\n",
       "      <td>0</td>\n",
       "      <td>0</td>\n",
       "      <td>1</td>\n",
       "      <td>0</td>\n",
       "      <td>0</td>\n",
       "      <td>0</td>\n",
       "      <td>0</td>\n",
       "      <td>0</td>\n",
       "      <td>0</td>\n",
       "      <td>0</td>\n",
       "      <td>0</td>\n",
       "      <td>0</td>\n",
       "      <td>0</td>\n",
       "      <td>0</td>\n",
       "      <td>0</td>\n",
       "      <td>0</td>\n",
       "      <td>0</td>\n",
       "      <td>0</td>\n",
       "      <td>0</td>\n",
       "    </tr>\n",
       "  </tbody>\n",
       "</table>\n",
       "<p>2 rows × 75 columns</p>\n",
       "</div>"
      ],
      "text/plain": [
       "  property_type place_name       state_name  price_aprox_usd  \\\n",
       "0            PH  MATADEROS  CAPITAL FEDERAL          62000.0   \n",
       "1     APARTMENT  MATADEROS  CAPITAL FEDERAL          72000.0   \n",
       "\n",
       "   surface_total_in_m2  surface_covered_in_m2  price_usd_per_m2  price_per_m2  \\\n",
       "0                 55.0                   40.0       1127.272727   1550.000000   \n",
       "1                 55.0                   55.0       1309.090909   1309.090909   \n",
       "\n",
       "   floor  rooms  expenses    centro_urbano  pileta  parrilla  quincho  patio  \\\n",
       "0    NaN    2.0       NaN  CAPITAL FEDERAL       0         0        0      1   \n",
       "1    NaN    2.0       NaN  CAPITAL FEDERAL       0         0        0      0   \n",
       "\n",
       "   cochera  balcon  amenities  dummy_BS.AS. G.B.A. ZONA OESTE  \\\n",
       "0        0       0          1                               0   \n",
       "1        0       0          0                               0   \n",
       "\n",
       "   dummy_BS.AS. G.B.A. ZONA SUR  dummy_BUENOS AIRES COSTA ATLÁNTICA  \\\n",
       "0                             0                                   0   \n",
       "1                             0                                   0   \n",
       "\n",
       "   dummy_BUENOS AIRES INTERIOR  dummy_CAPITAL FEDERAL  dummy_CÓRDOBA  ...  \\\n",
       "0                            0                      1              0  ...   \n",
       "1                            0                      1              0  ...   \n",
       "\n",
       "   state_dummy__SALTA  state_dummy__SAN JUAN  state_dummy__SAN LUIS  \\\n",
       "0                   0                      0                      0   \n",
       "1                   0                      0                      0   \n",
       "\n",
       "   state_dummy__SANTA CRUZ  state_dummy__SANTA FE  \\\n",
       "0                        0                      0   \n",
       "1                        0                      0   \n",
       "\n",
       "   state_dummy__SANTIAGO DEL ESTERO  state_dummy__TIERRA DEL FUEGO  \\\n",
       "0                                 0                              0   \n",
       "1                                 0                              0   \n",
       "\n",
       "   state_dummy__TUCUMÁN  rooms_dummy__2.0  rooms_dummy__3.0  rooms_dummy__4.0  \\\n",
       "0                     0                 1                 0                 0   \n",
       "1                     0                 1                 0                 0   \n",
       "\n",
       "   rooms_dummy__5.0  rooms_dummy__6.0  rooms_dummy__7.0  rooms_dummy__8.0  \\\n",
       "0                 0                 0                 0                 0   \n",
       "1                 0                 0                 0                 0   \n",
       "\n",
       "   rooms_dummy__9.0  rooms_dummy__10.0  rooms_dummy__11.0  rooms_dummy__12.0  \\\n",
       "0                 0                  0                  0                  0   \n",
       "1                 0                  0                  0                  0   \n",
       "\n",
       "   rooms_dummy__13.0  rooms_dummy__14.0  rooms_dummy__15.0  rooms_dummy__16.0  \\\n",
       "0                  0                  0                  0                  0   \n",
       "1                  0                  0                  0                  0   \n",
       "\n",
       "   rooms_dummy__22.0  rooms_dummy__32.0  \n",
       "0                  0                  0  \n",
       "1                  0                  0  \n",
       "\n",
       "[2 rows x 75 columns]"
      ]
     },
     "execution_count": 376,
     "metadata": {},
     "output_type": "execute_result"
    }
   ],
   "source": [
    "# Transformamos la variable rooms en dummies:\n",
    "rooms_dummies = pd.get_dummies(data.rooms, drop_first = True, prefix='rooms_dummy_')\n",
    "data = pd.concat([data, rooms_dummies], axis=1, sort=False)\n",
    "data.head(2)"
   ]
  },
  {
   "cell_type": "code",
   "execution_count": 377,
   "metadata": {},
   "outputs": [
    {
     "data": {
      "text/html": [
       "<div>\n",
       "<style scoped>\n",
       "    .dataframe tbody tr th:only-of-type {\n",
       "        vertical-align: middle;\n",
       "    }\n",
       "\n",
       "    .dataframe tbody tr th {\n",
       "        vertical-align: top;\n",
       "    }\n",
       "\n",
       "    .dataframe thead th {\n",
       "        text-align: right;\n",
       "    }\n",
       "</style>\n",
       "<table border=\"1\" class=\"dataframe\">\n",
       "  <thead>\n",
       "    <tr style=\"text-align: right;\">\n",
       "      <th></th>\n",
       "      <th>property_type</th>\n",
       "      <th>place_name</th>\n",
       "      <th>state_name</th>\n",
       "      <th>price_aprox_usd</th>\n",
       "      <th>surface_total_in_m2</th>\n",
       "      <th>surface_covered_in_m2</th>\n",
       "      <th>price_usd_per_m2</th>\n",
       "      <th>price_per_m2</th>\n",
       "      <th>floor</th>\n",
       "      <th>rooms</th>\n",
       "      <th>expenses</th>\n",
       "      <th>centro_urbano</th>\n",
       "      <th>pileta</th>\n",
       "      <th>parrilla</th>\n",
       "      <th>quincho</th>\n",
       "      <th>patio</th>\n",
       "      <th>cochera</th>\n",
       "      <th>balcon</th>\n",
       "      <th>amenities</th>\n",
       "      <th>dummy_BS.AS. G.B.A. ZONA OESTE</th>\n",
       "      <th>dummy_BS.AS. G.B.A. ZONA SUR</th>\n",
       "      <th>dummy_BUENOS AIRES COSTA ATLÁNTICA</th>\n",
       "      <th>dummy_BUENOS AIRES INTERIOR</th>\n",
       "      <th>dummy_CAPITAL FEDERAL</th>\n",
       "      <th>dummy_CÓRDOBA</th>\n",
       "      <th>...</th>\n",
       "      <th>state_dummy__TIERRA DEL FUEGO</th>\n",
       "      <th>state_dummy__TUCUMÁN</th>\n",
       "      <th>rooms_dummy__2.0</th>\n",
       "      <th>rooms_dummy__3.0</th>\n",
       "      <th>rooms_dummy__4.0</th>\n",
       "      <th>rooms_dummy__5.0</th>\n",
       "      <th>rooms_dummy__6.0</th>\n",
       "      <th>rooms_dummy__7.0</th>\n",
       "      <th>rooms_dummy__8.0</th>\n",
       "      <th>rooms_dummy__9.0</th>\n",
       "      <th>rooms_dummy__10.0</th>\n",
       "      <th>rooms_dummy__11.0</th>\n",
       "      <th>rooms_dummy__12.0</th>\n",
       "      <th>rooms_dummy__13.0</th>\n",
       "      <th>rooms_dummy__14.0</th>\n",
       "      <th>rooms_dummy__15.0</th>\n",
       "      <th>rooms_dummy__16.0</th>\n",
       "      <th>rooms_dummy__22.0</th>\n",
       "      <th>rooms_dummy__32.0</th>\n",
       "      <th>amenities_dummy__1</th>\n",
       "      <th>amenities_dummy__2</th>\n",
       "      <th>amenities_dummy__3</th>\n",
       "      <th>amenities_dummy__4</th>\n",
       "      <th>amenities_dummy__5</th>\n",
       "      <th>amenities_dummy__6</th>\n",
       "    </tr>\n",
       "  </thead>\n",
       "  <tbody>\n",
       "    <tr>\n",
       "      <th>0</th>\n",
       "      <td>PH</td>\n",
       "      <td>MATADEROS</td>\n",
       "      <td>CAPITAL FEDERAL</td>\n",
       "      <td>62000.0</td>\n",
       "      <td>55.0</td>\n",
       "      <td>40.0</td>\n",
       "      <td>1127.272727</td>\n",
       "      <td>1550.000000</td>\n",
       "      <td>NaN</td>\n",
       "      <td>2.0</td>\n",
       "      <td>NaN</td>\n",
       "      <td>CAPITAL FEDERAL</td>\n",
       "      <td>0</td>\n",
       "      <td>0</td>\n",
       "      <td>0</td>\n",
       "      <td>1</td>\n",
       "      <td>0</td>\n",
       "      <td>0</td>\n",
       "      <td>1</td>\n",
       "      <td>0</td>\n",
       "      <td>0</td>\n",
       "      <td>0</td>\n",
       "      <td>0</td>\n",
       "      <td>1</td>\n",
       "      <td>0</td>\n",
       "      <td>...</td>\n",
       "      <td>0</td>\n",
       "      <td>0</td>\n",
       "      <td>1</td>\n",
       "      <td>0</td>\n",
       "      <td>0</td>\n",
       "      <td>0</td>\n",
       "      <td>0</td>\n",
       "      <td>0</td>\n",
       "      <td>0</td>\n",
       "      <td>0</td>\n",
       "      <td>0</td>\n",
       "      <td>0</td>\n",
       "      <td>0</td>\n",
       "      <td>0</td>\n",
       "      <td>0</td>\n",
       "      <td>0</td>\n",
       "      <td>0</td>\n",
       "      <td>0</td>\n",
       "      <td>0</td>\n",
       "      <td>1</td>\n",
       "      <td>0</td>\n",
       "      <td>0</td>\n",
       "      <td>0</td>\n",
       "      <td>0</td>\n",
       "      <td>0</td>\n",
       "    </tr>\n",
       "    <tr>\n",
       "      <th>1</th>\n",
       "      <td>APARTMENT</td>\n",
       "      <td>MATADEROS</td>\n",
       "      <td>CAPITAL FEDERAL</td>\n",
       "      <td>72000.0</td>\n",
       "      <td>55.0</td>\n",
       "      <td>55.0</td>\n",
       "      <td>1309.090909</td>\n",
       "      <td>1309.090909</td>\n",
       "      <td>NaN</td>\n",
       "      <td>2.0</td>\n",
       "      <td>NaN</td>\n",
       "      <td>CAPITAL FEDERAL</td>\n",
       "      <td>0</td>\n",
       "      <td>0</td>\n",
       "      <td>0</td>\n",
       "      <td>0</td>\n",
       "      <td>0</td>\n",
       "      <td>0</td>\n",
       "      <td>0</td>\n",
       "      <td>0</td>\n",
       "      <td>0</td>\n",
       "      <td>0</td>\n",
       "      <td>0</td>\n",
       "      <td>1</td>\n",
       "      <td>0</td>\n",
       "      <td>...</td>\n",
       "      <td>0</td>\n",
       "      <td>0</td>\n",
       "      <td>1</td>\n",
       "      <td>0</td>\n",
       "      <td>0</td>\n",
       "      <td>0</td>\n",
       "      <td>0</td>\n",
       "      <td>0</td>\n",
       "      <td>0</td>\n",
       "      <td>0</td>\n",
       "      <td>0</td>\n",
       "      <td>0</td>\n",
       "      <td>0</td>\n",
       "      <td>0</td>\n",
       "      <td>0</td>\n",
       "      <td>0</td>\n",
       "      <td>0</td>\n",
       "      <td>0</td>\n",
       "      <td>0</td>\n",
       "      <td>0</td>\n",
       "      <td>0</td>\n",
       "      <td>0</td>\n",
       "      <td>0</td>\n",
       "      <td>0</td>\n",
       "      <td>0</td>\n",
       "    </tr>\n",
       "  </tbody>\n",
       "</table>\n",
       "<p>2 rows × 81 columns</p>\n",
       "</div>"
      ],
      "text/plain": [
       "  property_type place_name       state_name  price_aprox_usd  \\\n",
       "0            PH  MATADEROS  CAPITAL FEDERAL          62000.0   \n",
       "1     APARTMENT  MATADEROS  CAPITAL FEDERAL          72000.0   \n",
       "\n",
       "   surface_total_in_m2  surface_covered_in_m2  price_usd_per_m2  price_per_m2  \\\n",
       "0                 55.0                   40.0       1127.272727   1550.000000   \n",
       "1                 55.0                   55.0       1309.090909   1309.090909   \n",
       "\n",
       "   floor  rooms  expenses    centro_urbano  pileta  parrilla  quincho  patio  \\\n",
       "0    NaN    2.0       NaN  CAPITAL FEDERAL       0         0        0      1   \n",
       "1    NaN    2.0       NaN  CAPITAL FEDERAL       0         0        0      0   \n",
       "\n",
       "   cochera  balcon  amenities  dummy_BS.AS. G.B.A. ZONA OESTE  \\\n",
       "0        0       0          1                               0   \n",
       "1        0       0          0                               0   \n",
       "\n",
       "   dummy_BS.AS. G.B.A. ZONA SUR  dummy_BUENOS AIRES COSTA ATLÁNTICA  \\\n",
       "0                             0                                   0   \n",
       "1                             0                                   0   \n",
       "\n",
       "   dummy_BUENOS AIRES INTERIOR  dummy_CAPITAL FEDERAL  dummy_CÓRDOBA  ...  \\\n",
       "0                            0                      1              0  ...   \n",
       "1                            0                      1              0  ...   \n",
       "\n",
       "   state_dummy__TIERRA DEL FUEGO  state_dummy__TUCUMÁN  rooms_dummy__2.0  \\\n",
       "0                              0                     0                 1   \n",
       "1                              0                     0                 1   \n",
       "\n",
       "   rooms_dummy__3.0  rooms_dummy__4.0  rooms_dummy__5.0  rooms_dummy__6.0  \\\n",
       "0                 0                 0                 0                 0   \n",
       "1                 0                 0                 0                 0   \n",
       "\n",
       "   rooms_dummy__7.0  rooms_dummy__8.0  rooms_dummy__9.0  rooms_dummy__10.0  \\\n",
       "0                 0                 0                 0                  0   \n",
       "1                 0                 0                 0                  0   \n",
       "\n",
       "   rooms_dummy__11.0  rooms_dummy__12.0  rooms_dummy__13.0  rooms_dummy__14.0  \\\n",
       "0                  0                  0                  0                  0   \n",
       "1                  0                  0                  0                  0   \n",
       "\n",
       "   rooms_dummy__15.0  rooms_dummy__16.0  rooms_dummy__22.0  rooms_dummy__32.0  \\\n",
       "0                  0                  0                  0                  0   \n",
       "1                  0                  0                  0                  0   \n",
       "\n",
       "   amenities_dummy__1  amenities_dummy__2  amenities_dummy__3  \\\n",
       "0                   1                   0                   0   \n",
       "1                   0                   0                   0   \n",
       "\n",
       "   amenities_dummy__4  amenities_dummy__5  amenities_dummy__6  \n",
       "0                   0                   0                   0  \n",
       "1                   0                   0                   0  \n",
       "\n",
       "[2 rows x 81 columns]"
      ]
     },
     "execution_count": 377,
     "metadata": {},
     "output_type": "execute_result"
    }
   ],
   "source": [
    "# Transformamos la variable amenities en dummies:\n",
    "amenities_dummies = pd.get_dummies(data.amenities, drop_first = True, prefix='amenities_dummy_')\n",
    "data = pd.concat([data, amenities_dummies], axis=1, sort=False)\n",
    "data.head(2)"
   ]
  },
  {
   "cell_type": "markdown",
   "metadata": {},
   "source": [
    "---\n",
    "<a id=\"section_modelo\"></a> \n",
    "## Modelo de regresión lineal\n",
    "\n",
    "[volver a TOC](#section_toc)"
   ]
  },
  {
   "cell_type": "markdown",
   "metadata": {},
   "source": [
    "Creamos una función que nos permite crear el modelo. Le pasamos como parámetro los features a considerar."
   ]
  },
  {
   "cell_type": "code",
   "execution_count": 378,
   "metadata": {},
   "outputs": [],
   "source": [
    "# Armamos una función para probar diferentes combinaciones de features:\n",
    "def train_test(data, feature_cols, is_linear = 1, lm=None): #is_ilinear = 0 para regularización\n",
    "    X = data[feature_cols]\n",
    "    y = data.price_usd_per_m2\n",
    "\n",
    "    X_train, X_test, y_train, y_test = train_test_split(X, y, random_state=10)\n",
    "    lm = lm or LinearRegression()\n",
    "    model = lm.fit(X_train, y_train)\n",
    "    y_pred_test = model.predict(X_test)\n",
    "    y_pred_train = model.predict(X_train)\n",
    "    \n",
    "    mae = mean_absolute_error(y_pred_test, y_test)\n",
    "    mse = mean_squared_error(y_pred_test, y_test)\n",
    "    rmse = np.sqrt(mse)\n",
    "    r2 = r2_score(y_pred_test, y_test)\n",
    "    \n",
    "    print('La media del error absoluto es', mae.round(2))\n",
    "    print('La raíz del error cuadrático medio', rmse.round(2))\n",
    "    print('El R2 de entrenamiento del modelo es', r2_score(y_train, y_pred_train).round(2))\n",
    "    print('El R2 de testeo del modelo es', r2_score(y_test, y_pred_test).round(6))\n",
    "    \n",
    "    if not is_linear:\n",
    "        print(\"El alpha utilizado en la regularización es:\", model.alpha_)\n",
    "    \n",
    "    return"
   ]
  },
  {
   "cell_type": "markdown",
   "metadata": {},
   "source": [
    "#### Modelo lineal simple\n",
    "\n",
    "[volver a TOC](#section_toc)"
   ]
  },
  {
   "cell_type": "code",
   "execution_count": 379,
   "metadata": {},
   "outputs": [
    {
     "name": "stdout",
     "output_type": "stream",
     "text": [
      "La media del error absoluto es 710.18\n",
      "La raíz del error cuadrático medio 911.48\n",
      "El R2 de entrenamiento del modelo es 0.03\n",
      "El R2 de testeo del modelo es 0.005439\n"
     ]
    }
   ],
   "source": [
    "# Modelo con 1 variable numerica:\n",
    "feature_cols1 = ['surface_total_in_m2']\n",
    "train_test(data, feature_cols1, 1)"
   ]
  },
  {
   "cell_type": "markdown",
   "metadata": {},
   "source": [
    "Vemos que el modelo tiene muy bajo R2. No puede explicar a los datos."
   ]
  },
  {
   "cell_type": "markdown",
   "metadata": {},
   "source": [
    "#### Modelo lineal compuesto\n",
    "\n",
    "[volver a TOC](#section_toc)"
   ]
  },
  {
   "cell_type": "code",
   "execution_count": 380,
   "metadata": {},
   "outputs": [
    {
     "name": "stdout",
     "output_type": "stream",
     "text": [
      "La media del error absoluto es 597.46\n",
      "La raíz del error cuadrático medio 775.32\n",
      "El R2 de entrenamiento del modelo es 0.3\n",
      "El R2 de testeo del modelo es 0.280398\n"
     ]
    }
   ],
   "source": [
    "# Modelo con 1 variable numerica y dummies de centro urbano:\n",
    "feature_cols2 = ['surface_total_in_m2', 'dummy_BS.AS. G.B.A. ZONA OESTE', 'dummy_BS.AS. G.B.A. ZONA SUR',\n",
    "       'dummy_BUENOS AIRES COSTA ATLÁNTICA', 'dummy_BUENOS AIRES INTERIOR',\n",
    "       'dummy_CAPITAL FEDERAL', 'dummy_CÓRDOBA', 'dummy_MENDOZA',\n",
    "       'dummy_RESTO DEL PAIS', 'dummy_SANTA FE']\n",
    "\n",
    "modelo_2 = train_test(data, feature_cols2)"
   ]
  },
  {
   "cell_type": "markdown",
   "metadata": {},
   "source": [
    "Agregando las variables dummies de centro_urbano aumenta el R2."
   ]
  },
  {
   "cell_type": "code",
   "execution_count": 381,
   "metadata": {},
   "outputs": [
    {
     "name": "stdout",
     "output_type": "stream",
     "text": [
      "La media del error absoluto es 505.63\n",
      "La raíz del error cuadrático medio 655.95\n",
      "El R2 de entrenamiento del modelo es 0.49\n",
      "El R2 de testeo del modelo es 0.484912\n"
     ]
    }
   ],
   "source": [
    "# Agregamos property_type:\n",
    "feature_cols3 = ['surface_total_in_m2', 'dummy_BS.AS. G.B.A. ZONA OESTE', 'dummy_BS.AS. G.B.A. ZONA SUR',\n",
    "       'dummy_BUENOS AIRES COSTA ATLÁNTICA', 'dummy_BUENOS AIRES INTERIOR',\n",
    "       'dummy_CAPITAL FEDERAL', 'dummy_CÓRDOBA', 'dummy_MENDOZA',\n",
    "       'dummy_RESTO DEL PAIS', 'dummy_SANTA FE', 'dummy_HOUSE', 'dummy_PH', 'dummy_STORE']\n",
    "\n",
    "modelo_3 = train_test(data, feature_cols3)"
   ]
  },
  {
   "cell_type": "markdown",
   "metadata": {},
   "source": [
    "Vemos que con dummies de centro_urbano + dummies de tipo_propiedad, aumenta considerablemente el R2."
   ]
  },
  {
   "cell_type": "code",
   "execution_count": 382,
   "metadata": {},
   "outputs": [
    {
     "name": "stdout",
     "output_type": "stream",
     "text": [
      "La media del error absoluto es 503.26\n",
      "La raíz del error cuadrático medio 653.61\n",
      "El R2 de entrenamiento del modelo es 0.5\n",
      "El R2 de testeo del modelo es 0.488593\n"
     ]
    }
   ],
   "source": [
    "# Agregamos la variable state_name dummie:\n",
    "feature_cols4 = ['surface_total_in_m2', 'dummy_BS.AS. G.B.A. ZONA OESTE', 'dummy_BS.AS. G.B.A. ZONA SUR',\n",
    "       'dummy_BUENOS AIRES COSTA ATLÁNTICA', 'dummy_BUENOS AIRES INTERIOR',\n",
    "       'dummy_CAPITAL FEDERAL', 'dummy_CÓRDOBA', 'dummy_MENDOZA',\n",
    "       'dummy_RESTO DEL PAIS', 'dummy_SANTA FE', 'dummy_HOUSE', 'dummy_PH', 'dummy_STORE', 'state_dummy__BS.AS. G.B.A. ZONA OESTE',\n",
    "       'state_dummy__BS.AS. G.B.A. ZONA SUR',\n",
    "       'state_dummy__BUENOS AIRES COSTA ATLÁNTICA',\n",
    "       'state_dummy__BUENOS AIRES INTERIOR', 'state_dummy__CAPITAL FEDERAL',\n",
    "       'state_dummy__CATAMARCA', 'state_dummy__CHACO', 'state_dummy__CHUBUT',\n",
    "       'state_dummy__CORRIENTES', 'state_dummy__CÓRDOBA',\n",
    "       'state_dummy__ENTRE RÍOS', 'state_dummy__FORMOSA', 'state_dummy__JUJUY',\n",
    "       'state_dummy__LA PAMPA', 'state_dummy__LA RIOJA',\n",
    "       'state_dummy__MENDOZA', 'state_dummy__MISIONES', 'state_dummy__NEUQUÉN',\n",
    "       'state_dummy__RÍO NEGRO', 'state_dummy__SALTA', 'state_dummy__SAN JUAN',\n",
    "       'state_dummy__SAN LUIS', 'state_dummy__SANTA CRUZ',\n",
    "       'state_dummy__SANTA FE', 'state_dummy__SANTIAGO DEL ESTERO',\n",
    "       'state_dummy__TIERRA DEL FUEGO', 'state_dummy__TUCUMÁN']\n",
    "modelo_4 = train_test(data, feature_cols4)"
   ]
  },
  {
   "cell_type": "markdown",
   "metadata": {},
   "source": [
    "El modelo con todas las provincias + dummies centro_rbano + dummies tipo_propiedad explica muy levemente mejor que el modelo anterior. Estamos agregando variables que no suman al modelo."
   ]
  },
  {
   "cell_type": "code",
   "execution_count": 383,
   "metadata": {},
   "outputs": [
    {
     "name": "stdout",
     "output_type": "stream",
     "text": [
      "La media del error absoluto es 503.26\n",
      "La raíz del error cuadrático medio 653.58\n",
      "El R2 de entrenamiento del modelo es 0.5\n",
      "El R2 de testeo del modelo es 0.48863\n"
     ]
    }
   ],
   "source": [
    "# Analizamos el modelo con provincia en lugar de centro_urbano:\n",
    "feature_cols5 = ['surface_total_in_m2', 'dummy_HOUSE', 'dummy_PH', 'dummy_STORE', 'state_dummy__BS.AS. G.B.A. ZONA OESTE',\n",
    "       'state_dummy__BS.AS. G.B.A. ZONA SUR',\n",
    "       'state_dummy__BUENOS AIRES COSTA ATLÁNTICA',\n",
    "       'state_dummy__BUENOS AIRES INTERIOR', 'state_dummy__CAPITAL FEDERAL',\n",
    "       'state_dummy__CATAMARCA', 'state_dummy__CHACO', 'state_dummy__CHUBUT',\n",
    "       'state_dummy__CORRIENTES', 'state_dummy__CÓRDOBA',\n",
    "       'state_dummy__ENTRE RÍOS', 'state_dummy__FORMOSA', 'state_dummy__JUJUY',\n",
    "       'state_dummy__LA PAMPA', 'state_dummy__LA RIOJA',\n",
    "       'state_dummy__MENDOZA', 'state_dummy__MISIONES', 'state_dummy__NEUQUÉN',\n",
    "       'state_dummy__RÍO NEGRO', 'state_dummy__SALTA', 'state_dummy__SAN JUAN',\n",
    "       'state_dummy__SAN LUIS', 'state_dummy__SANTA CRUZ',\n",
    "       'state_dummy__SANTA FE', 'state_dummy__SANTIAGO DEL ESTERO',\n",
    "       'state_dummy__TIERRA DEL FUEGO', 'state_dummy__TUCUMÁN']\n",
    "modelo_5 = train_test(data, feature_cols5)"
   ]
  },
  {
   "cell_type": "markdown",
   "metadata": {},
   "source": [
    "Vemos que usando el centro urbano o provincias es similar (dado que una se construye de la otra)."
   ]
  },
  {
   "cell_type": "code",
   "execution_count": 384,
   "metadata": {},
   "outputs": [
    {
     "name": "stdout",
     "output_type": "stream",
     "text": [
      "La media del error absoluto es 500.96\n",
      "La raíz del error cuadrático medio 652.63\n",
      "El R2 de entrenamiento del modelo es 0.5\n",
      "El R2 de testeo del modelo es 0.490124\n"
     ]
    }
   ],
   "source": [
    "# Agregamos al modelo la variable rooms:\n",
    "feature_cols6 = ['surface_total_in_m2', 'dummy_HOUSE', 'dummy_PH', 'dummy_STORE', 'state_dummy__BS.AS. G.B.A. ZONA OESTE',\n",
    "       'state_dummy__BS.AS. G.B.A. ZONA SUR',\n",
    "       'state_dummy__BUENOS AIRES COSTA ATLÁNTICA',\n",
    "       'state_dummy__BUENOS AIRES INTERIOR', 'state_dummy__CAPITAL FEDERAL',\n",
    "       'state_dummy__CATAMARCA', 'state_dummy__CHACO', 'state_dummy__CHUBUT',\n",
    "       'state_dummy__CORRIENTES', 'state_dummy__CÓRDOBA',\n",
    "       'state_dummy__ENTRE RÍOS', 'state_dummy__FORMOSA', 'state_dummy__JUJUY',\n",
    "       'state_dummy__LA PAMPA', 'state_dummy__LA RIOJA',\n",
    "       'state_dummy__MENDOZA', 'state_dummy__MISIONES', 'state_dummy__NEUQUÉN',\n",
    "       'state_dummy__RÍO NEGRO', 'state_dummy__SALTA', 'state_dummy__SAN JUAN',\n",
    "       'state_dummy__SAN LUIS', 'state_dummy__SANTA CRUZ',\n",
    "       'state_dummy__SANTA FE', 'state_dummy__SANTIAGO DEL ESTERO',\n",
    "       'state_dummy__TIERRA DEL FUEGO', 'state_dummy__TUCUMÁN', 'rooms_dummy__2.0', 'rooms_dummy__3.0', 'rooms_dummy__4.0',\n",
    "       'rooms_dummy__5.0', 'rooms_dummy__6.0', 'rooms_dummy__7.0',\n",
    "       'rooms_dummy__8.0', 'rooms_dummy__9.0', 'rooms_dummy__10.0',\n",
    "       'rooms_dummy__11.0', 'rooms_dummy__12.0', 'rooms_dummy__13.0',\n",
    "       'rooms_dummy__14.0', 'rooms_dummy__15.0', 'rooms_dummy__16.0',\n",
    "       'rooms_dummy__22.0', 'rooms_dummy__32.0']\n",
    "modelo_6 = train_test(data, feature_cols6)"
   ]
  },
  {
   "cell_type": "code",
   "execution_count": 385,
   "metadata": {},
   "outputs": [
    {
     "name": "stdout",
     "output_type": "stream",
     "text": [
      "La media del error absoluto es 495.26\n",
      "La raíz del error cuadrático medio 645.64\n",
      "El R2 de entrenamiento del modelo es 0.51\n",
      "El R2 de testeo del modelo es 0.500981\n"
     ]
    }
   ],
   "source": [
    "# Agregamos al modelo la variable pileta:\n",
    "feature_cols7 = ['surface_total_in_m2', 'dummy_HOUSE', 'dummy_PH', 'dummy_STORE', 'state_dummy__BS.AS. G.B.A. ZONA OESTE',\n",
    "       'state_dummy__BS.AS. G.B.A. ZONA SUR',\n",
    "       'state_dummy__BUENOS AIRES COSTA ATLÁNTICA',\n",
    "       'state_dummy__BUENOS AIRES INTERIOR', 'state_dummy__CAPITAL FEDERAL',\n",
    "       'state_dummy__CATAMARCA', 'state_dummy__CHACO', 'state_dummy__CHUBUT',\n",
    "       'state_dummy__CORRIENTES', 'state_dummy__CÓRDOBA',\n",
    "       'state_dummy__ENTRE RÍOS', 'state_dummy__FORMOSA', 'state_dummy__JUJUY',\n",
    "       'state_dummy__LA PAMPA', 'state_dummy__LA RIOJA',\n",
    "       'state_dummy__MENDOZA', 'state_dummy__MISIONES', 'state_dummy__NEUQUÉN',\n",
    "       'state_dummy__RÍO NEGRO', 'state_dummy__SALTA', 'state_dummy__SAN JUAN',\n",
    "       'state_dummy__SAN LUIS', 'state_dummy__SANTA CRUZ',\n",
    "       'state_dummy__SANTA FE', 'state_dummy__SANTIAGO DEL ESTERO',\n",
    "       'state_dummy__TIERRA DEL FUEGO', 'state_dummy__TUCUMÁN', 'rooms_dummy__2.0', 'rooms_dummy__3.0', 'rooms_dummy__4.0',\n",
    "       'rooms_dummy__5.0', 'rooms_dummy__6.0', 'rooms_dummy__7.0',\n",
    "       'rooms_dummy__8.0', 'rooms_dummy__9.0', 'rooms_dummy__10.0',\n",
    "       'rooms_dummy__11.0', 'rooms_dummy__12.0', 'rooms_dummy__13.0',\n",
    "       'rooms_dummy__14.0', 'rooms_dummy__15.0', 'rooms_dummy__16.0',\n",
    "       'rooms_dummy__22.0', 'rooms_dummy__32.0', 'pileta']\n",
    "modelo_7 = train_test(data, feature_cols7)"
   ]
  },
  {
   "cell_type": "code",
   "execution_count": 386,
   "metadata": {},
   "outputs": [
    {
     "name": "stdout",
     "output_type": "stream",
     "text": [
      "La media del error absoluto es 495.27\n",
      "La raíz del error cuadrático medio 645.65\n",
      "El R2 de entrenamiento del modelo es 0.51\n",
      "El R2 de testeo del modelo es 0.500972\n"
     ]
    }
   ],
   "source": [
    "# Agregamos al modelo la variable parrilla:\n",
    "feature_cols8 = ['surface_total_in_m2', 'dummy_HOUSE', 'dummy_PH', 'dummy_STORE', 'state_dummy__BS.AS. G.B.A. ZONA OESTE',\n",
    "       'state_dummy__BS.AS. G.B.A. ZONA SUR',\n",
    "       'state_dummy__BUENOS AIRES COSTA ATLÁNTICA',\n",
    "       'state_dummy__BUENOS AIRES INTERIOR', 'state_dummy__CAPITAL FEDERAL',\n",
    "       'state_dummy__CATAMARCA', 'state_dummy__CHACO', 'state_dummy__CHUBUT',\n",
    "       'state_dummy__CORRIENTES', 'state_dummy__CÓRDOBA',\n",
    "       'state_dummy__ENTRE RÍOS', 'state_dummy__FORMOSA', 'state_dummy__JUJUY',\n",
    "       'state_dummy__LA PAMPA', 'state_dummy__LA RIOJA',\n",
    "       'state_dummy__MENDOZA', 'state_dummy__MISIONES', 'state_dummy__NEUQUÉN',\n",
    "       'state_dummy__RÍO NEGRO', 'state_dummy__SALTA', 'state_dummy__SAN JUAN',\n",
    "       'state_dummy__SAN LUIS', 'state_dummy__SANTA CRUZ',\n",
    "       'state_dummy__SANTA FE', 'state_dummy__SANTIAGO DEL ESTERO',\n",
    "       'state_dummy__TIERRA DEL FUEGO', 'state_dummy__TUCUMÁN', 'rooms_dummy__2.0', 'rooms_dummy__3.0', 'rooms_dummy__4.0',\n",
    "       'rooms_dummy__5.0', 'rooms_dummy__6.0', 'rooms_dummy__7.0',\n",
    "       'rooms_dummy__8.0', 'rooms_dummy__9.0', 'rooms_dummy__10.0',\n",
    "       'rooms_dummy__11.0', 'rooms_dummy__12.0', 'rooms_dummy__13.0',\n",
    "       'rooms_dummy__14.0', 'rooms_dummy__15.0', 'rooms_dummy__16.0',\n",
    "       'rooms_dummy__22.0', 'rooms_dummy__32.0', 'pileta', 'parrilla']\n",
    "modelo_8 = train_test(data, feature_cols8)"
   ]
  },
  {
   "cell_type": "code",
   "execution_count": 387,
   "metadata": {},
   "outputs": [
    {
     "name": "stdout",
     "output_type": "stream",
     "text": [
      "La media del error absoluto es 494.96\n",
      "La raíz del error cuadrático medio 645.29\n",
      "El R2 de entrenamiento del modelo es 0.51\n",
      "El R2 de testeo del modelo es 0.50152\n"
     ]
    }
   ],
   "source": [
    "# Agregamos al modelo la variable quincho:\n",
    "feature_cols9 = ['surface_total_in_m2', 'dummy_HOUSE', 'dummy_PH', 'dummy_STORE', 'state_dummy__BS.AS. G.B.A. ZONA OESTE',\n",
    "       'state_dummy__BS.AS. G.B.A. ZONA SUR',\n",
    "       'state_dummy__BUENOS AIRES COSTA ATLÁNTICA',\n",
    "       'state_dummy__BUENOS AIRES INTERIOR', 'state_dummy__CAPITAL FEDERAL',\n",
    "       'state_dummy__CATAMARCA', 'state_dummy__CHACO', 'state_dummy__CHUBUT',\n",
    "       'state_dummy__CORRIENTES', 'state_dummy__CÓRDOBA',\n",
    "       'state_dummy__ENTRE RÍOS', 'state_dummy__FORMOSA', 'state_dummy__JUJUY',\n",
    "       'state_dummy__LA PAMPA', 'state_dummy__LA RIOJA',\n",
    "       'state_dummy__MENDOZA', 'state_dummy__MISIONES', 'state_dummy__NEUQUÉN',\n",
    "       'state_dummy__RÍO NEGRO', 'state_dummy__SALTA', 'state_dummy__SAN JUAN',\n",
    "       'state_dummy__SAN LUIS', 'state_dummy__SANTA CRUZ',\n",
    "       'state_dummy__SANTA FE', 'state_dummy__SANTIAGO DEL ESTERO',\n",
    "       'state_dummy__TIERRA DEL FUEGO', 'state_dummy__TUCUMÁN', 'rooms_dummy__2.0', 'rooms_dummy__3.0', 'rooms_dummy__4.0',\n",
    "       'rooms_dummy__5.0', 'rooms_dummy__6.0', 'rooms_dummy__7.0',\n",
    "       'rooms_dummy__8.0', 'rooms_dummy__9.0', 'rooms_dummy__10.0',\n",
    "       'rooms_dummy__11.0', 'rooms_dummy__12.0', 'rooms_dummy__13.0',\n",
    "       'rooms_dummy__14.0', 'rooms_dummy__15.0', 'rooms_dummy__16.0',\n",
    "       'rooms_dummy__22.0', 'rooms_dummy__32.0', 'pileta', 'quincho']\n",
    "modelo_9 = train_test(data, feature_cols9)"
   ]
  },
  {
   "cell_type": "code",
   "execution_count": 388,
   "metadata": {},
   "outputs": [
    {
     "name": "stdout",
     "output_type": "stream",
     "text": [
      "La media del error absoluto es 494.81\n",
      "La raíz del error cuadrático medio 645.13\n",
      "El R2 de entrenamiento del modelo es 0.51\n",
      "El R2 de testeo del modelo es 0.501767\n"
     ]
    }
   ],
   "source": [
    "# Agregamos al modelo la variable patio:\n",
    "feature_cols10 = ['surface_total_in_m2', 'dummy_HOUSE', 'dummy_PH', 'dummy_STORE', 'state_dummy__BS.AS. G.B.A. ZONA OESTE',\n",
    "       'state_dummy__BS.AS. G.B.A. ZONA SUR',\n",
    "       'state_dummy__BUENOS AIRES COSTA ATLÁNTICA',\n",
    "       'state_dummy__BUENOS AIRES INTERIOR', 'state_dummy__CAPITAL FEDERAL',\n",
    "       'state_dummy__CATAMARCA', 'state_dummy__CHACO', 'state_dummy__CHUBUT',\n",
    "       'state_dummy__CORRIENTES', 'state_dummy__CÓRDOBA',\n",
    "       'state_dummy__ENTRE RÍOS', 'state_dummy__FORMOSA', 'state_dummy__JUJUY',\n",
    "       'state_dummy__LA PAMPA', 'state_dummy__LA RIOJA',\n",
    "       'state_dummy__MENDOZA', 'state_dummy__MISIONES', 'state_dummy__NEUQUÉN',\n",
    "       'state_dummy__RÍO NEGRO', 'state_dummy__SALTA', 'state_dummy__SAN JUAN',\n",
    "       'state_dummy__SAN LUIS', 'state_dummy__SANTA CRUZ',\n",
    "       'state_dummy__SANTA FE', 'state_dummy__SANTIAGO DEL ESTERO',\n",
    "       'state_dummy__TIERRA DEL FUEGO', 'state_dummy__TUCUMÁN', 'rooms_dummy__2.0', 'rooms_dummy__3.0', 'rooms_dummy__4.0',\n",
    "       'rooms_dummy__5.0', 'rooms_dummy__6.0', 'rooms_dummy__7.0',\n",
    "       'rooms_dummy__8.0', 'rooms_dummy__9.0', 'rooms_dummy__10.0',\n",
    "       'rooms_dummy__11.0', 'rooms_dummy__12.0', 'rooms_dummy__13.0',\n",
    "       'rooms_dummy__14.0', 'rooms_dummy__15.0', 'rooms_dummy__16.0',\n",
    "       'rooms_dummy__22.0', 'rooms_dummy__32.0', 'pileta', 'quincho', 'patio']\n",
    "\n",
    "modelo_10 = train_test(data, feature_cols10)"
   ]
  },
  {
   "cell_type": "code",
   "execution_count": 389,
   "metadata": {},
   "outputs": [
    {
     "name": "stdout",
     "output_type": "stream",
     "text": [
      "La media del error absoluto es 491.51\n",
      "La raíz del error cuadrático medio 640.13\n",
      "El R2 de entrenamiento del modelo es 0.52\n",
      "El R2 de testeo del modelo es 0.509468\n"
     ]
    }
   ],
   "source": [
    "# Agregamos al modelo la variable cochera:\n",
    "feature_cols11 = ['surface_total_in_m2', 'dummy_HOUSE', 'dummy_PH', 'dummy_STORE', 'state_dummy__BS.AS. G.B.A. ZONA OESTE',\n",
    "       'state_dummy__BS.AS. G.B.A. ZONA SUR',\n",
    "       'state_dummy__BUENOS AIRES COSTA ATLÁNTICA',\n",
    "       'state_dummy__BUENOS AIRES INTERIOR', 'state_dummy__CAPITAL FEDERAL',\n",
    "       'state_dummy__CATAMARCA', 'state_dummy__CHACO', 'state_dummy__CHUBUT',\n",
    "       'state_dummy__CORRIENTES', 'state_dummy__CÓRDOBA',\n",
    "       'state_dummy__ENTRE RÍOS', 'state_dummy__FORMOSA', 'state_dummy__JUJUY',\n",
    "       'state_dummy__LA PAMPA', 'state_dummy__LA RIOJA',\n",
    "       'state_dummy__MENDOZA', 'state_dummy__MISIONES', 'state_dummy__NEUQUÉN',\n",
    "       'state_dummy__RÍO NEGRO', 'state_dummy__SALTA', 'state_dummy__SAN JUAN',\n",
    "       'state_dummy__SAN LUIS', 'state_dummy__SANTA CRUZ',\n",
    "       'state_dummy__SANTA FE', 'state_dummy__SANTIAGO DEL ESTERO',\n",
    "       'state_dummy__TIERRA DEL FUEGO', 'state_dummy__TUCUMÁN', 'rooms_dummy__2.0', 'rooms_dummy__3.0', 'rooms_dummy__4.0',\n",
    "       'rooms_dummy__5.0', 'rooms_dummy__6.0', 'rooms_dummy__7.0',\n",
    "       'rooms_dummy__8.0', 'rooms_dummy__9.0', 'rooms_dummy__10.0',\n",
    "       'rooms_dummy__11.0', 'rooms_dummy__12.0', 'rooms_dummy__13.0',\n",
    "       'rooms_dummy__14.0', 'rooms_dummy__15.0', 'rooms_dummy__16.0',\n",
    "       'rooms_dummy__22.0', 'rooms_dummy__32.0', 'pileta', 'quincho', 'patio', 'cochera']\n",
    "\n",
    "modelo_11 = train_test(data, feature_cols11)"
   ]
  },
  {
   "cell_type": "code",
   "execution_count": 390,
   "metadata": {},
   "outputs": [
    {
     "name": "stdout",
     "output_type": "stream",
     "text": [
      "La media del error absoluto es 490.63\n",
      "La raíz del error cuadrático medio 638.97\n",
      "El R2 de entrenamiento del modelo es 0.52\n",
      "El R2 de testeo del modelo es 0.511235\n"
     ]
    }
   ],
   "source": [
    "# Agregamos al modelo la variable balcon:\n",
    "feature_cols12 = ['surface_total_in_m2', 'dummy_HOUSE', 'dummy_PH', 'dummy_STORE', 'state_dummy__BS.AS. G.B.A. ZONA OESTE',\n",
    "       'state_dummy__BS.AS. G.B.A. ZONA SUR',\n",
    "       'state_dummy__BUENOS AIRES COSTA ATLÁNTICA',\n",
    "       'state_dummy__BUENOS AIRES INTERIOR', 'state_dummy__CAPITAL FEDERAL',\n",
    "       'state_dummy__CATAMARCA', 'state_dummy__CHACO', 'state_dummy__CHUBUT',\n",
    "       'state_dummy__CORRIENTES', 'state_dummy__CÓRDOBA',\n",
    "       'state_dummy__ENTRE RÍOS', 'state_dummy__FORMOSA', 'state_dummy__JUJUY',\n",
    "       'state_dummy__LA PAMPA', 'state_dummy__LA RIOJA',\n",
    "       'state_dummy__MENDOZA', 'state_dummy__MISIONES', 'state_dummy__NEUQUÉN',\n",
    "       'state_dummy__RÍO NEGRO', 'state_dummy__SALTA', 'state_dummy__SAN JUAN',\n",
    "       'state_dummy__SAN LUIS', 'state_dummy__SANTA CRUZ',\n",
    "       'state_dummy__SANTA FE', 'state_dummy__SANTIAGO DEL ESTERO',\n",
    "       'state_dummy__TIERRA DEL FUEGO', 'state_dummy__TUCUMÁN', 'rooms_dummy__2.0', 'rooms_dummy__3.0', 'rooms_dummy__4.0',\n",
    "       'rooms_dummy__5.0', 'rooms_dummy__6.0', 'rooms_dummy__7.0',\n",
    "       'rooms_dummy__8.0', 'rooms_dummy__9.0', 'rooms_dummy__10.0',\n",
    "       'rooms_dummy__11.0', 'rooms_dummy__12.0', 'rooms_dummy__13.0',\n",
    "       'rooms_dummy__14.0', 'rooms_dummy__15.0', 'rooms_dummy__16.0',\n",
    "       'rooms_dummy__22.0', 'rooms_dummy__32.0', 'pileta', 'quincho', 'patio', 'cochera', 'balcon']\n",
    "\n",
    "modelo_12 = train_test(data, feature_cols12)"
   ]
  },
  {
   "cell_type": "code",
   "execution_count": 391,
   "metadata": {},
   "outputs": [
    {
     "name": "stdout",
     "output_type": "stream",
     "text": [
      "La media del error absoluto es 490.8\n",
      "La raíz del error cuadrático medio 638.99\n",
      "El R2 de entrenamiento del modelo es 0.52\n",
      "El R2 de testeo del modelo es 0.511205\n"
     ]
    }
   ],
   "source": [
    "# Agregamos al modelo la variable amenities:\n",
    "feature_cols13 = ['surface_total_in_m2', 'dummy_HOUSE', 'dummy_PH', 'dummy_STORE', 'state_dummy__BS.AS. G.B.A. ZONA OESTE',\n",
    "       'state_dummy__BS.AS. G.B.A. ZONA SUR',\n",
    "       'state_dummy__BUENOS AIRES COSTA ATLÁNTICA',\n",
    "       'state_dummy__BUENOS AIRES INTERIOR', 'state_dummy__CAPITAL FEDERAL',\n",
    "       'state_dummy__CATAMARCA', 'state_dummy__CHACO', 'state_dummy__CHUBUT',\n",
    "       'state_dummy__CORRIENTES', 'state_dummy__CÓRDOBA',\n",
    "       'state_dummy__ENTRE RÍOS', 'state_dummy__FORMOSA', 'state_dummy__JUJUY',\n",
    "       'state_dummy__LA PAMPA', 'state_dummy__LA RIOJA',\n",
    "       'state_dummy__MENDOZA', 'state_dummy__MISIONES', 'state_dummy__NEUQUÉN',\n",
    "       'state_dummy__RÍO NEGRO', 'state_dummy__SALTA', 'state_dummy__SAN JUAN',\n",
    "       'state_dummy__SAN LUIS', 'state_dummy__SANTA CRUZ',\n",
    "       'state_dummy__SANTA FE', 'state_dummy__SANTIAGO DEL ESTERO',\n",
    "       'state_dummy__TIERRA DEL FUEGO', 'state_dummy__TUCUMÁN', 'rooms_dummy__2.0', 'rooms_dummy__3.0', 'rooms_dummy__4.0',\n",
    "       'rooms_dummy__5.0', 'rooms_dummy__6.0', 'rooms_dummy__7.0',\n",
    "       'rooms_dummy__8.0', 'rooms_dummy__9.0', 'rooms_dummy__10.0',\n",
    "       'rooms_dummy__11.0', 'rooms_dummy__12.0', 'rooms_dummy__13.0',\n",
    "       'rooms_dummy__14.0', 'rooms_dummy__15.0', 'rooms_dummy__16.0',\n",
    "       'rooms_dummy__22.0', 'rooms_dummy__32.0', 'pileta', 'quincho', 'patio', 'cochera', 'balcon', 'amenities']\n",
    "\n",
    "modelo_13 = train_test(data, feature_cols13)"
   ]
  },
  {
   "cell_type": "code",
   "execution_count": 392,
   "metadata": {},
   "outputs": [
    {
     "name": "stdout",
     "output_type": "stream",
     "text": [
      "La media del error absoluto es 494.76\n",
      "La raíz del error cuadrático medio 645.23\n",
      "El R2 de entrenamiento del modelo es 0.51\n",
      "El R2 de testeo del modelo es 0.501625\n"
     ]
    }
   ],
   "source": [
    "# Agregamos al modelo la variable amenities en formato dummies:\n",
    "feature_cols14 = ['surface_total_in_m2', 'dummy_HOUSE', 'dummy_PH', 'dummy_STORE', 'state_dummy__BS.AS. G.B.A. ZONA OESTE',\n",
    "       'state_dummy__BS.AS. G.B.A. ZONA SUR',\n",
    "       'state_dummy__BUENOS AIRES COSTA ATLÁNTICA',\n",
    "       'state_dummy__BUENOS AIRES INTERIOR', 'state_dummy__CAPITAL FEDERAL',\n",
    "       'state_dummy__CATAMARCA', 'state_dummy__CHACO', 'state_dummy__CHUBUT',\n",
    "       'state_dummy__CORRIENTES', 'state_dummy__CÓRDOBA',\n",
    "       'state_dummy__ENTRE RÍOS', 'state_dummy__FORMOSA', 'state_dummy__JUJUY',\n",
    "       'state_dummy__LA PAMPA', 'state_dummy__LA RIOJA',\n",
    "       'state_dummy__MENDOZA', 'state_dummy__MISIONES', 'state_dummy__NEUQUÉN',\n",
    "       'state_dummy__RÍO NEGRO', 'state_dummy__SALTA', 'state_dummy__SAN JUAN',\n",
    "       'state_dummy__SAN LUIS', 'state_dummy__SANTA CRUZ',\n",
    "       'state_dummy__SANTA FE', 'state_dummy__SANTIAGO DEL ESTERO',\n",
    "       'state_dummy__TIERRA DEL FUEGO', 'state_dummy__TUCUMÁN', 'rooms_dummy__2.0', 'rooms_dummy__3.0', 'rooms_dummy__4.0',\n",
    "       'rooms_dummy__5.0', 'rooms_dummy__6.0', 'rooms_dummy__7.0',\n",
    "       'rooms_dummy__8.0', 'rooms_dummy__9.0', 'rooms_dummy__10.0',\n",
    "       'rooms_dummy__11.0', 'rooms_dummy__12.0', 'rooms_dummy__13.0',\n",
    "       'rooms_dummy__14.0', 'rooms_dummy__15.0', 'rooms_dummy__16.0',\n",
    "       'rooms_dummy__22.0', 'rooms_dummy__32.0', 'amenities_dummy__1',\n",
    "       'amenities_dummy__2', 'amenities_dummy__3', 'amenities_dummy__4',\n",
    "       'amenities_dummy__5', 'amenities_dummy__6']\n",
    "\n",
    "modelo_14 = train_test(data, feature_cols14)"
   ]
  },
  {
   "cell_type": "markdown",
   "metadata": {},
   "source": [
    "---\n",
    "<a id=\"section_p\"></a> \n",
    "## Análsis de p-value\n",
    "\n",
    "[volver a TOC](#section_toc)"
   ]
  },
  {
   "cell_type": "markdown",
   "metadata": {},
   "source": [
    "Analizaremos mediante statsmodel cuales son las variables que no aportan al modelo analizndo su p-value."
   ]
  },
  {
   "cell_type": "code",
   "execution_count": 393,
   "metadata": {},
   "outputs": [],
   "source": [
    "# Creamos una función que nos resuma el armado del modelo y los estadísticos:\n",
    "def statsmodel_linear(features):\n",
    "    X = data[feature_cols]\n",
    "    y = data.price_usd_per_m2\n",
    "    X = sm.add_constant(X)\n",
    "    X_train, X_test, y_train, y_test = train_test_split(X, y, shuffle=True)\n",
    "    model = sm.OLS(y_train, X_train).fit()\n",
    "    predictions = model.predict(X_test)\n",
    "    plt.plot(y_test,y_test, '-.', c='grey')\n",
    "    plt.scatter(predictions, y_test, s=30, c='r', marker='+', zorder=10)\n",
    "    plt.xlabel(\"Predicciones usando features\")\n",
    "    plt.ylabel(\"Valores reales precio m2\")\n",
    "    plt.show()\n",
    "    print (model.summary())\n",
    "    print ('MAE:', metrics.mean_absolute_error(y_test, predictions))\n",
    "    print ('MSE:', metrics.mean_squared_error(y_test, predictions))\n",
    "    print ('RMSE:', np.sqrt(metrics.mean_squared_error(y_test, predictions)))\n",
    "    print ('R2:', metrics.r2_score(y_test,predictions))\n",
    "    return"
   ]
  },
  {
   "cell_type": "code",
   "execution_count": 394,
   "metadata": {},
   "outputs": [
    {
     "data": {
      "image/png": "[encoded data removed]",
      "text/plain": [
       "<Figure size 432x288 with 1 Axes>"
      ]
     },
     "metadata": {
      "needs_background": "light"
     },
     "output_type": "display_data"
    },
    {
     "name": "stdout",
     "output_type": "stream",
     "text": [
      "                            OLS Regression Results                            \n",
      "==============================================================================\n",
      "Dep. Variable:       price_usd_per_m2   R-squared:                       0.512\n",
      "Model:                            OLS   Adj. R-squared:                  0.512\n",
      "Method:                 Least Squares   F-statistic:                     918.2\n",
      "Date:                Wed, 27 Jan 2021   Prob (F-statistic):               0.00\n",
      "Time:                        01:15:29   Log-Likelihood:            -3.5844e+05\n",
      "No. Observations:               45508   AIC:                         7.170e+05\n",
      "Df Residuals:                   45455   BIC:                         7.175e+05\n",
      "Df Model:                          52                                         \n",
      "Covariance Type:            nonrobust                                         \n",
      "=============================================================================================================\n",
      "                                                coef    std err          t      P>|t|      [0.025      0.975]\n",
      "-------------------------------------------------------------------------------------------------------------\n",
      "const                                      2158.1646     10.334    208.841      0.000    2137.910    2178.419\n",
      "surface_total_in_m2                          -0.0656      0.003    -22.181      0.000      -0.071      -0.060\n",
      "dummy_HOUSE                               -1003.4890      7.946   -126.290      0.000   -1019.063    -987.915\n",
      "dummy_PH                                   -763.4210     14.075    -54.240      0.000    -791.008    -735.834\n",
      "dummy_STORE                                -286.4891     18.121    -15.810      0.000    -322.006    -250.972\n",
      "state_dummy__BS.AS. G.B.A. ZONA OESTE      -390.0940     13.096    -29.787      0.000    -415.763    -364.426\n",
      "state_dummy__BS.AS. G.B.A. ZONA SUR        -308.7148     11.505    -26.834      0.000    -331.264    -286.166\n",
      "state_dummy__BUENOS AIRES COSTA ATLÁNTICA  -335.9684     11.926    -28.170      0.000    -359.344    -312.593\n",
      "state_dummy__BUENOS AIRES INTERIOR         -545.3036     25.231    -21.612      0.000    -594.758    -495.849\n",
      "state_dummy__CAPITAL FEDERAL                351.3699      8.731     40.245      0.000     334.258     368.482\n",
      "state_dummy__CATAMARCA                     -559.8809    285.384     -1.962      0.050   -1119.239      -0.523\n",
      "state_dummy__CHACO                         -583.7217    133.371     -4.377      0.000    -845.130    -322.313\n",
      "state_dummy__CHUBUT                          71.8396     64.561      1.113      0.266     -54.701     198.380\n",
      "state_dummy__CORRIENTES                    -189.1761     45.735     -4.136      0.000    -278.818     -99.534\n",
      "state_dummy__CÓRDOBA                       -748.5852     14.075    -53.186      0.000    -776.172    -720.998\n",
      "state_dummy__ENTRE RÍOS                    -713.0014     85.499     -8.339      0.000    -880.582    -545.421\n",
      "state_dummy__FORMOSA                       -693.1375    319.045     -2.173      0.030   -1318.471     -67.804\n",
      "state_dummy__JUJUY                         -753.4880    319.039     -2.362      0.018   -1378.810    -128.167\n",
      "state_dummy__LA PAMPA                      -523.2084    225.667     -2.318      0.020    -965.520     -80.897\n",
      "state_dummy__LA RIOJA                      6.543e-12   2.21e-12      2.960      0.003    2.21e-12    1.09e-11\n",
      "state_dummy__MENDOZA                       -527.6933     47.062    -11.213      0.000    -619.936    -435.450\n",
      "state_dummy__MISIONES                      -778.0951     53.739    -14.479      0.000    -883.424    -672.766\n",
      "state_dummy__NEUQUÉN                        -54.0162     52.666     -1.026      0.305    -157.243      49.210\n",
      "state_dummy__RÍO NEGRO                      -42.1603     53.827     -0.783      0.433    -147.663      63.342\n",
      "state_dummy__SALTA                         -718.3854    109.602     -6.554      0.000    -933.207    -503.564\n",
      "state_dummy__SAN JUAN                       -17.7521    451.114     -0.039      0.969    -901.943     866.438\n",
      "state_dummy__SAN LUIS                      -532.2930     70.341     -7.567      0.000    -670.163    -394.423\n",
      "state_dummy__SANTA CRUZ                    -402.5835    225.722     -1.784      0.075    -845.002      39.835\n",
      "state_dummy__SANTA FE                      -513.7336     14.468    -35.509      0.000    -542.090    -485.377\n",
      "state_dummy__SANTIAGO DEL ESTERO          -1248.5811    368.340     -3.390      0.001   -1970.533    -526.629\n",
      "state_dummy__TIERRA DEL FUEGO              -384.0696    139.418     -2.755      0.006    -657.332    -110.807\n",
      "state_dummy__TUCUMÁN                      -1013.2200     58.435    -17.339      0.000   -1127.754    -898.686\n",
      "rooms_dummy__2.0                            -15.1109      9.663     -1.564      0.118     -34.050       3.828\n",
      "rooms_dummy__3.0                            -98.3525      9.606    -10.239      0.000    -117.180     -79.525\n",
      "rooms_dummy__4.0                            -99.9521     11.657     -8.574      0.000    -122.801     -77.104\n",
      "rooms_dummy__5.0                           -123.1009     17.240     -7.140      0.000    -156.892     -89.310\n",
      "rooms_dummy__6.0                           -155.3267     31.221     -4.975      0.000    -216.521     -94.133\n",
      "rooms_dummy__7.0                           -178.2736     46.011     -3.875      0.000    -268.456     -88.091\n",
      "rooms_dummy__8.0                           -173.0251     76.040     -2.275      0.023    -322.065     -23.985\n",
      "rooms_dummy__9.0                           -272.4547    150.598     -1.809      0.070    -567.630      22.720\n",
      "rooms_dummy__10.0                          -115.5581     86.112     -1.342      0.180    -284.339      53.223\n",
      "rooms_dummy__11.0                         -1107.6102    318.991     -3.472      0.001   -1732.838    -482.382\n",
      "rooms_dummy__12.0                          -493.1481    285.719     -1.726      0.084   -1053.161      66.865\n",
      "rooms_dummy__13.0                          -464.4476    451.912     -1.028      0.304   -1350.203     421.308\n",
      "rooms_dummy__14.0                         -1665.1454    637.905     -2.610      0.009   -2915.450    -414.841\n",
      "rooms_dummy__15.0                          6619.4114    715.643      9.250      0.000    5216.740    8022.083\n",
      "rooms_dummy__16.0                          -220.1501    640.122     -0.344      0.731   -1474.800    1034.500\n",
      "rooms_dummy__22.0                          3.389e-13   1.71e-13      1.986      0.047    4.39e-15    6.73e-13\n",
      "rooms_dummy__32.0                           336.8501    637.939      0.528      0.597    -913.521    1587.221\n",
      "amenities_dummy__1                           19.3675      9.142      2.119      0.034       1.449      37.286\n",
      "amenities_dummy__2                          128.4880      9.529     13.485      0.000     109.812     147.164\n",
      "amenities_dummy__3                          209.0749     10.409     20.087      0.000     188.674     229.476\n",
      "amenities_dummy__4                          286.2623     12.095     23.668      0.000     262.556     309.969\n",
      "amenities_dummy__5                          339.7941     18.904     17.975      0.000     302.742     376.847\n",
      "amenities_dummy__6                          245.1749     52.439      4.675      0.000     142.393     347.957\n",
      "==============================================================================\n",
      "Omnibus:                     5773.055   Durbin-Watson:                   1.994\n",
      "Prob(Omnibus):                  0.000   Jarque-Bera (JB):            15039.994\n",
      "Skew:                           0.718   Prob(JB):                         0.00\n",
      "Kurtosis:                       5.423   Cond. No.                     1.02e+16\n",
      "==============================================================================\n",
      "\n",
      "Warnings:\n",
      "[1] Standard Errors assume that the covariance matrix of the errors is correctly specified.\n",
      "[2] The smallest eigenvalue is 6.04e-22. This might indicate that there are\n",
      "strong multicollinearity problems or that the design matrix is singular.\n",
      "MAE: 495.14188671416224\n",
      "MSE: 419346.38825652143\n",
      "RMSE: 647.5696010905094\n",
      "R2: 0.49832379064541166\n"
     ]
    }
   ],
   "source": [
    "# Usamos todos los features para anlizar los p-value:\n",
    "feature_cols = ['surface_total_in_m2', 'dummy_HOUSE', 'dummy_PH', 'dummy_STORE', 'state_dummy__BS.AS. G.B.A. ZONA OESTE',\n",
    "       'state_dummy__BS.AS. G.B.A. ZONA SUR',\n",
    "       'state_dummy__BUENOS AIRES COSTA ATLÁNTICA',\n",
    "       'state_dummy__BUENOS AIRES INTERIOR', 'state_dummy__CAPITAL FEDERAL',\n",
    "       'state_dummy__CATAMARCA', 'state_dummy__CHACO', 'state_dummy__CHUBUT',\n",
    "       'state_dummy__CORRIENTES', 'state_dummy__CÓRDOBA',\n",
    "       'state_dummy__ENTRE RÍOS', 'state_dummy__FORMOSA', 'state_dummy__JUJUY',\n",
    "       'state_dummy__LA PAMPA', 'state_dummy__LA RIOJA',\n",
    "       'state_dummy__MENDOZA', 'state_dummy__MISIONES', 'state_dummy__NEUQUÉN',\n",
    "       'state_dummy__RÍO NEGRO', 'state_dummy__SALTA', 'state_dummy__SAN JUAN',\n",
    "       'state_dummy__SAN LUIS', 'state_dummy__SANTA CRUZ',\n",
    "       'state_dummy__SANTA FE', 'state_dummy__SANTIAGO DEL ESTERO',\n",
    "       'state_dummy__TIERRA DEL FUEGO', 'state_dummy__TUCUMÁN', 'rooms_dummy__2.0', 'rooms_dummy__3.0', 'rooms_dummy__4.0',\n",
    "       'rooms_dummy__5.0', 'rooms_dummy__6.0', 'rooms_dummy__7.0',\n",
    "       'rooms_dummy__8.0', 'rooms_dummy__9.0', 'rooms_dummy__10.0',\n",
    "       'rooms_dummy__11.0', 'rooms_dummy__12.0', 'rooms_dummy__13.0',\n",
    "       'rooms_dummy__14.0', 'rooms_dummy__15.0', 'rooms_dummy__16.0',\n",
    "       'rooms_dummy__22.0', 'rooms_dummy__32.0', 'amenities_dummy__1',\n",
    "       'amenities_dummy__2', 'amenities_dummy__3', 'amenities_dummy__4',\n",
    "       'amenities_dummy__5', 'amenities_dummy__6']\n",
    "\n",
    "stat_modelo_1 = statsmodel_linear(feature_cols)"
   ]
  },
  {
   "cell_type": "markdown",
   "metadata": {},
   "source": [
    "---\n",
    "<a id=\"section_mejora\"></a> \n",
    "## Mejora del modelo - Ridge, Lasso\n",
    "\n",
    "[volver a TOC](#section_toc)"
   ]
  },
  {
   "cell_type": "markdown",
   "metadata": {},
   "source": [
    "Generamos nuevas variables para testear el modelo:"
   ]
  },
  {
   "cell_type": "code",
   "execution_count": 395,
   "metadata": {},
   "outputs": [],
   "source": [
    "data['sup_2'] = data.surface_total_in_m2**2\n",
    "data['sup_3'] = data.surface_total_in_m2**3\n",
    "data['sup_4'] = data.surface_total_in_m2**4\n",
    "data['sup_5'] = data.surface_total_in_m2**5\n",
    "data['sup_log'] = np.log(data.surface_total_in_m2)"
   ]
  },
  {
   "cell_type": "markdown",
   "metadata": {},
   "source": [
    "Usamos Ridge y Lasso para el testeo del modelo:"
   ]
  },
  {
   "cell_type": "code",
   "execution_count": 396,
   "metadata": {},
   "outputs": [
    {
     "name": "stdout",
     "output_type": "stream",
     "text": [
      "La media del error absoluto es 464.15\n",
      "La raíz del error cuadrático medio 609.17\n",
      "El R2 de entrenamiento del modelo es 0.56\n",
      "El R2 de testeo del modelo es 0.555767\n",
      "-\n",
      "La media del error absoluto es 466.35\n",
      "La raíz del error cuadrático medio 611.22\n",
      "El R2 de entrenamiento del modelo es 0.56\n",
      "El R2 de testeo del modelo es 0.552767\n",
      "El alpha utilizado en la regularización es: 0.1\n"
     ]
    }
   ],
   "source": [
    "# Agregamos al modelo la variable surface_total_in_m2 en formato logaritmo:\n",
    "feature_cols15 = ['surface_total_in_m2', 'dummy_HOUSE', 'dummy_PH', 'dummy_STORE', 'state_dummy__BS.AS. G.B.A. ZONA OESTE',\n",
    "       'state_dummy__BS.AS. G.B.A. ZONA SUR',\n",
    "       'state_dummy__BUENOS AIRES COSTA ATLÁNTICA',\n",
    "       'state_dummy__BUENOS AIRES INTERIOR', 'state_dummy__CAPITAL FEDERAL',\n",
    "       'state_dummy__CATAMARCA', 'state_dummy__CHACO', 'state_dummy__CHUBUT',\n",
    "       'state_dummy__CORRIENTES', 'state_dummy__CÓRDOBA',\n",
    "       'state_dummy__ENTRE RÍOS', 'state_dummy__FORMOSA', 'state_dummy__JUJUY',\n",
    "       'state_dummy__LA PAMPA', 'state_dummy__LA RIOJA',\n",
    "       'state_dummy__MENDOZA', 'state_dummy__MISIONES', 'state_dummy__NEUQUÉN',\n",
    "       'state_dummy__RÍO NEGRO', 'state_dummy__SALTA', 'state_dummy__SAN JUAN',\n",
    "       'state_dummy__SAN LUIS', 'state_dummy__SANTA CRUZ',\n",
    "       'state_dummy__SANTA FE', 'state_dummy__SANTIAGO DEL ESTERO',\n",
    "       'state_dummy__TIERRA DEL FUEGO', 'state_dummy__TUCUMÁN', 'rooms_dummy__2.0', 'rooms_dummy__3.0', 'rooms_dummy__4.0',\n",
    "       'rooms_dummy__5.0', 'rooms_dummy__6.0', 'rooms_dummy__7.0',\n",
    "       'rooms_dummy__8.0', 'rooms_dummy__9.0', 'rooms_dummy__10.0',\n",
    "       'rooms_dummy__11.0', 'rooms_dummy__12.0', 'rooms_dummy__13.0',\n",
    "       'rooms_dummy__14.0', 'rooms_dummy__15.0', 'rooms_dummy__16.0',\n",
    "       'rooms_dummy__22.0', 'rooms_dummy__32.0', 'pileta', 'quincho', 'patio', 'cochera', 'balcon', 'sup_log']\n",
    "\n",
    "display(modelo_15 = train_test(data, feature_cols15))\n",
    "print(\"-\")\n",
    "display(modelo_15_ = train_test(data, feature_cols15, 0, RidgeCV(normalize=True, cv=3)))"
   ]
  },
  {
   "cell_type": "code",
   "execution_count": 397,
   "metadata": {},
   "outputs": [
    {
     "name": "stdout",
     "output_type": "stream",
     "text": [
      "La media del error absoluto es 464.45\n",
      "La raíz del error cuadrático medio 610.74\n",
      "El R2 de entrenamiento del modelo es 0.56\n",
      "El R2 de testeo del modelo es 0.553481\n"
     ]
    }
   ],
   "source": [
    "# Agregamos al modelo la variable surface_total_in_m2 en formato exponencial grado 2:\n",
    "feature_cols16 = ['surface_total_in_m2', 'dummy_HOUSE', 'dummy_PH', 'dummy_STORE', 'state_dummy__BS.AS. G.B.A. ZONA OESTE',\n",
    "       'state_dummy__BS.AS. G.B.A. ZONA SUR',\n",
    "       'state_dummy__BUENOS AIRES COSTA ATLÁNTICA',\n",
    "       'state_dummy__BUENOS AIRES INTERIOR', 'state_dummy__CAPITAL FEDERAL',\n",
    "       'state_dummy__CATAMARCA', 'state_dummy__CHACO', 'state_dummy__CHUBUT',\n",
    "       'state_dummy__CORRIENTES', 'state_dummy__CÓRDOBA',\n",
    "       'state_dummy__ENTRE RÍOS', 'state_dummy__FORMOSA', 'state_dummy__JUJUY',\n",
    "       'state_dummy__LA PAMPA', 'state_dummy__LA RIOJA',\n",
    "       'state_dummy__MENDOZA', 'state_dummy__MISIONES', 'state_dummy__NEUQUÉN',\n",
    "       'state_dummy__RÍO NEGRO', 'state_dummy__SALTA', 'state_dummy__SAN JUAN',\n",
    "       'state_dummy__SAN LUIS', 'state_dummy__SANTA CRUZ',\n",
    "       'state_dummy__SANTA FE', 'state_dummy__SANTIAGO DEL ESTERO',\n",
    "       'state_dummy__TIERRA DEL FUEGO', 'state_dummy__TUCUMÁN', 'rooms_dummy__2.0', 'rooms_dummy__3.0', 'rooms_dummy__4.0',\n",
    "       'rooms_dummy__5.0', 'rooms_dummy__6.0', 'rooms_dummy__7.0',\n",
    "       'rooms_dummy__8.0', 'rooms_dummy__9.0', 'rooms_dummy__10.0',\n",
    "       'rooms_dummy__11.0', 'rooms_dummy__12.0', 'rooms_dummy__13.0',\n",
    "       'rooms_dummy__14.0', 'rooms_dummy__15.0', 'rooms_dummy__16.0',\n",
    "       'rooms_dummy__22.0', 'rooms_dummy__32.0', 'pileta', 'quincho', 'patio', 'cochera', 'balcon', 'sup_log', 'sup_2']\n",
    "\n",
    "modelo_16 = train_test(data, feature_cols16)"
   ]
  },
  {
   "cell_type": "code",
   "execution_count": 398,
   "metadata": {},
   "outputs": [
    {
     "name": "stdout",
     "output_type": "stream",
     "text": [
      "La media del error absoluto es 470.81\n",
      "La raíz del error cuadrático medio 652.46\n",
      "El R2 de entrenamiento del modelo es 0.56\n",
      "El R2 de testeo del modelo es 0.49038\n"
     ]
    }
   ],
   "source": [
    "# Agregamos al modelo la variable surface_total_in_m2 en formato exponencial grado 3:\n",
    "feature_cols17 = ['surface_total_in_m2', 'dummy_HOUSE', 'dummy_PH', 'dummy_STORE', 'state_dummy__BS.AS. G.B.A. ZONA OESTE',\n",
    "       'state_dummy__BS.AS. G.B.A. ZONA SUR',\n",
    "       'state_dummy__BUENOS AIRES COSTA ATLÁNTICA',\n",
    "       'state_dummy__BUENOS AIRES INTERIOR', 'state_dummy__CAPITAL FEDERAL',\n",
    "       'state_dummy__CATAMARCA', 'state_dummy__CHACO', 'state_dummy__CHUBUT',\n",
    "       'state_dummy__CORRIENTES', 'state_dummy__CÓRDOBA',\n",
    "       'state_dummy__ENTRE RÍOS', 'state_dummy__FORMOSA', 'state_dummy__JUJUY',\n",
    "       'state_dummy__LA PAMPA', 'state_dummy__LA RIOJA',\n",
    "       'state_dummy__MENDOZA', 'state_dummy__MISIONES', 'state_dummy__NEUQUÉN',\n",
    "       'state_dummy__RÍO NEGRO', 'state_dummy__SALTA', 'state_dummy__SAN JUAN',\n",
    "       'state_dummy__SAN LUIS', 'state_dummy__SANTA CRUZ',\n",
    "       'state_dummy__SANTA FE', 'state_dummy__SANTIAGO DEL ESTERO',\n",
    "       'state_dummy__TIERRA DEL FUEGO', 'state_dummy__TUCUMÁN', 'rooms_dummy__2.0', 'rooms_dummy__3.0', 'rooms_dummy__4.0',\n",
    "       'rooms_dummy__5.0', 'rooms_dummy__6.0', 'rooms_dummy__7.0',\n",
    "       'rooms_dummy__8.0', 'rooms_dummy__9.0', 'rooms_dummy__10.0',\n",
    "       'rooms_dummy__11.0', 'rooms_dummy__12.0', 'rooms_dummy__13.0',\n",
    "       'rooms_dummy__14.0', 'rooms_dummy__15.0', 'rooms_dummy__16.0',\n",
    "       'rooms_dummy__22.0', 'rooms_dummy__32.0', 'pileta', 'quincho', 'patio', 'cochera', 'balcon', 'sup_log', 'sup_2', 'sup_3']\n",
    "\n",
    "modelo_17 = train_test(data, feature_cols17)"
   ]
  },
  {
   "cell_type": "code",
   "execution_count": 399,
   "metadata": {},
   "outputs": [
    {
     "name": "stdout",
     "output_type": "stream",
     "text": [
      "La media del error absoluto es 667.34\n",
      "La raíz del error cuadrático medio 1590.21\n",
      "El R2 de entrenamiento del modelo es 0.02\n",
      "El R2 de testeo del modelo es -2.027196\n"
     ]
    }
   ],
   "source": [
    "#Le agregamos al modelo la variable surface_total_in_m2 en formato exponencial grado 4:\n",
    "feature_cols18 = ['surface_total_in_m2', 'dummy_HOUSE', 'dummy_PH', 'dummy_STORE', 'state_dummy__BS.AS. G.B.A. ZONA OESTE',\n",
    "       'state_dummy__BS.AS. G.B.A. ZONA SUR',\n",
    "       'state_dummy__BUENOS AIRES COSTA ATLÁNTICA',\n",
    "       'state_dummy__BUENOS AIRES INTERIOR', 'state_dummy__CAPITAL FEDERAL',\n",
    "       'state_dummy__CATAMARCA', 'state_dummy__CHACO', 'state_dummy__CHUBUT',\n",
    "       'state_dummy__CORRIENTES', 'state_dummy__CÓRDOBA',\n",
    "       'state_dummy__ENTRE RÍOS', 'state_dummy__FORMOSA', 'state_dummy__JUJUY',\n",
    "       'state_dummy__LA PAMPA', 'state_dummy__LA RIOJA',\n",
    "       'state_dummy__MENDOZA', 'state_dummy__MISIONES', 'state_dummy__NEUQUÉN',\n",
    "       'state_dummy__RÍO NEGRO', 'state_dummy__SALTA', 'state_dummy__SAN JUAN',\n",
    "       'state_dummy__SAN LUIS', 'state_dummy__SANTA CRUZ',\n",
    "       'state_dummy__SANTA FE', 'state_dummy__SANTIAGO DEL ESTERO',\n",
    "       'state_dummy__TIERRA DEL FUEGO', 'state_dummy__TUCUMÁN', 'rooms_dummy__2.0', 'rooms_dummy__3.0', 'rooms_dummy__4.0',\n",
    "       'rooms_dummy__5.0', 'rooms_dummy__6.0', 'rooms_dummy__7.0',\n",
    "       'rooms_dummy__8.0', 'rooms_dummy__9.0', 'rooms_dummy__10.0',\n",
    "       'rooms_dummy__11.0', 'rooms_dummy__12.0', 'rooms_dummy__13.0',\n",
    "       'rooms_dummy__14.0', 'rooms_dummy__15.0', 'rooms_dummy__16.0',\n",
    "       'rooms_dummy__22.0', 'rooms_dummy__32.0', 'pileta', 'quincho', 'patio', 'cochera', 'balcon', 'sup_log', 'sup_2', 'sup_3', 'sup_4']\n",
    "\n",
    "modelo_18 = train_test(data, feature_cols18)"
   ]
  },
  {
   "cell_type": "code",
   "execution_count": 400,
   "metadata": {},
   "outputs": [
    {
     "name": "stderr",
     "output_type": "stream",
     "text": [
      "C:\\Users\\Alan\\anaconda3\\envs\\dhdsblend\\lib\\site-packages\\pandas\\core\\series.py:679: RuntimeWarning: divide by zero encountered in log\n",
      "  result = getattr(ufunc, method)(*inputs, **kwargs)\n"
     ]
    }
   ],
   "source": [
    "# Transformamos la variable surface_covered_in_m2 en logaritmo y transformamos sus valores infinitos en NaN:\n",
    "data['sup_covered_log'] = np.log(data.surface_covered_in_m2)\n",
    "data['sup_covered_log'] = data.sup_covered_log.replace([np.inf, -np.inf], np.nan)"
   ]
  },
  {
   "cell_type": "code",
   "execution_count": 401,
   "metadata": {},
   "outputs": [],
   "source": [
    "#Eliminamos los valores nulos de la columna surface_covered_in_m2 para agregar esta variable al modelo:\n",
    "sup_cubierta_sin_nulos = data.surface_covered_in_m2.notnull()\n",
    "data_filtro = data.loc[sup_cubierta_sin_nulos]"
   ]
  },
  {
   "cell_type": "code",
   "execution_count": 402,
   "metadata": {},
   "outputs": [],
   "source": [
    "#Eliminamos los valores nulos de la nueva variable sup_covered_log:\n",
    "sup_cubierta_sin_nulos = data_filtro.sup_covered_log.notnull()\n",
    "data_filtro = data_filtro.loc[sup_cubierta_sin_nulos]"
   ]
  },
  {
   "cell_type": "code",
   "execution_count": 403,
   "metadata": {},
   "outputs": [
    {
     "name": "stdout",
     "output_type": "stream",
     "text": [
      "La media del error absoluto es 456.3\n",
      "La raíz del error cuadrático medio 600.85\n",
      "El R2 de entrenamiento del modelo es 0.56\n",
      "El R2 de testeo del modelo es 0.572246\n"
     ]
    }
   ],
   "source": [
    "#Le agregamos al modelo la variable surface_covered_in_m2 sin valores nulos:\n",
    "feature_cols19 = ['surface_total_in_m2', 'dummy_HOUSE', 'dummy_PH', 'dummy_STORE', 'state_dummy__BS.AS. G.B.A. ZONA OESTE',\n",
    "       'state_dummy__BS.AS. G.B.A. ZONA SUR',\n",
    "       'state_dummy__BUENOS AIRES COSTA ATLÁNTICA',\n",
    "       'state_dummy__BUENOS AIRES INTERIOR', 'state_dummy__CAPITAL FEDERAL',\n",
    "       'state_dummy__CATAMARCA', 'state_dummy__CHACO', 'state_dummy__CHUBUT',\n",
    "       'state_dummy__CORRIENTES', 'state_dummy__CÓRDOBA',\n",
    "       'state_dummy__ENTRE RÍOS', 'state_dummy__FORMOSA', 'state_dummy__JUJUY',\n",
    "       'state_dummy__LA PAMPA', 'state_dummy__LA RIOJA',\n",
    "       'state_dummy__MENDOZA', 'state_dummy__MISIONES', 'state_dummy__NEUQUÉN',\n",
    "       'state_dummy__RÍO NEGRO', 'state_dummy__SALTA', 'state_dummy__SAN JUAN',\n",
    "       'state_dummy__SAN LUIS', 'state_dummy__SANTA CRUZ',\n",
    "       'state_dummy__SANTA FE', 'state_dummy__SANTIAGO DEL ESTERO',\n",
    "       'state_dummy__TIERRA DEL FUEGO', 'state_dummy__TUCUMÁN', 'rooms_dummy__2.0', 'rooms_dummy__3.0', 'rooms_dummy__4.0',\n",
    "       'rooms_dummy__5.0', 'rooms_dummy__6.0', 'rooms_dummy__7.0',\n",
    "       'rooms_dummy__8.0', 'rooms_dummy__9.0', 'rooms_dummy__10.0',\n",
    "       'rooms_dummy__11.0', 'rooms_dummy__12.0', 'rooms_dummy__13.0',\n",
    "       'rooms_dummy__14.0', 'rooms_dummy__15.0', 'rooms_dummy__16.0',\n",
    "       'rooms_dummy__22.0', 'rooms_dummy__32.0', 'pileta', 'quincho', 'patio', 'cochera', 'balcon', 'sup_log', 'surface_covered_in_m2']\n",
    "\n",
    "modelo_19 = train_test(data_filtro, feature_cols19)"
   ]
  },
  {
   "cell_type": "code",
   "execution_count": 404,
   "metadata": {},
   "outputs": [
    {
     "name": "stdout",
     "output_type": "stream",
     "text": [
      "La media del error absoluto es 442.29\n",
      "La raíz del error cuadrático medio 589.95\n",
      "El R2 de entrenamiento del modelo es 0.57\n",
      "El R2 de testeo del modelo es 0.587621\n",
      "-\n",
      "La media del error absoluto es 442.35\n",
      "La raíz del error cuadrático medio 589.99\n",
      "El R2 de entrenamiento del modelo es 0.57\n",
      "El R2 de testeo del modelo es 0.587571\n",
      "El alpha utilizado en la regularización es: 0.007051550829892824\n"
     ]
    }
   ],
   "source": [
    "#Y la variable sup_covered_log:\n",
    "feature_cols20 = ['surface_total_in_m2', 'dummy_HOUSE', 'dummy_PH', 'dummy_STORE', 'state_dummy__BS.AS. G.B.A. ZONA OESTE',\n",
    "       'state_dummy__BS.AS. G.B.A. ZONA SUR',\n",
    "       'state_dummy__BUENOS AIRES COSTA ATLÁNTICA',\n",
    "       'state_dummy__BUENOS AIRES INTERIOR', 'state_dummy__CAPITAL FEDERAL',\n",
    "       'state_dummy__CATAMARCA', 'state_dummy__CHACO', 'state_dummy__CHUBUT',\n",
    "       'state_dummy__CORRIENTES', 'state_dummy__CÓRDOBA',\n",
    "       'state_dummy__ENTRE RÍOS', 'state_dummy__FORMOSA', 'state_dummy__JUJUY',\n",
    "       'state_dummy__LA PAMPA', 'state_dummy__LA RIOJA',\n",
    "       'state_dummy__MENDOZA', 'state_dummy__MISIONES', 'state_dummy__NEUQUÉN',\n",
    "       'state_dummy__RÍO NEGRO', 'state_dummy__SALTA', 'state_dummy__SAN JUAN',\n",
    "       'state_dummy__SAN LUIS', 'state_dummy__SANTA CRUZ',\n",
    "       'state_dummy__SANTA FE', 'state_dummy__SANTIAGO DEL ESTERO',\n",
    "       'state_dummy__TIERRA DEL FUEGO', 'state_dummy__TUCUMÁN', 'rooms_dummy__2.0', 'rooms_dummy__3.0', 'rooms_dummy__4.0',\n",
    "       'rooms_dummy__5.0', 'rooms_dummy__6.0', 'rooms_dummy__7.0',\n",
    "       'rooms_dummy__8.0', 'rooms_dummy__9.0', 'rooms_dummy__10.0',\n",
    "       'rooms_dummy__11.0', 'rooms_dummy__12.0', 'rooms_dummy__13.0',\n",
    "       'rooms_dummy__14.0', 'rooms_dummy__15.0', 'rooms_dummy__16.0',\n",
    "       'rooms_dummy__22.0', 'rooms_dummy__32.0', 'amenities_dummy__1',\n",
    "       'amenities_dummy__2', 'amenities_dummy__3', 'amenities_dummy__4',\n",
    "       'amenities_dummy__5', 'amenities_dummy__6', 'amenities_dummy__1',\n",
    "       'amenities_dummy__2', 'amenities_dummy__3', 'amenities_dummy__4',\n",
    "       'amenities_dummy__5', 'amenities_dummy__6', 'sup_log', 'surface_covered_in_m2', 'sup_covered_log']\n",
    "\n",
    "modelo_20 = train_test(data_filtro, feature_cols20)\n",
    "print(\"-\")\n",
    "modelo_20_ = train_test(data_filtro, feature_cols20, 0, LassoCV(normalize=True, cv=3))"
   ]
  },
  {
   "cell_type": "code",
   "execution_count": 405,
   "metadata": {},
   "outputs": [
    {
     "name": "stdout",
     "output_type": "stream",
     "text": [
      "Modelo 12\n"
     ]
    },
    {
     "data": {
      "image/png": "[encoded data removed]",
      "text/plain": [
       "<Figure size 864x288 with 2 Axes>"
      ]
     },
     "metadata": {
      "needs_background": "light"
     },
     "output_type": "display_data"
    },
    {
     "name": "stdout",
     "output_type": "stream",
     "text": [
      "Modelo 1\n"
     ]
    },
    {
     "data": {
      "image/png": "[encoded data removed]",
      "text/plain": [
       "<Figure size 864x288 with 2 Axes>"
      ]
     },
     "metadata": {
      "needs_background": "light"
     },
     "output_type": "display_data"
    }
   ],
   "source": [
    "# Gráfico de modelos y errores:\n",
    "X = data[feature_cols12]\n",
    "y = data.price_usd_per_m2\n",
    "\n",
    "X_train, X_test, y_train, y_test = train_test_split(X, y, random_state=10)\n",
    "lm = LinearRegression()\n",
    "modelo12 = lm.fit(X_train, y_train)\n",
    "predictions12 = modelo12.predict(X)\n",
    "\n",
    "W = data[feature_cols1]\n",
    "z = data.price_usd_per_m2\n",
    "\n",
    "W_train, W_test, z_train, z_test = train_test_split(W, z, random_state=10)\n",
    "lm = LinearRegression()\n",
    "modelo1 = lm.fit(W_train, z_train)\n",
    "predictions1 = modelo1.predict(W)\n",
    "\n",
    "def plot_y(modelo, X, Y):\n",
    "    \n",
    "    pred = modelo.predict(X)\n",
    "    errores = (Y - pred).abs()\n",
    "    \n",
    "    if pred.max() > Y.max():\n",
    "        maxi = pred.max()\n",
    "    else:\n",
    "        maxi = Y.max()\n",
    "    if pred.min() < Y.min():\n",
    "        mini = pred.min()\n",
    "    else:\n",
    "        mini = Y.min()\n",
    "    fig, (ax1,ax2) = plt.subplots(1,2,figsize=(12,4), sharey=True)\n",
    "    sns.scatterplot(x=pred, y=Y, ax=ax1, size=(errores).tolist(), legend=False)\n",
    "    ax1.set_title('Predicciones vs Y')\n",
    "    ax1.set_ylim(mini,maxi),ax1.set_xlim(mini,maxi),ax1.set_xlabel('Predicciones'),ax1.set_ylabel('Y_test')\n",
    "    ax1.plot([0, 1], [0, 1], transform=ax1.transAxes, color='red',linestyle=':')\n",
    "    sns.scatterplot(x=errores, y=Y, ax=ax2, size=(errores).tolist(),legend=False)\n",
    "    ax2.set_title('Errores')\n",
    "    ax2.set_xlabel('Errores'),ax2.set_ylabel('Y_test')\n",
    "    plt.show();\n",
    "\n",
    "# vemos diferencia entre el primer modelo y el segundo\n",
    "print('Modelo 12')\n",
    "plot_y(modelo12, X=X_test, Y=y_test)\n",
    "print('Modelo 1')\n",
    "plot_y(modelo1, X=W_test, Y=z_test)"
   ]
  },
  {
   "cell_type": "code",
   "execution_count": 406,
   "metadata": {},
   "outputs": [
    {
     "data": {
      "image/png": "[encoded data removed]",
      "text/plain": [
       "<Figure size 432x288 with 1 Axes>"
      ]
     },
     "metadata": {
      "needs_background": "light"
     },
     "output_type": "display_data"
    },
    {
     "data": {
      "text/plain": [
       "1831.1028572674875"
      ]
     },
     "execution_count": 406,
     "metadata": {},
     "output_type": "execute_result"
    }
   ],
   "source": [
    "# Graficamos el modelo lineal simple:\n",
    "plt.plot(z,z, '-.',c='grey')\n",
    "plt.scatter(predictions1, y, s=30, c='r', marker='+', zorder=10)\n",
    "plt.xlabel(\"Predicciones de MEDV usando todas las variables\")\n",
    "plt.ylabel(\"Valores reales MEDV\")\n",
    "plt.show()\n",
    "\n",
    "modelo1.coef_\n",
    "modelo1.intercept_"
   ]
  },
  {
   "cell_type": "code",
   "execution_count": 407,
   "metadata": {},
   "outputs": [
    {
     "data": {
      "image/png": "[encoded data removed]",
      "text/plain": [
       "<Figure size 432x288 with 1 Axes>"
      ]
     },
     "metadata": {
      "needs_background": "light"
     },
     "output_type": "display_data"
    }
   ],
   "source": [
    "# Graficamos el modelo 12:\n",
    "plt.plot(z,z, '-.',c='grey')\n",
    "plt.scatter(predictions12, y, s=30, c='r', marker='+', zorder=10)\n",
    "plt.xlabel(\"Predicciones de price_usd_per_m2 usando variables Modelo12\")\n",
    "plt.ylabel(\"Valores reales price_usd_per_m2\")\n",
    "plt.show()"
   ]
  }
 ],
 "metadata": {
  "kernelspec": {
   "display_name": "Python 3",
   "language": "python",
   "name": "python3"
  },
  "language_info": {
   "codemirror_mode": {
    "name": "ipython",
    "version": 3
   },
   "file_extension": ".py",
   "mimetype": "text/x-python",
   "name": "python",
   "nbconvert_exporter": "python",
   "pygments_lexer": "ipython3",
   "version": "3.7.9"
  }
 },
 "nbformat": 4,
 "nbformat_minor": 4
}
