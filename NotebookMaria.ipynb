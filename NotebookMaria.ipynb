{
 "cells": [
  {
   "cell_type": "code",
   "execution_count": 1,
   "metadata": {},
   "outputs": [],
   "source": [
    "#Import libraries\n",
    "\n",
    "import pandas as pd\n",
    "import numpy as np\n",
    "import matplotlib as mpl\n",
    "import matplotlib.pyplot as plt\n",
    "import seaborn as sns\n"
   ]
  },
  {
   "cell_type": "code",
   "execution_count": 2,
   "metadata": {},
   "outputs": [],
   "source": [
    "import plotly.express as px\n",
    "import chart_studio\n",
    "import chart_studio.plotly as py"
   ]
  },
  {
   "cell_type": "code",
   "execution_count": 2,
   "metadata": {},
   "outputs": [
    {
     "data": {
      "text/html": [
       "<div>\n",
       "<style scoped>\n",
       "    .dataframe tbody tr th:only-of-type {\n",
       "        vertical-align: middle;\n",
       "    }\n",
       "\n",
       "    .dataframe tbody tr th {\n",
       "        vertical-align: top;\n",
       "    }\n",
       "\n",
       "    .dataframe thead th {\n",
       "        text-align: right;\n",
       "    }\n",
       "</style>\n",
       "<table border=\"1\" class=\"dataframe\">\n",
       "  <thead>\n",
       "    <tr style=\"text-align: right;\">\n",
       "      <th></th>\n",
       "      <th>Unnamed: 0</th>\n",
       "      <th>operation</th>\n",
       "      <th>property_type</th>\n",
       "      <th>place_name</th>\n",
       "      <th>place_with_parent_names</th>\n",
       "      <th>country_name</th>\n",
       "      <th>state_name</th>\n",
       "      <th>geonames_id</th>\n",
       "      <th>lat-lon</th>\n",
       "      <th>lat</th>\n",
       "      <th>...</th>\n",
       "      <th>surface_covered_in_m2</th>\n",
       "      <th>price_usd_per_m2</th>\n",
       "      <th>price_per_m2</th>\n",
       "      <th>floor</th>\n",
       "      <th>rooms</th>\n",
       "      <th>expenses</th>\n",
       "      <th>properati_url</th>\n",
       "      <th>description</th>\n",
       "      <th>title</th>\n",
       "      <th>image_thumbnail</th>\n",
       "    </tr>\n",
       "  </thead>\n",
       "  <tbody>\n",
       "    <tr>\n",
       "      <th>0</th>\n",
       "      <td>0</td>\n",
       "      <td>sell</td>\n",
       "      <td>PH</td>\n",
       "      <td>Mataderos</td>\n",
       "      <td>|Argentina|Capital Federal|Mataderos|</td>\n",
       "      <td>Argentina</td>\n",
       "      <td>Capital Federal</td>\n",
       "      <td>3430787.0</td>\n",
       "      <td>-34.6618237,-58.5088387</td>\n",
       "      <td>-34.661824</td>\n",
       "      <td>...</td>\n",
       "      <td>40.0</td>\n",
       "      <td>1127.272727</td>\n",
       "      <td>1550.000000</td>\n",
       "      <td>NaN</td>\n",
       "      <td>NaN</td>\n",
       "      <td>NaN</td>\n",
       "      <td>http://www.properati.com.ar/15bo8_venta_ph_mat...</td>\n",
       "      <td>2 AMBIENTES TIPO CASA PLANTA BAJA POR PASILLO,...</td>\n",
       "      <td>2 AMB TIPO CASA SIN EXPENSAS EN PB</td>\n",
       "      <td>https://thumbs4.properati.com/8/BluUYiHJLhgIIK...</td>\n",
       "    </tr>\n",
       "    <tr>\n",
       "      <th>1</th>\n",
       "      <td>1</td>\n",
       "      <td>sell</td>\n",
       "      <td>apartment</td>\n",
       "      <td>La Plata</td>\n",
       "      <td>|Argentina|Bs.As. G.B.A. Zona Sur|La Plata|</td>\n",
       "      <td>Argentina</td>\n",
       "      <td>Bs.As. G.B.A. Zona Sur</td>\n",
       "      <td>3432039.0</td>\n",
       "      <td>-34.9038831,-57.9643295</td>\n",
       "      <td>-34.903883</td>\n",
       "      <td>...</td>\n",
       "      <td>NaN</td>\n",
       "      <td>NaN</td>\n",
       "      <td>NaN</td>\n",
       "      <td>NaN</td>\n",
       "      <td>NaN</td>\n",
       "      <td>NaN</td>\n",
       "      <td>http://www.properati.com.ar/15bob_venta_depart...</td>\n",
       "      <td>Venta de departamento en décimo piso al frente...</td>\n",
       "      <td>VENTA Depto 2 dorm. a estrenar 7 e/ 36 y 37   ...</td>\n",
       "      <td>https://thumbs4.properati.com/7/ikpVBu2ztHA7jv...</td>\n",
       "    </tr>\n",
       "    <tr>\n",
       "      <th>2</th>\n",
       "      <td>2</td>\n",
       "      <td>sell</td>\n",
       "      <td>apartment</td>\n",
       "      <td>Mataderos</td>\n",
       "      <td>|Argentina|Capital Federal|Mataderos|</td>\n",
       "      <td>Argentina</td>\n",
       "      <td>Capital Federal</td>\n",
       "      <td>3430787.0</td>\n",
       "      <td>-34.6522615,-58.5229825</td>\n",
       "      <td>-34.652262</td>\n",
       "      <td>...</td>\n",
       "      <td>55.0</td>\n",
       "      <td>1309.090909</td>\n",
       "      <td>1309.090909</td>\n",
       "      <td>NaN</td>\n",
       "      <td>NaN</td>\n",
       "      <td>NaN</td>\n",
       "      <td>http://www.properati.com.ar/15bod_venta_depart...</td>\n",
       "      <td>2 AMBIENTES 3ER PISO LATERAL LIVING COMEDOR AM...</td>\n",
       "      <td>2 AMB 3ER PISO CON ASCENSOR APTO CREDITO</td>\n",
       "      <td>https://thumbs4.properati.com/5/SXKr34F_IwG3W_...</td>\n",
       "    </tr>\n",
       "    <tr>\n",
       "      <th>3</th>\n",
       "      <td>3</td>\n",
       "      <td>sell</td>\n",
       "      <td>PH</td>\n",
       "      <td>Liniers</td>\n",
       "      <td>|Argentina|Capital Federal|Liniers|</td>\n",
       "      <td>Argentina</td>\n",
       "      <td>Capital Federal</td>\n",
       "      <td>3431333.0</td>\n",
       "      <td>-34.6477969,-58.5164244</td>\n",
       "      <td>-34.647797</td>\n",
       "      <td>...</td>\n",
       "      <td>NaN</td>\n",
       "      <td>NaN</td>\n",
       "      <td>NaN</td>\n",
       "      <td>NaN</td>\n",
       "      <td>NaN</td>\n",
       "      <td>NaN</td>\n",
       "      <td>http://www.properati.com.ar/15boh_venta_ph_lin...</td>\n",
       "      <td>PH 3 ambientes con patio. Hay 3 deptos en lote...</td>\n",
       "      <td>PH 3 amb. cfte. reciclado</td>\n",
       "      <td>https://thumbs4.properati.com/3/DgIfX-85Mog5SP...</td>\n",
       "    </tr>\n",
       "    <tr>\n",
       "      <th>4</th>\n",
       "      <td>4</td>\n",
       "      <td>sell</td>\n",
       "      <td>apartment</td>\n",
       "      <td>Centro</td>\n",
       "      <td>|Argentina|Buenos Aires Costa Atlántica|Mar de...</td>\n",
       "      <td>Argentina</td>\n",
       "      <td>Buenos Aires Costa Atlántica</td>\n",
       "      <td>3435548.0</td>\n",
       "      <td>-38.0026256,-57.5494468</td>\n",
       "      <td>-38.002626</td>\n",
       "      <td>...</td>\n",
       "      <td>35.0</td>\n",
       "      <td>1828.571429</td>\n",
       "      <td>1828.571429</td>\n",
       "      <td>NaN</td>\n",
       "      <td>NaN</td>\n",
       "      <td>NaN</td>\n",
       "      <td>http://www.properati.com.ar/15bok_venta_depart...</td>\n",
       "      <td>DEPARTAMENTO CON FANTÁSTICA ILUMINACIÓN NATURA...</td>\n",
       "      <td>DEPTO 2 AMB AL CONTRAFRENTE ZONA CENTRO/PLAZA ...</td>\n",
       "      <td>https://thumbs4.properati.com/5/xrRqlNcSI_vs-f...</td>\n",
       "    </tr>\n",
       "  </tbody>\n",
       "</table>\n",
       "<p>5 rows × 26 columns</p>\n",
       "</div>"
      ],
      "text/plain": [
       "   Unnamed: 0 operation property_type place_name  \\\n",
       "0           0      sell            PH  Mataderos   \n",
       "1           1      sell     apartment   La Plata   \n",
       "2           2      sell     apartment  Mataderos   \n",
       "3           3      sell            PH    Liniers   \n",
       "4           4      sell     apartment     Centro   \n",
       "\n",
       "                             place_with_parent_names country_name  \\\n",
       "0              |Argentina|Capital Federal|Mataderos|    Argentina   \n",
       "1        |Argentina|Bs.As. G.B.A. Zona Sur|La Plata|    Argentina   \n",
       "2              |Argentina|Capital Federal|Mataderos|    Argentina   \n",
       "3                |Argentina|Capital Federal|Liniers|    Argentina   \n",
       "4  |Argentina|Buenos Aires Costa Atlántica|Mar de...    Argentina   \n",
       "\n",
       "                     state_name  geonames_id                  lat-lon  \\\n",
       "0               Capital Federal    3430787.0  -34.6618237,-58.5088387   \n",
       "1        Bs.As. G.B.A. Zona Sur    3432039.0  -34.9038831,-57.9643295   \n",
       "2               Capital Federal    3430787.0  -34.6522615,-58.5229825   \n",
       "3               Capital Federal    3431333.0  -34.6477969,-58.5164244   \n",
       "4  Buenos Aires Costa Atlántica    3435548.0  -38.0026256,-57.5494468   \n",
       "\n",
       "         lat  ...  surface_covered_in_m2  price_usd_per_m2 price_per_m2  \\\n",
       "0 -34.661824  ...                   40.0       1127.272727  1550.000000   \n",
       "1 -34.903883  ...                    NaN               NaN          NaN   \n",
       "2 -34.652262  ...                   55.0       1309.090909  1309.090909   \n",
       "3 -34.647797  ...                    NaN               NaN          NaN   \n",
       "4 -38.002626  ...                   35.0       1828.571429  1828.571429   \n",
       "\n",
       "   floor  rooms  expenses                                      properati_url  \\\n",
       "0    NaN    NaN       NaN  http://www.properati.com.ar/15bo8_venta_ph_mat...   \n",
       "1    NaN    NaN       NaN  http://www.properati.com.ar/15bob_venta_depart...   \n",
       "2    NaN    NaN       NaN  http://www.properati.com.ar/15bod_venta_depart...   \n",
       "3    NaN    NaN       NaN  http://www.properati.com.ar/15boh_venta_ph_lin...   \n",
       "4    NaN    NaN       NaN  http://www.properati.com.ar/15bok_venta_depart...   \n",
       "\n",
       "                                         description  \\\n",
       "0  2 AMBIENTES TIPO CASA PLANTA BAJA POR PASILLO,...   \n",
       "1  Venta de departamento en décimo piso al frente...   \n",
       "2  2 AMBIENTES 3ER PISO LATERAL LIVING COMEDOR AM...   \n",
       "3  PH 3 ambientes con patio. Hay 3 deptos en lote...   \n",
       "4  DEPARTAMENTO CON FANTÁSTICA ILUMINACIÓN NATURA...   \n",
       "\n",
       "                                               title  \\\n",
       "0                 2 AMB TIPO CASA SIN EXPENSAS EN PB   \n",
       "1  VENTA Depto 2 dorm. a estrenar 7 e/ 36 y 37   ...   \n",
       "2           2 AMB 3ER PISO CON ASCENSOR APTO CREDITO   \n",
       "3                       PH 3 amb. cfte. reciclado      \n",
       "4  DEPTO 2 AMB AL CONTRAFRENTE ZONA CENTRO/PLAZA ...   \n",
       "\n",
       "                                     image_thumbnail  \n",
       "0  https://thumbs4.properati.com/8/BluUYiHJLhgIIK...  \n",
       "1  https://thumbs4.properati.com/7/ikpVBu2ztHA7jv...  \n",
       "2  https://thumbs4.properati.com/5/SXKr34F_IwG3W_...  \n",
       "3  https://thumbs4.properati.com/3/DgIfX-85Mog5SP...  \n",
       "4  https://thumbs4.properati.com/5/xrRqlNcSI_vs-f...  \n",
       "\n",
       "[5 rows x 26 columns]"
      ]
     },
     "metadata": {},
     "output_type": "display_data"
    },
    {
     "name": "stdout",
     "output_type": "stream",
     "text": [
      "Unnamed: 0                      int64\n",
      "operation                      object\n",
      "property_type                  object\n",
      "place_name                     object\n",
      "place_with_parent_names        object\n",
      "country_name                   object\n",
      "state_name                     object\n",
      "geonames_id                   float64\n",
      "lat-lon                        object\n",
      "lat                           float64\n",
      "lon                           float64\n",
      "price                         float64\n",
      "currency                       object\n",
      "price_aprox_local_currency    float64\n",
      "price_aprox_usd               float64\n",
      "surface_total_in_m2           float64\n",
      "surface_covered_in_m2         float64\n",
      "price_usd_per_m2              float64\n",
      "price_per_m2                  float64\n",
      "floor                         float64\n",
      "rooms                         float64\n",
      "expenses                      float64\n",
      "properati_url                  object\n",
      "description                    object\n",
      "title                          object\n",
      "image_thumbnail                object\n",
      "dtype: object\n"
     ]
    },
    {
     "data": {
      "text/plain": [
       "Index(['Unnamed: 0', 'operation', 'property_type', 'place_name',\n",
       "       'place_with_parent_names', 'country_name', 'state_name', 'geonames_id',\n",
       "       'lat-lon', 'lat', 'lon', 'price', 'currency',\n",
       "       'price_aprox_local_currency', 'price_aprox_usd', 'surface_total_in_m2',\n",
       "       'surface_covered_in_m2', 'price_usd_per_m2', 'price_per_m2', 'floor',\n",
       "       'rooms', 'expenses', 'properati_url', 'description', 'title',\n",
       "       'image_thumbnail'],\n",
       "      dtype='object')"
      ]
     },
     "execution_count": 2,
     "metadata": {},
     "output_type": "execute_result"
    }
   ],
   "source": [
    "#Leemos el CSV de Properati\n",
    "properati_df = pd.read_csv(\"properati.csv\", sep = ',')\n",
    "#Mostramos primeros registros y verificamos tipos de datos\n",
    "display(properati_df.head(5))\n",
    "print (properati_df.dtypes)\n",
    "#Vemos las columnas del DF\n",
    "properati_df.columns"
   ]
  },
  {
   "cell_type": "code",
   "execution_count": 3,
   "metadata": {},
   "outputs": [],
   "source": [
    "# Drop 'Unnamed: 0'. No es necesaria (= a index)\n",
    "properati_df.drop(labels = ['Unnamed: 0'], axis = 'columns', inplace = True)\n"
   ]
  },
  {
   "cell_type": "code",
   "execution_count": 4,
   "metadata": {},
   "outputs": [
    {
     "data": {
      "text/plain": [
       "operation                          0\n",
       "property_type                      0\n",
       "place_name                        23\n",
       "place_with_parent_names            0\n",
       "country_name                       0\n",
       "state_name                         0\n",
       "geonames_id                    18717\n",
       "lat-lon                        51550\n",
       "lat                            51550\n",
       "lon                            51550\n",
       "price                          20410\n",
       "currency                       20411\n",
       "price_aprox_local_currency     20410\n",
       "price_aprox_usd                20410\n",
       "surface_total_in_m2            39328\n",
       "surface_covered_in_m2          19907\n",
       "price_usd_per_m2               52603\n",
       "price_per_m2                   33562\n",
       "floor                         113321\n",
       "rooms                          73830\n",
       "expenses                      106958\n",
       "properati_url                      0\n",
       "description                        2\n",
       "title                              0\n",
       "image_thumbnail                 3112\n",
       "dtype: int64"
      ]
     },
     "execution_count": 4,
     "metadata": {},
     "output_type": "execute_result"
    }
   ],
   "source": [
    "#Chequeamos cantidad de nulos por columna\n",
    "data_isnull = properati_df.isnull()\n",
    "data_cantnull = data_isnull.sum()\n",
    "data_cantnull"
   ]
  },
  {
   "cell_type": "code",
   "execution_count": 5,
   "metadata": {},
   "outputs": [
    {
     "data": {
      "text/plain": [
       "sell    121220\n",
       "Name: operation, dtype: int64"
      ]
     },
     "execution_count": 5,
     "metadata": {},
     "output_type": "execute_result"
    }
   ],
   "source": [
    "#Revisamos la columna \"operation\"\n",
    "properati_df['operation'].value_counts(dropna = False)\n",
    "#No tiene valores nulos y en su totalidad son \"sell\""
   ]
  },
  {
   "cell_type": "code",
   "execution_count": 6,
   "metadata": {},
   "outputs": [
    {
     "data": {
      "text/plain": [
       "apartment    71065\n",
       "house        40268\n",
       "PH            5751\n",
       "store         4136\n",
       "Name: property_type, dtype: int64"
      ]
     },
     "execution_count": 6,
     "metadata": {},
     "output_type": "execute_result"
    }
   ],
   "source": [
    "#Revisamos la columna \"property_type\"\n",
    "properati_df['property_type'].value_counts(dropna = False)\n",
    "#No tiene nulos y las categorías son correctas"
   ]
  },
  {
   "cell_type": "code",
   "execution_count": 7,
   "metadata": {},
   "outputs": [
    {
     "data": {
      "text/plain": [
       "Córdoba                                9254\n",
       "Rosario                                8504\n",
       "Mar del Plata                          6534\n",
       "Tigre                                  3324\n",
       "Nordelta                               3315\n",
       "                                       ... \n",
       "Barrio Cerrado \"El Casco de Moreno\"       1\n",
       "La Esperanza Club de Campo                1\n",
       "Gral San Martin                           1\n",
       "Country La Tradición                      1\n",
       "Laguna Larga                              1\n",
       "Name: place_name, Length: 1061, dtype: int64"
      ]
     },
     "execution_count": 7,
     "metadata": {},
     "output_type": "execute_result"
    }
   ],
   "source": [
    "#Revisamos la columna \"place_name\"\n",
    "properati_df['place_name'].value_counts(dropna = False)\n",
    "#Hay 1061 categorías de \"barrios\""
   ]
  },
  {
   "cell_type": "code",
   "execution_count": 8,
   "metadata": {},
   "outputs": [
    {
     "data": {
      "text/plain": [
       "|Argentina|Santa Fe|Rosario|                                                                       8504\n",
       "|Argentina|Córdoba|Córdoba|                                                                        6606\n",
       "|Argentina|Buenos Aires Costa Atlántica|Mar del Plata|                                             6534\n",
       "|Argentina|Bs.As. G.B.A. Zona Norte|Tigre|Nordelta|                                                3315\n",
       "|Argentina|Capital Federal|Belgrano|                                                               2992\n",
       "                                                                                                   ... \n",
       "|Argentina|Buenos Aires Costa Atlántica|Mar del Plata|Playa Serena|                                   1\n",
       "|Argentina|Bs.As. G.B.A. Zona Norte|San Fernando|Islas|                                               1\n",
       "|Argentina|Bs.As. G.B.A. Zona Sur|Esteban Echeverría|Complejo de Barrios Privados La Magdalena|       1\n",
       "|Argentina|Córdoba|Villa Amancay|                                                                     1\n",
       "|Argentina|La Pampa|Intendente Alvear|                                                                1\n",
       "Name: place_with_parent_names, Length: 1164, dtype: int64"
      ]
     },
     "execution_count": 8,
     "metadata": {},
     "output_type": "execute_result"
    }
   ],
   "source": [
    "#Revisamos la columna \"place_with_parent_names\"\n",
    "properati_df['place_with_parent_names'].value_counts(dropna = False)"
   ]
  },
  {
   "cell_type": "code",
   "execution_count": 9,
   "metadata": {},
   "outputs": [
    {
     "data": {
      "text/plain": [
       "Argentina    121220\n",
       "Name: country_name, dtype: int64"
      ]
     },
     "execution_count": 9,
     "metadata": {},
     "output_type": "execute_result"
    }
   ],
   "source": [
    "#Revisamos la columna \"country_name\".\n",
    "properati_df['country_name'].value_counts(dropna = False)\n",
    "#Todos los registros corresponden a Argentina. No tiene nulos."
   ]
  },
  {
   "cell_type": "code",
   "execution_count": 10,
   "metadata": {},
   "outputs": [
    {
     "data": {
      "text/plain": [
       "Capital Federal                 32316\n",
       "Bs.As. G.B.A. Zona Norte        25560\n",
       "Bs.As. G.B.A. Zona Sur          13952\n",
       "Córdoba                         12069\n",
       "Santa Fe                        10172\n",
       "Buenos Aires Costa Atlántica    10006\n",
       "Bs.As. G.B.A. Zona Oeste         9322\n",
       "Buenos Aires Interior            2291\n",
       "Río Negro                         808\n",
       "Neuquén                           733\n",
       "Mendoza                           681\n",
       "Tucumán                           674\n",
       "Corrientes                        583\n",
       "Misiones                          464\n",
       "Entre Ríos                        369\n",
       "Salta                             278\n",
       "Chubut                            259\n",
       "San Luis                          252\n",
       "La Pampa                          157\n",
       "Formosa                            65\n",
       "Chaco                              57\n",
       "San Juan                           40\n",
       "Tierra Del Fuego                   31\n",
       "Catamarca                          27\n",
       "Jujuy                              26\n",
       "Santa Cruz                         20\n",
       "La Rioja                            4\n",
       "Santiago Del Estero                 4\n",
       "Name: state_name, dtype: int64"
      ]
     },
     "execution_count": 10,
     "metadata": {},
     "output_type": "execute_result"
    }
   ],
   "source": [
    "#Revisamos la columna \"state_name\".\n",
    "properati_df['state_name'].value_counts(dropna = False)\n",
    "#Corresponde a las provincias. Buenos Aires está desagregada en mayor nivel."
   ]
  },
  {
   "cell_type": "code",
   "execution_count": 11,
   "metadata": {},
   "outputs": [
    {
     "data": {
      "text/plain": [
       "NaN          18717\n",
       "3838574.0     8504\n",
       "3860259.0     6606\n",
       "3430863.0     6534\n",
       "3430234.0     3279\n",
       "             ...  \n",
       "3863596.0        1\n",
       "3838859.0        1\n",
       "3863890.0        1\n",
       "3864851.0        1\n",
       "3860197.0        1\n",
       "Name: geonames_id, Length: 647, dtype: int64"
      ]
     },
     "execution_count": 11,
     "metadata": {},
     "output_type": "execute_result"
    }
   ],
   "source": [
    "#Revisamos la columna \"geonames_id\".\n",
    "properati_df['geonames_id'].value_counts(dropna = False)\n",
    "#Parece ser un ID por barrio"
   ]
  },
  {
   "cell_type": "code",
   "execution_count": 12,
   "metadata": {},
   "outputs": [
    {
     "data": {
      "text/plain": [
       "USD    87587\n",
       "NaN    20411\n",
       "ARS    13219\n",
       "PEN        2\n",
       "UYU        1\n",
       "Name: currency, dtype: int64"
      ]
     },
     "execution_count": 12,
     "metadata": {},
     "output_type": "execute_result"
    }
   ],
   "source": [
    "#Revisamos la columna \"currency\".\n",
    "properati_df['currency'].value_counts(dropna = False)\n",
    "#Posiblemente podamos descartar los valores de PEN y UYU. Gran cantidad de NaN."
   ]
  },
  {
   "cell_type": "code",
   "execution_count": 13,
   "metadata": {},
   "outputs": [
    {
     "data": {
      "text/plain": [
       "NaN      113321\n",
       "1.0        2080\n",
       "2.0        1542\n",
       "3.0         914\n",
       "4.0         658\n",
       "          ...  \n",
       "124.0         1\n",
       "691.0         1\n",
       "205.0         1\n",
       "302.0         1\n",
       "207.0         1\n",
       "Name: floor, Length: 183, dtype: int64"
      ]
     },
     "execution_count": 13,
     "metadata": {},
     "output_type": "execute_result"
    }
   ],
   "source": [
    "#Revisamos la columna \"floor\".\n",
    "properati_df['floor'].value_counts(dropna = False)\n",
    "#Vemos valores que pueden ser incorrectos, por ejemplo N° de piso 302 o 207."
   ]
  },
  {
   "cell_type": "code",
   "execution_count": 14,
   "metadata": {},
   "outputs": [
    {
     "data": {
      "text/html": [
       "<div>\n",
       "<style scoped>\n",
       "    .dataframe tbody tr th:only-of-type {\n",
       "        vertical-align: middle;\n",
       "    }\n",
       "\n",
       "    .dataframe tbody tr th {\n",
       "        vertical-align: top;\n",
       "    }\n",
       "\n",
       "    .dataframe thead th {\n",
       "        text-align: right;\n",
       "    }\n",
       "</style>\n",
       "<table border=\"1\" class=\"dataframe\">\n",
       "  <thead>\n",
       "    <tr style=\"text-align: right;\">\n",
       "      <th></th>\n",
       "      <th>operation</th>\n",
       "      <th>property_type</th>\n",
       "      <th>place_name</th>\n",
       "      <th>place_with_parent_names</th>\n",
       "      <th>country_name</th>\n",
       "      <th>state_name</th>\n",
       "      <th>geonames_id</th>\n",
       "      <th>lat-lon</th>\n",
       "      <th>lat</th>\n",
       "      <th>lon</th>\n",
       "      <th>...</th>\n",
       "      <th>surface_covered_in_m2</th>\n",
       "      <th>price_usd_per_m2</th>\n",
       "      <th>price_per_m2</th>\n",
       "      <th>floor</th>\n",
       "      <th>rooms</th>\n",
       "      <th>expenses</th>\n",
       "      <th>properati_url</th>\n",
       "      <th>description</th>\n",
       "      <th>title</th>\n",
       "      <th>image_thumbnail</th>\n",
       "    </tr>\n",
       "  </thead>\n",
       "  <tbody>\n",
       "    <tr>\n",
       "      <th>5759</th>\n",
       "      <td>sell</td>\n",
       "      <td>apartment</td>\n",
       "      <td>Villa Urquiza</td>\n",
       "      <td>|Argentina|Capital Federal|Villa Urquiza|</td>\n",
       "      <td>Argentina</td>\n",
       "      <td>Capital Federal</td>\n",
       "      <td>3433775.0</td>\n",
       "      <td>-34.56633,-58.479707</td>\n",
       "      <td>-34.566330</td>\n",
       "      <td>-58.479707</td>\n",
       "      <td>...</td>\n",
       "      <td>65.0</td>\n",
       "      <td>NaN</td>\n",
       "      <td>2692.307692</td>\n",
       "      <td>408.0</td>\n",
       "      <td>2.0</td>\n",
       "      <td>NaN</td>\n",
       "      <td>http://www.properati.com.ar/15ro1_venta_depart...</td>\n",
       "      <td>Corredor Responsable: Rebeca Stern - C.U.C.I.C...</td>\n",
       "      <td>2 AMB BALCÓN CON PARRILLA - EDIFICIO CON AMENI...</td>\n",
       "      <td>https://thumbs4.properati.com/2/pKvgfBNKpAZctY...</td>\n",
       "    </tr>\n",
       "    <tr>\n",
       "      <th>5960</th>\n",
       "      <td>sell</td>\n",
       "      <td>apartment</td>\n",
       "      <td>Tigre</td>\n",
       "      <td>|Argentina|Bs.As. G.B.A. Zona Norte|Tigre|Tigre|</td>\n",
       "      <td>Argentina</td>\n",
       "      <td>Bs.As. G.B.A. Zona Norte</td>\n",
       "      <td>NaN</td>\n",
       "      <td>-34.433301,-58.586118</td>\n",
       "      <td>-34.433301</td>\n",
       "      <td>-58.586118</td>\n",
       "      <td>...</td>\n",
       "      <td>40.0</td>\n",
       "      <td>NaN</td>\n",
       "      <td>2305.000000</td>\n",
       "      <td>111.0</td>\n",
       "      <td>2.0</td>\n",
       "      <td>NaN</td>\n",
       "      <td>http://www.properati.com.ar/15sdt_venta_depart...</td>\n",
       "      <td>Corredor Responsable: Mauro Marvisi - CMCPSI 5...</td>\n",
       "      <td>NUEVO RIVERSIDE PRE-LANZAMIENTO</td>\n",
       "      <td>https://thumbs4.properati.com/9/kRTRZoj-C9PEWN...</td>\n",
       "    </tr>\n",
       "    <tr>\n",
       "      <th>5961</th>\n",
       "      <td>sell</td>\n",
       "      <td>apartment</td>\n",
       "      <td>Tigre</td>\n",
       "      <td>|Argentina|Bs.As. G.B.A. Zona Norte|Tigre|Tigre|</td>\n",
       "      <td>Argentina</td>\n",
       "      <td>Bs.As. G.B.A. Zona Norte</td>\n",
       "      <td>NaN</td>\n",
       "      <td>-34.433301,-58.586118</td>\n",
       "      <td>-34.433301</td>\n",
       "      <td>-58.586118</td>\n",
       "      <td>...</td>\n",
       "      <td>62.0</td>\n",
       "      <td>NaN</td>\n",
       "      <td>2111.290323</td>\n",
       "      <td>1606.0</td>\n",
       "      <td>3.0</td>\n",
       "      <td>NaN</td>\n",
       "      <td>http://www.properati.com.ar/15sdw_venta_depart...</td>\n",
       "      <td>Corredor Responsable: Mauro Marvisi - CMCPSI 5...</td>\n",
       "      <td>NUEVO RIVERSIDE PRE-LANZAMIENTO</td>\n",
       "      <td>https://thumbs4.properati.com/9/wvbfUDFH1R2dDc...</td>\n",
       "    </tr>\n",
       "    <tr>\n",
       "      <th>5962</th>\n",
       "      <td>sell</td>\n",
       "      <td>apartment</td>\n",
       "      <td>Tigre</td>\n",
       "      <td>|Argentina|Bs.As. G.B.A. Zona Norte|Tigre|Tigre|</td>\n",
       "      <td>Argentina</td>\n",
       "      <td>Bs.As. G.B.A. Zona Norte</td>\n",
       "      <td>NaN</td>\n",
       "      <td>-34.433301,-58.586118</td>\n",
       "      <td>-34.433301</td>\n",
       "      <td>-58.586118</td>\n",
       "      <td>...</td>\n",
       "      <td>62.0</td>\n",
       "      <td>NaN</td>\n",
       "      <td>1973.677419</td>\n",
       "      <td>906.0</td>\n",
       "      <td>3.0</td>\n",
       "      <td>NaN</td>\n",
       "      <td>http://www.properati.com.ar/15sdy_venta_depart...</td>\n",
       "      <td>Corredor Responsable: Mauro Marvisi - CMCPSI 5...</td>\n",
       "      <td>NUEVO RIVERSIDE PRE-LANZAMIENTO</td>\n",
       "      <td>https://thumbs4.properati.com/9/wvbfUDFH1R2dDc...</td>\n",
       "    </tr>\n",
       "    <tr>\n",
       "      <th>5963</th>\n",
       "      <td>sell</td>\n",
       "      <td>apartment</td>\n",
       "      <td>Tigre</td>\n",
       "      <td>|Argentina|Bs.As. G.B.A. Zona Norte|Tigre|Tigre|</td>\n",
       "      <td>Argentina</td>\n",
       "      <td>Bs.As. G.B.A. Zona Norte</td>\n",
       "      <td>NaN</td>\n",
       "      <td>-34.433301,-58.586118</td>\n",
       "      <td>-34.433301</td>\n",
       "      <td>-58.586118</td>\n",
       "      <td>...</td>\n",
       "      <td>62.0</td>\n",
       "      <td>NaN</td>\n",
       "      <td>2304.838710</td>\n",
       "      <td>1304.0</td>\n",
       "      <td>3.0</td>\n",
       "      <td>NaN</td>\n",
       "      <td>http://www.properati.com.ar/15sdz_venta_depart...</td>\n",
       "      <td>Corredor Responsable: Mauro Marvisi - CMCPSI 5...</td>\n",
       "      <td>NUEVO RIVERSIDE PRE-LANZAMIENTO</td>\n",
       "      <td>https://thumbs4.properati.com/9/wvbfUDFH1R2dDc...</td>\n",
       "    </tr>\n",
       "  </tbody>\n",
       "</table>\n",
       "<p>5 rows × 25 columns</p>\n",
       "</div>"
      ],
      "text/plain": [
       "     operation property_type     place_name  \\\n",
       "5759      sell     apartment  Villa Urquiza   \n",
       "5960      sell     apartment          Tigre   \n",
       "5961      sell     apartment          Tigre   \n",
       "5962      sell     apartment          Tigre   \n",
       "5963      sell     apartment          Tigre   \n",
       "\n",
       "                               place_with_parent_names country_name  \\\n",
       "5759         |Argentina|Capital Federal|Villa Urquiza|    Argentina   \n",
       "5960  |Argentina|Bs.As. G.B.A. Zona Norte|Tigre|Tigre|    Argentina   \n",
       "5961  |Argentina|Bs.As. G.B.A. Zona Norte|Tigre|Tigre|    Argentina   \n",
       "5962  |Argentina|Bs.As. G.B.A. Zona Norte|Tigre|Tigre|    Argentina   \n",
       "5963  |Argentina|Bs.As. G.B.A. Zona Norte|Tigre|Tigre|    Argentina   \n",
       "\n",
       "                    state_name  geonames_id                lat-lon        lat  \\\n",
       "5759           Capital Federal    3433775.0   -34.56633,-58.479707 -34.566330   \n",
       "5960  Bs.As. G.B.A. Zona Norte          NaN  -34.433301,-58.586118 -34.433301   \n",
       "5961  Bs.As. G.B.A. Zona Norte          NaN  -34.433301,-58.586118 -34.433301   \n",
       "5962  Bs.As. G.B.A. Zona Norte          NaN  -34.433301,-58.586118 -34.433301   \n",
       "5963  Bs.As. G.B.A. Zona Norte          NaN  -34.433301,-58.586118 -34.433301   \n",
       "\n",
       "            lon  ...  surface_covered_in_m2 price_usd_per_m2  price_per_m2  \\\n",
       "5759 -58.479707  ...                   65.0              NaN   2692.307692   \n",
       "5960 -58.586118  ...                   40.0              NaN   2305.000000   \n",
       "5961 -58.586118  ...                   62.0              NaN   2111.290323   \n",
       "5962 -58.586118  ...                   62.0              NaN   1973.677419   \n",
       "5963 -58.586118  ...                   62.0              NaN   2304.838710   \n",
       "\n",
       "       floor  rooms  expenses  \\\n",
       "5759   408.0    2.0       NaN   \n",
       "5960   111.0    2.0       NaN   \n",
       "5961  1606.0    3.0       NaN   \n",
       "5962   906.0    3.0       NaN   \n",
       "5963  1304.0    3.0       NaN   \n",
       "\n",
       "                                          properati_url  \\\n",
       "5759  http://www.properati.com.ar/15ro1_venta_depart...   \n",
       "5960  http://www.properati.com.ar/15sdt_venta_depart...   \n",
       "5961  http://www.properati.com.ar/15sdw_venta_depart...   \n",
       "5962  http://www.properati.com.ar/15sdy_venta_depart...   \n",
       "5963  http://www.properati.com.ar/15sdz_venta_depart...   \n",
       "\n",
       "                                            description  \\\n",
       "5759  Corredor Responsable: Rebeca Stern - C.U.C.I.C...   \n",
       "5960  Corredor Responsable: Mauro Marvisi - CMCPSI 5...   \n",
       "5961  Corredor Responsable: Mauro Marvisi - CMCPSI 5...   \n",
       "5962  Corredor Responsable: Mauro Marvisi - CMCPSI 5...   \n",
       "5963  Corredor Responsable: Mauro Marvisi - CMCPSI 5...   \n",
       "\n",
       "                                                  title  \\\n",
       "5759  2 AMB BALCÓN CON PARRILLA - EDIFICIO CON AMENI...   \n",
       "5960                    NUEVO RIVERSIDE PRE-LANZAMIENTO   \n",
       "5961                    NUEVO RIVERSIDE PRE-LANZAMIENTO   \n",
       "5962                    NUEVO RIVERSIDE PRE-LANZAMIENTO   \n",
       "5963                    NUEVO RIVERSIDE PRE-LANZAMIENTO   \n",
       "\n",
       "                                        image_thumbnail  \n",
       "5759  https://thumbs4.properati.com/2/pKvgfBNKpAZctY...  \n",
       "5960  https://thumbs4.properati.com/9/kRTRZoj-C9PEWN...  \n",
       "5961  https://thumbs4.properati.com/9/wvbfUDFH1R2dDc...  \n",
       "5962  https://thumbs4.properati.com/9/wvbfUDFH1R2dDc...  \n",
       "5963  https://thumbs4.properati.com/9/wvbfUDFH1R2dDc...  \n",
       "\n",
       "[5 rows x 25 columns]"
      ]
     },
     "metadata": {},
     "output_type": "display_data"
    },
    {
     "data": {
      "text/plain": [
       "<bound method IndexOpsMixin.value_counts of 5759      apartment\n",
       "5960      apartment\n",
       "5961      apartment\n",
       "5962      apartment\n",
       "5963      apartment\n",
       "            ...    \n",
       "63302     apartment\n",
       "63884     apartment\n",
       "110239    apartment\n",
       "111363    apartment\n",
       "119276    apartment\n",
       "Name: property_type, Length: 183, dtype: object>"
      ]
     },
     "execution_count": 14,
     "metadata": {},
     "output_type": "execute_result"
    }
   ],
   "source": [
    "#edificio de mayor cantidad de pisos en Argentina (Alvear Tower - 54 pisos). Máscara que incluye solo los que superan este nivel de piso.\n",
    "mask_floor = properati_df['floor'] > 54\n",
    "display (properati_df.loc[mask_floor, :].head(5))\n",
    "data_floor_type = properati_df.loc[mask_floor, :]\n",
    "#Vemos que todos los registros con número de piso mayor a 54 corresponden a \"apartment\". Correspondería que tengan número de piso pero el que tienen es incorrecto.\n",
    "data_floor_type['property_type'].value_counts"
   ]
  },
  {
   "cell_type": "code",
   "execution_count": 15,
   "metadata": {},
   "outputs": [],
   "source": [
    "#Pasamos todos los valores de \"floor\" a NaN?????"
   ]
  },
  {
   "cell_type": "code",
   "execution_count": 16,
   "metadata": {},
   "outputs": [
    {
     "data": {
      "text/plain": [
       "operation                         0\n",
       "property_type                     0\n",
       "place_name                        1\n",
       "place_with_parent_names           0\n",
       "country_name                      0\n",
       "state_name                        0\n",
       "geonames_id                    8683\n",
       "lat-lon                       29428\n",
       "lat                           29428\n",
       "lon                           29428\n",
       "price                         11449\n",
       "currency                      11449\n",
       "price_aprox_local_currency    11449\n",
       "price_aprox_usd               11449\n",
       "surface_total_in_m2           19980\n",
       "surface_covered_in_m2         11330\n",
       "price_usd_per_m2              28178\n",
       "price_per_m2                  18871\n",
       "floor                         64544\n",
       "rooms                         39797\n",
       "expenses                      59861\n",
       "properati_url                     0\n",
       "description                       2\n",
       "title                             0\n",
       "image_thumbnail                2125\n",
       "dtype: int64"
      ]
     },
     "execution_count": 16,
     "metadata": {},
     "output_type": "execute_result"
    }
   ],
   "source": [
    "#Máscara para tipo de propiedad 'apartment'\n",
    "mask_type_apartment = properati_df['property_type'] == 'apartment'\n",
    "data_type_apartment = properati_df.loc[mask_type_apartment, :]\n",
    "data_type_apartment.isnull().sum()\n",
    "#Valores como expensas y piso debieran estar completos para este tipo de propiedad."
   ]
  },
  {
   "cell_type": "code",
   "execution_count": 17,
   "metadata": {},
   "outputs": [
    {
     "data": {
      "text/html": [
       "<div>\n",
       "<style scoped>\n",
       "    .dataframe tbody tr th:only-of-type {\n",
       "        vertical-align: middle;\n",
       "    }\n",
       "\n",
       "    .dataframe tbody tr th {\n",
       "        vertical-align: top;\n",
       "    }\n",
       "\n",
       "    .dataframe thead tr th {\n",
       "        text-align: left;\n",
       "    }\n",
       "\n",
       "    .dataframe thead tr:last-of-type th {\n",
       "        text-align: right;\n",
       "    }\n",
       "</style>\n",
       "<table border=\"1\" class=\"dataframe\">\n",
       "  <thead>\n",
       "    <tr>\n",
       "      <th></th>\n",
       "      <th colspan=\"20\" halign=\"left\">expenses</th>\n",
       "    </tr>\n",
       "    <tr>\n",
       "      <th>state_name</th>\n",
       "      <th>Bs.As. G.B.A. Zona Norte</th>\n",
       "      <th>Bs.As. G.B.A. Zona Oeste</th>\n",
       "      <th>Bs.As. G.B.A. Zona Sur</th>\n",
       "      <th>Buenos Aires Costa Atlántica</th>\n",
       "      <th>Buenos Aires Interior</th>\n",
       "      <th>Capital Federal</th>\n",
       "      <th>Chaco</th>\n",
       "      <th>Corrientes</th>\n",
       "      <th>Córdoba</th>\n",
       "      <th>Entre Ríos</th>\n",
       "      <th>Formosa</th>\n",
       "      <th>La Pampa</th>\n",
       "      <th>Mendoza</th>\n",
       "      <th>Misiones</th>\n",
       "      <th>Neuquén</th>\n",
       "      <th>Río Negro</th>\n",
       "      <th>Salta</th>\n",
       "      <th>San Luis</th>\n",
       "      <th>Santa Fe</th>\n",
       "      <th>Tucumán</th>\n",
       "    </tr>\n",
       "    <tr>\n",
       "      <th>property_type</th>\n",
       "      <th></th>\n",
       "      <th></th>\n",
       "      <th></th>\n",
       "      <th></th>\n",
       "      <th></th>\n",
       "      <th></th>\n",
       "      <th></th>\n",
       "      <th></th>\n",
       "      <th></th>\n",
       "      <th></th>\n",
       "      <th></th>\n",
       "      <th></th>\n",
       "      <th></th>\n",
       "      <th></th>\n",
       "      <th></th>\n",
       "      <th></th>\n",
       "      <th></th>\n",
       "      <th></th>\n",
       "      <th></th>\n",
       "      <th></th>\n",
       "    </tr>\n",
       "  </thead>\n",
       "  <tbody>\n",
       "    <tr>\n",
       "      <th>apartment</th>\n",
       "      <td>3021.644444</td>\n",
       "      <td>2818.095041</td>\n",
       "      <td>1503.664348</td>\n",
       "      <td>2042.121065</td>\n",
       "      <td>891.923077</td>\n",
       "      <td>6634.878631</td>\n",
       "      <td>2100.0</td>\n",
       "      <td>594.290323</td>\n",
       "      <td>3004.114144</td>\n",
       "      <td>606.863636</td>\n",
       "      <td>1120.0</td>\n",
       "      <td>983.333333</td>\n",
       "      <td>108040.0</td>\n",
       "      <td>2500.0</td>\n",
       "      <td>1015.925926</td>\n",
       "      <td>1096.8</td>\n",
       "      <td>4100.0</td>\n",
       "      <td>783.333333</td>\n",
       "      <td>1429.937282</td>\n",
       "      <td>2023.413793</td>\n",
       "    </tr>\n",
       "  </tbody>\n",
       "</table>\n",
       "</div>"
      ],
      "text/plain": [
       "                              expenses                           \\\n",
       "state_name    Bs.As. G.B.A. Zona Norte Bs.As. G.B.A. Zona Oeste   \n",
       "property_type                                                     \n",
       "apartment                  3021.644444              2818.095041   \n",
       "\n",
       "                                                                   \\\n",
       "state_name    Bs.As. G.B.A. Zona Sur Buenos Aires Costa Atlántica   \n",
       "property_type                                                       \n",
       "apartment                1503.664348                  2042.121065   \n",
       "\n",
       "                                                                         \\\n",
       "state_name    Buenos Aires Interior Capital Federal   Chaco  Corrientes   \n",
       "property_type                                                             \n",
       "apartment                891.923077     6634.878631  2100.0  594.290323   \n",
       "\n",
       "                                                                               \\\n",
       "state_name         Córdoba  Entre Ríos Formosa    La Pampa   Mendoza Misiones   \n",
       "property_type                                                                   \n",
       "apartment      3004.114144  606.863636  1120.0  983.333333  108040.0   2500.0   \n",
       "\n",
       "                                                                       \\\n",
       "state_name         Neuquén Río Negro   Salta    San Luis     Santa Fe   \n",
       "property_type                                                           \n",
       "apartment      1015.925926    1096.8  4100.0  783.333333  1429.937282   \n",
       "\n",
       "                            \n",
       "state_name         Tucumán  \n",
       "property_type               \n",
       "apartment      2023.413793  "
      ]
     },
     "execution_count": 17,
     "metadata": {},
     "output_type": "execute_result"
    }
   ],
   "source": [
    "#promedio de expensas por \n",
    "data_type_apartment.pivot_table(index = 'property_type', columns = 'state_name', aggfunc = {'expenses' : 'mean'})"
   ]
  },
  {
   "cell_type": "code",
   "execution_count": 18,
   "metadata": {},
   "outputs": [
    {
     "data": {
      "text/plain": [
       "count    6.900000e+01\n",
       "mean     4.721117e+04\n",
       "std      1.946698e+05\n",
       "min      1.000000e+00\n",
       "25%      1.500000e+03\n",
       "50%      5.000000e+03\n",
       "75%      7.000000e+03\n",
       "max      1.200000e+06\n",
       "Name: expenses, dtype: float64"
      ]
     },
     "execution_count": 18,
     "metadata": {},
     "output_type": "execute_result"
    }
   ],
   "source": [
    "#Mendoza tiene valor extremadamente alto. Analizamos.\n",
    "mask_mendoza = properati_df['state_name'] == 'Mendoza'\n",
    "data_mendoza = properati_df.loc[mask_mendoza, :]\n",
    "data_mendoza['expenses'].describe()"
   ]
  },
  {
   "cell_type": "code",
   "execution_count": 19,
   "metadata": {},
   "outputs": [
    {
     "data": {
      "image/png": "[encoded data removed]",
      "text/plain": [
       "<Figure size 432x288 with 1 Axes>"
      ]
     },
     "metadata": {
      "needs_background": "light"
     },
     "output_type": "display_data"
    }
   ],
   "source": [
    "sns.boxplot(x=data_mendoza['expenses'].values);"
   ]
  },
  {
   "cell_type": "code",
   "execution_count": 20,
   "metadata": {},
   "outputs": [
    {
     "name": "stdout",
     "output_type": "stream",
     "text": [
      "1500.0\n",
      "5000.0\n",
      "7000.0\n",
      "15250.0\n",
      "-6750.0\n"
     ]
    }
   ],
   "source": [
    "#Buscamos outliers\n",
    "data_mendoza_expenses = data_mendoza['expenses']\n",
    "q1 = data_mendoza_expenses.quantile(0.25)\n",
    "print(q1)\n",
    "q2 = data_mendoza_expenses.quantile(0.50)\n",
    "print(q2)\n",
    "q3 = data_mendoza_expenses.quantile(0.75)\n",
    "print(q3)\n",
    "\n",
    "#Rango intercuartil\n",
    "\n",
    "iqr = (q3 - q1) * 1.5\n",
    "\n",
    "up_threshold = q3 + iqr\n",
    "low_threshold = q1 - iqr\n",
    "\n",
    "print(up_threshold)\n",
    "\n",
    "print(low_threshold)"
   ]
  },
  {
   "cell_type": "code",
   "execution_count": 21,
   "metadata": {},
   "outputs": [
    {
     "data": {
      "text/plain": [
       "88456     380000.0\n",
       "88474     380000.0\n",
       "92775    1000000.0\n",
       "96364    1200000.0\n",
       "Name: expenses, dtype: float64"
      ]
     },
     "execution_count": 21,
     "metadata": {},
     "output_type": "execute_result"
    }
   ],
   "source": [
    "#Máscaras para filtrar outliers\n",
    "mask_up = data_mendoza_expenses > up_threshold\n",
    "mask_down = data_mendoza_expenses < low_threshold\n",
    "outlier_mask = np.logical_or(mask_up, mask_down)\n",
    "not_outliers = np.logical_not(outlier_mask)\n",
    "\n",
    "outliers_expenses_mendoza = data_mendoza_expenses[outlier_mask]\n",
    "outliers_expenses_mendoza"
   ]
  },
  {
   "cell_type": "code",
   "execution_count": 22,
   "metadata": {},
   "outputs": [
    {
     "data": {
      "text/plain": [
       "count       65.000000\n",
       "mean      4578.015385\n",
       "std       3017.988478\n",
       "min          1.000000\n",
       "25%       1200.000000\n",
       "50%       5000.000000\n",
       "75%       7000.000000\n",
       "max      10500.000000\n",
       "Name: expenses, dtype: float64"
      ]
     },
     "execution_count": 22,
     "metadata": {},
     "output_type": "execute_result"
    }
   ],
   "source": [
    "#Filtramos sin outliers y vemos los parámetros\n",
    "data_mendoza_expenses_sin_outliers = data_mendoza_expenses[not_outliers]\n",
    "data_mendoza_expenses_sin_outliers.describe()"
   ]
  },
  {
   "cell_type": "code",
   "execution_count": 23,
   "metadata": {},
   "outputs": [
    {
     "data": {
      "image/png": "[encoded data removed]",
      "text/plain": [
       "<Figure size 432x288 with 1 Axes>"
      ]
     },
     "metadata": {
      "needs_background": "light"
     },
     "output_type": "display_data"
    }
   ],
   "source": [
    "sns.boxplot(x=data_mendoza_expenses_sin_outliers.values);"
   ]
  },
  {
   "cell_type": "code",
   "execution_count": 24,
   "metadata": {},
   "outputs": [
    {
     "ename": "AttributeError",
     "evalue": "'float' object has no attribute 'round'",
     "output_type": "error",
     "traceback": [
      "\u001b[1;31m---------------------------------------------------------------------------\u001b[0m",
      "\u001b[1;31mAttributeError\u001b[0m                            Traceback (most recent call last)",
      "\u001b[1;32m<ipython-input-24-a6a26bed771e>\u001b[0m in \u001b[0;36m<module>\u001b[1;34m\u001b[0m\n\u001b[0;32m      1\u001b[0m \u001b[1;31m#Guardamos en una variable la media de las expensas en Mendoza sin outliers\u001b[0m\u001b[1;33m\u001b[0m\u001b[1;33m\u001b[0m\u001b[1;33m\u001b[0m\u001b[0m\n\u001b[1;32m----> 2\u001b[1;33m \u001b[0mexpenses_mendoza_mean_sin_outliers\u001b[0m \u001b[1;33m=\u001b[0m \u001b[0mdata_mendoza_expenses_sin_outliers\u001b[0m\u001b[1;33m.\u001b[0m\u001b[0mmean\u001b[0m\u001b[1;33m(\u001b[0m\u001b[1;33m)\u001b[0m\u001b[1;33m.\u001b[0m\u001b[0mround\u001b[0m\u001b[1;33m(\u001b[0m\u001b[1;36m2\u001b[0m\u001b[1;33m)\u001b[0m\u001b[1;33m\u001b[0m\u001b[1;33m\u001b[0m\u001b[0m\n\u001b[0m\u001b[0;32m      3\u001b[0m \u001b[0mexpenses_mendoza_mean_sin_outliers\u001b[0m\u001b[1;33m\u001b[0m\u001b[1;33m\u001b[0m\u001b[0m\n",
      "\u001b[1;31mAttributeError\u001b[0m: 'float' object has no attribute 'round'"
     ]
    }
   ],
   "source": [
    "#Guardamos en una variable la media de las expensas en Mendoza sin outliers\n",
    "expenses_mendoza_mean_sin_outliers = data_mendoza_expenses_sin_outliers.mean().round(2)\n",
    "expenses_mendoza_mean_sin_outliers\n"
   ]
  },
  {
   "cell_type": "code",
   "execution_count": 25,
   "metadata": {},
   "outputs": [
    {
     "data": {
      "text/plain": [
       "681"
      ]
     },
     "execution_count": 25,
     "metadata": {},
     "output_type": "execute_result"
    }
   ],
   "source": [
    "len(data_mendoza)"
   ]
  },
  {
   "cell_type": "code",
   "execution_count": 26,
   "metadata": {},
   "outputs": [
    {
     "ename": "NameError",
     "evalue": "name 'expenses_mendoza_mean_sin_outliers' is not defined",
     "output_type": "error",
     "traceback": [
      "\u001b[1;31m---------------------------------------------------------------------------\u001b[0m",
      "\u001b[1;31mNameError\u001b[0m                                 Traceback (most recent call last)",
      "\u001b[1;32m<ipython-input-26-a35e99db556b>\u001b[0m in \u001b[0;36m<module>\u001b[1;34m\u001b[0m\n\u001b[0;32m      1\u001b[0m \u001b[0mdata_mendoza\u001b[0m \u001b[1;33m=\u001b[0m \u001b[0mproperati_df\u001b[0m\u001b[1;33m.\u001b[0m\u001b[0mloc\u001b[0m\u001b[1;33m[\u001b[0m\u001b[0mmask_mendoza\u001b[0m\u001b[1;33m,\u001b[0m \u001b[1;33m:\u001b[0m\u001b[1;33m]\u001b[0m\u001b[1;33m\u001b[0m\u001b[1;33m\u001b[0m\u001b[0m\n\u001b[0;32m      2\u001b[0m \u001b[0mdata_mendoza_expenses\u001b[0m\u001b[1;33m\u001b[0m\u001b[1;33m\u001b[0m\u001b[0m\n\u001b[1;32m----> 3\u001b[1;33m \u001b[0mdata_mendoza_expenses_filled\u001b[0m \u001b[1;33m=\u001b[0m \u001b[0mdata_mendoza_expenses\u001b[0m\u001b[1;33m.\u001b[0m\u001b[0mfillna\u001b[0m\u001b[1;33m(\u001b[0m\u001b[0mexpenses_mendoza_mean_sin_outliers\u001b[0m\u001b[1;33m)\u001b[0m\u001b[1;33m\u001b[0m\u001b[1;33m\u001b[0m\u001b[0m\n\u001b[0m\u001b[0;32m      4\u001b[0m \u001b[0mdata_mendoza_expenses_filled\u001b[0m\u001b[1;33m\u001b[0m\u001b[1;33m\u001b[0m\u001b[0m\n",
      "\u001b[1;31mNameError\u001b[0m: name 'expenses_mendoza_mean_sin_outliers' is not defined"
     ]
    }
   ],
   "source": [
    "data_mendoza = properati_df.loc[mask_mendoza, :]\n",
    "data_mendoza_expenses\n",
    "data_mendoza_expenses_filled = data_mendoza_expenses.fillna(expenses_mendoza_mean_sin_outliers)\n",
    "data_mendoza_expenses_filled"
   ]
  },
  {
   "cell_type": "code",
   "execution_count": 32,
   "metadata": {},
   "outputs": [
    {
     "ename": "NameError",
     "evalue": "name 'data_mendoza_expenses_filled' is not defined",
     "output_type": "error",
     "traceback": [
      "\u001b[1;31m---------------------------------------------------------------------------\u001b[0m",
      "\u001b[1;31mNameError\u001b[0m                                 Traceback (most recent call last)",
      "\u001b[1;32m<ipython-input-32-c770a862daa1>\u001b[0m in \u001b[0;36m<module>\u001b[1;34m\u001b[0m\n\u001b[0;32m      1\u001b[0m \u001b[1;31m#Agregamos columna nueva para los valores de expensas limpios de Mendoza.\u001b[0m\u001b[1;33m\u001b[0m\u001b[1;33m\u001b[0m\u001b[1;33m\u001b[0m\u001b[0m\n\u001b[1;32m----> 2\u001b[1;33m \u001b[0mproperati_df\u001b[0m\u001b[1;33m[\u001b[0m\u001b[1;34m'expensas_clean'\u001b[0m\u001b[1;33m]\u001b[0m \u001b[1;33m=\u001b[0m \u001b[0mdata_mendoza_expenses_filled\u001b[0m\u001b[1;33m\u001b[0m\u001b[1;33m\u001b[0m\u001b[0m\n\u001b[0m",
      "\u001b[1;31mNameError\u001b[0m: name 'data_mendoza_expenses_filled' is not defined"
     ]
    }
   ],
   "source": [
    "#Agregamos columna nueva para los valores de expensas limpios de Mendoza.\n",
    "properati_df['expensas_clean'] = data_mendoza_expenses_filled\n"
   ]
  },
  {
   "cell_type": "code",
   "execution_count": 45,
   "metadata": {},
   "outputs": [
    {
     "data": {
      "text/plain": [
       "NaN     73830\n",
       "3.0     12567\n",
       "2.0     12433\n",
       "4.0      7937\n",
       "1.0      7377\n",
       "5.0      3782\n",
       "6.0      1403\n",
       "7.0       770\n",
       "8.0       409\n",
       "10.0      226\n",
       "9.0       184\n",
       "11.0       72\n",
       "12.0       65\n",
       "13.0       33\n",
       "14.0       27\n",
       "15.0       26\n",
       "17.0       16\n",
       "20.0       11\n",
       "16.0       11\n",
       "22.0        8\n",
       "18.0        6\n",
       "21.0        5\n",
       "25.0        4\n",
       "19.0        4\n",
       "30.0        4\n",
       "32.0        3\n",
       "23.0        2\n",
       "24.0        1\n",
       "29.0        1\n",
       "27.0        1\n",
       "31.0        1\n",
       "28.0        1\n",
       "Name: rooms, dtype: int64"
      ]
     },
     "execution_count": 45,
     "metadata": {},
     "output_type": "execute_result"
    }
   ],
   "source": [
    "#Revisamos la columna \"rooms\".\n",
    "properati_df['rooms'].value_counts(dropna = False)\n",
    "#Vemos valores que pueden ser incorrectos, por ejemplo 32 o 31 habitaciones (puede ser un local comercial)"
   ]
  },
  {
   "cell_type": "code",
   "execution_count": 46,
   "metadata": {},
   "outputs": [
    {
     "data": {
      "text/html": [
       "<div>\n",
       "<style scoped>\n",
       "    .dataframe tbody tr th:only-of-type {\n",
       "        vertical-align: middle;\n",
       "    }\n",
       "\n",
       "    .dataframe tbody tr th {\n",
       "        vertical-align: top;\n",
       "    }\n",
       "\n",
       "    .dataframe thead th {\n",
       "        text-align: right;\n",
       "    }\n",
       "</style>\n",
       "<table border=\"1\" class=\"dataframe\">\n",
       "  <thead>\n",
       "    <tr style=\"text-align: right;\">\n",
       "      <th></th>\n",
       "      <th>operation</th>\n",
       "      <th>property_type</th>\n",
       "      <th>place_name</th>\n",
       "      <th>place_with_parent_names</th>\n",
       "      <th>country_name</th>\n",
       "      <th>state_name</th>\n",
       "      <th>geonames_id</th>\n",
       "      <th>lat-lon</th>\n",
       "      <th>lat</th>\n",
       "      <th>lon</th>\n",
       "      <th>...</th>\n",
       "      <th>surface_covered_in_m2</th>\n",
       "      <th>price_usd_per_m2</th>\n",
       "      <th>price_per_m2</th>\n",
       "      <th>floor</th>\n",
       "      <th>rooms</th>\n",
       "      <th>expenses</th>\n",
       "      <th>properati_url</th>\n",
       "      <th>description</th>\n",
       "      <th>title</th>\n",
       "      <th>image_thumbnail</th>\n",
       "    </tr>\n",
       "  </thead>\n",
       "  <tbody>\n",
       "    <tr>\n",
       "      <th>877</th>\n",
       "      <td>sell</td>\n",
       "      <td>apartment</td>\n",
       "      <td>Monserrat</td>\n",
       "      <td>|Argentina|Capital Federal|Monserrat|</td>\n",
       "      <td>Argentina</td>\n",
       "      <td>Capital Federal</td>\n",
       "      <td>3430570.0</td>\n",
       "      <td>-34.609988,-58.374932</td>\n",
       "      <td>-34.609988</td>\n",
       "      <td>-58.374932</td>\n",
       "      <td>...</td>\n",
       "      <td>472.0</td>\n",
       "      <td>NaN</td>\n",
       "      <td>635.593220</td>\n",
       "      <td>1.0</td>\n",
       "      <td>22.0</td>\n",
       "      <td>NaN</td>\n",
       "      <td>http://www.properati.com.ar/15gap_venta_depart...</td>\n",
       "      <td>Corredor Responsable: Mario Gabriel Gerez - CU...</td>\n",
       "      <td>Venta Hotel Familiar Calle Peru al 100</td>\n",
       "      <td>https://thumbs4.properati.com/1/6N7K5-4_54qOYo...</td>\n",
       "    </tr>\n",
       "    <tr>\n",
       "      <th>14714</th>\n",
       "      <td>sell</td>\n",
       "      <td>apartment</td>\n",
       "      <td>Moreno</td>\n",
       "      <td>|Argentina|Bs.As. G.B.A. Zona Oeste|Moreno|Mor...</td>\n",
       "      <td>Argentina</td>\n",
       "      <td>Bs.As. G.B.A. Zona Oeste</td>\n",
       "      <td>3430550.0</td>\n",
       "      <td>NaN</td>\n",
       "      <td>NaN</td>\n",
       "      <td>NaN</td>\n",
       "      <td>...</td>\n",
       "      <td>51.0</td>\n",
       "      <td>NaN</td>\n",
       "      <td>1372.549020</td>\n",
       "      <td>NaN</td>\n",
       "      <td>25.0</td>\n",
       "      <td>NaN</td>\n",
       "      <td>http://www.properati.com.ar/16syb_venta_depart...</td>\n",
       "      <td>Corredor Responsable: Hernan Perrone - CMCPDJM...</td>\n",
       "      <td>Departamento en Moreno Centro</td>\n",
       "      <td>https://thumbs4.properati.com/5/p-41IGC6eWT1rF...</td>\n",
       "    </tr>\n",
       "    <tr>\n",
       "      <th>27354</th>\n",
       "      <td>sell</td>\n",
       "      <td>house</td>\n",
       "      <td>Punilla</td>\n",
       "      <td>|Argentina|Córdoba|Punilla|</td>\n",
       "      <td>Argentina</td>\n",
       "      <td>Córdoba</td>\n",
       "      <td>3839996.0</td>\n",
       "      <td>-31.102948,-64.480335</td>\n",
       "      <td>-31.102948</td>\n",
       "      <td>-64.480335</td>\n",
       "      <td>...</td>\n",
       "      <td>650.0</td>\n",
       "      <td>NaN</td>\n",
       "      <td>169.230769</td>\n",
       "      <td>NaN</td>\n",
       "      <td>25.0</td>\n",
       "      <td>NaN</td>\n",
       "      <td>http://www.properati.com.ar/17td8_venta_casa_p...</td>\n",
       "      <td>Corredor Responsable: Edgardo Tamarit - CPCPI ...</td>\n",
       "      <td>SE VENDE HOSTERIA A REFACCIONAR  LA FALDA CORDOBA</td>\n",
       "      <td>https://thumbs4.properati.com/3/CU5Ssv8Tr1-x7e...</td>\n",
       "    </tr>\n",
       "    <tr>\n",
       "      <th>28078</th>\n",
       "      <td>sell</td>\n",
       "      <td>house</td>\n",
       "      <td>Punilla</td>\n",
       "      <td>|Argentina|Córdoba|Punilla|</td>\n",
       "      <td>Argentina</td>\n",
       "      <td>Córdoba</td>\n",
       "      <td>3839996.0</td>\n",
       "      <td>-31.131799,-64.465456</td>\n",
       "      <td>-31.131799</td>\n",
       "      <td>-64.465456</td>\n",
       "      <td>...</td>\n",
       "      <td>850.0</td>\n",
       "      <td>NaN</td>\n",
       "      <td>682.352941</td>\n",
       "      <td>NaN</td>\n",
       "      <td>25.0</td>\n",
       "      <td>NaN</td>\n",
       "      <td>http://www.properati.com.ar/17van_venta_casa_p...</td>\n",
       "      <td>Corredor Responsable: DANIELA E. CASTRO - CPCP...</td>\n",
       "      <td>SE VENDE CASONA APTA HOTEL EN VALLE HERMOSO</td>\n",
       "      <td>https://thumbs4.properati.com/9/oRrJzyxquWhwKD...</td>\n",
       "    </tr>\n",
       "    <tr>\n",
       "      <th>33818</th>\n",
       "      <td>sell</td>\n",
       "      <td>house</td>\n",
       "      <td>Santa Rosa de Calamuchita</td>\n",
       "      <td>|Argentina|Córdoba|Santa Rosa de Calamuchita|</td>\n",
       "      <td>Argentina</td>\n",
       "      <td>Córdoba</td>\n",
       "      <td>3835943.0</td>\n",
       "      <td>-32.062637,-64.542629</td>\n",
       "      <td>-32.062637</td>\n",
       "      <td>-64.542629</td>\n",
       "      <td>...</td>\n",
       "      <td>650.0</td>\n",
       "      <td>NaN</td>\n",
       "      <td>1338.461538</td>\n",
       "      <td>NaN</td>\n",
       "      <td>30.0</td>\n",
       "      <td>NaN</td>\n",
       "      <td>http://www.properati.com.ar/18aoy_venta_casa_s...</td>\n",
       "      <td>Corredor Responsable: Matiaz Ruiz Moreno - CPC...</td>\n",
       "      <td>APART HOTEL COSTANERA SANTA ROSA DE CALAMUCHITA</td>\n",
       "      <td>https://thumbs4.properati.com/0/x1ISRlGGN5EH4n...</td>\n",
       "    </tr>\n",
       "  </tbody>\n",
       "</table>\n",
       "<p>5 rows × 25 columns</p>\n",
       "</div>"
      ],
      "text/plain": [
       "      operation property_type                 place_name  \\\n",
       "877        sell     apartment                  Monserrat   \n",
       "14714      sell     apartment                     Moreno   \n",
       "27354      sell         house                    Punilla   \n",
       "28078      sell         house                    Punilla   \n",
       "33818      sell         house  Santa Rosa de Calamuchita   \n",
       "\n",
       "                                 place_with_parent_names country_name  \\\n",
       "877                |Argentina|Capital Federal|Monserrat|    Argentina   \n",
       "14714  |Argentina|Bs.As. G.B.A. Zona Oeste|Moreno|Mor...    Argentina   \n",
       "27354                        |Argentina|Córdoba|Punilla|    Argentina   \n",
       "28078                        |Argentina|Córdoba|Punilla|    Argentina   \n",
       "33818      |Argentina|Córdoba|Santa Rosa de Calamuchita|    Argentina   \n",
       "\n",
       "                     state_name  geonames_id                lat-lon  \\\n",
       "877             Capital Federal    3430570.0  -34.609988,-58.374932   \n",
       "14714  Bs.As. G.B.A. Zona Oeste    3430550.0                    NaN   \n",
       "27354                   Córdoba    3839996.0  -31.102948,-64.480335   \n",
       "28078                   Córdoba    3839996.0  -31.131799,-64.465456   \n",
       "33818                   Córdoba    3835943.0  -32.062637,-64.542629   \n",
       "\n",
       "             lat        lon  ...  surface_covered_in_m2 price_usd_per_m2  \\\n",
       "877   -34.609988 -58.374932  ...                  472.0              NaN   \n",
       "14714        NaN        NaN  ...                   51.0              NaN   \n",
       "27354 -31.102948 -64.480335  ...                  650.0              NaN   \n",
       "28078 -31.131799 -64.465456  ...                  850.0              NaN   \n",
       "33818 -32.062637 -64.542629  ...                  650.0              NaN   \n",
       "\n",
       "       price_per_m2  floor  rooms  expenses  \\\n",
       "877      635.593220    1.0   22.0       NaN   \n",
       "14714   1372.549020    NaN   25.0       NaN   \n",
       "27354    169.230769    NaN   25.0       NaN   \n",
       "28078    682.352941    NaN   25.0       NaN   \n",
       "33818   1338.461538    NaN   30.0       NaN   \n",
       "\n",
       "                                           properati_url  \\\n",
       "877    http://www.properati.com.ar/15gap_venta_depart...   \n",
       "14714  http://www.properati.com.ar/16syb_venta_depart...   \n",
       "27354  http://www.properati.com.ar/17td8_venta_casa_p...   \n",
       "28078  http://www.properati.com.ar/17van_venta_casa_p...   \n",
       "33818  http://www.properati.com.ar/18aoy_venta_casa_s...   \n",
       "\n",
       "                                             description  \\\n",
       "877    Corredor Responsable: Mario Gabriel Gerez - CU...   \n",
       "14714  Corredor Responsable: Hernan Perrone - CMCPDJM...   \n",
       "27354  Corredor Responsable: Edgardo Tamarit - CPCPI ...   \n",
       "28078  Corredor Responsable: DANIELA E. CASTRO - CPCP...   \n",
       "33818  Corredor Responsable: Matiaz Ruiz Moreno - CPC...   \n",
       "\n",
       "                                                   title  \\\n",
       "877               Venta Hotel Familiar Calle Peru al 100   \n",
       "14714                      Departamento en Moreno Centro   \n",
       "27354  SE VENDE HOSTERIA A REFACCIONAR  LA FALDA CORDOBA   \n",
       "28078        SE VENDE CASONA APTA HOTEL EN VALLE HERMOSO   \n",
       "33818    APART HOTEL COSTANERA SANTA ROSA DE CALAMUCHITA   \n",
       "\n",
       "                                         image_thumbnail  \n",
       "877    https://thumbs4.properati.com/1/6N7K5-4_54qOYo...  \n",
       "14714  https://thumbs4.properati.com/5/p-41IGC6eWT1rF...  \n",
       "27354  https://thumbs4.properati.com/3/CU5Ssv8Tr1-x7e...  \n",
       "28078  https://thumbs4.properati.com/9/oRrJzyxquWhwKD...  \n",
       "33818  https://thumbs4.properati.com/0/x1ISRlGGN5EH4n...  \n",
       "\n",
       "[5 rows x 25 columns]"
      ]
     },
     "execution_count": 46,
     "metadata": {},
     "output_type": "execute_result"
    }
   ],
   "source": [
    "#Máscara para más de 20 \"rooms\"\n",
    "mask_room = properati_df['rooms'] > 20\n",
    "properati_df.loc[mask_room,:].head(5)\n",
    "#Validar si podemos sacar de \"Description\" o \"Title\" si se trata de un apto hotel o similar."
   ]
  },
  {
   "cell_type": "code",
   "execution_count": 47,
   "metadata": {},
   "outputs": [
    {
     "data": {
      "text/plain": [
       "False    100810\n",
       "True      20410\n",
       "dtype: int64"
      ]
     },
     "execution_count": 47,
     "metadata": {},
     "output_type": "execute_result"
    }
   ],
   "source": [
    "#properati_df[['currency','price','price_aprox_local_currency','price_aprox_usd']].sample(10)\n",
    "#Validamos que los registros que tienen algún NaN en esas columnas lo tienen en todas. Si tienen completa alguna de ellas, tienen completa todas.\n",
    "import numpy as np\n",
    "\n",
    "mask1 = properati_df['currency'].isnull()\n",
    "mask2 = properati_df['price'].isnull()\n",
    "mask3 = properati_df['price_aprox_local_currency'].isnull()\n",
    "mask4 = properati_df['price_aprox_usd'].isnull()\n",
    "\n",
    "a = np.logical_and(mask1, mask2)\n",
    "b = np.logical_and(a,mask3)\n",
    "c = np.logical_and(b,mask4)\n",
    "c.value_counts()"
   ]
  },
  {
   "cell_type": "code",
   "execution_count": 48,
   "metadata": {},
   "outputs": [
    {
     "data": {
      "text/html": [
       "<div>\n",
       "<style scoped>\n",
       "    .dataframe tbody tr th:only-of-type {\n",
       "        vertical-align: middle;\n",
       "    }\n",
       "\n",
       "    .dataframe tbody tr th {\n",
       "        vertical-align: top;\n",
       "    }\n",
       "\n",
       "    .dataframe thead th {\n",
       "        text-align: right;\n",
       "    }\n",
       "</style>\n",
       "<table border=\"1\" class=\"dataframe\">\n",
       "  <thead>\n",
       "    <tr style=\"text-align: right;\">\n",
       "      <th></th>\n",
       "      <th>place_name</th>\n",
       "      <th>currency</th>\n",
       "      <th>price</th>\n",
       "      <th>price_aprox_local_currency</th>\n",
       "      <th>price_aprox_usd</th>\n",
       "    </tr>\n",
       "  </thead>\n",
       "  <tbody>\n",
       "    <tr>\n",
       "      <th>741</th>\n",
       "      <td>Boedo</td>\n",
       "      <td>USD</td>\n",
       "      <td>289000.0</td>\n",
       "      <td>5099260.50</td>\n",
       "      <td>289000.00</td>\n",
       "    </tr>\n",
       "    <tr>\n",
       "      <th>36452</th>\n",
       "      <td>Posadas</td>\n",
       "      <td>ARS</td>\n",
       "      <td>2500000.0</td>\n",
       "      <td>2473921.05</td>\n",
       "      <td>140209.19</td>\n",
       "    </tr>\n",
       "    <tr>\n",
       "      <th>38746</th>\n",
       "      <td>Palermo</td>\n",
       "      <td>USD</td>\n",
       "      <td>167000.0</td>\n",
       "      <td>2946631.50</td>\n",
       "      <td>167000.00</td>\n",
       "    </tr>\n",
       "    <tr>\n",
       "      <th>5601</th>\n",
       "      <td>Mar del Plata</td>\n",
       "      <td>USD</td>\n",
       "      <td>250000.0</td>\n",
       "      <td>4411125.00</td>\n",
       "      <td>250000.00</td>\n",
       "    </tr>\n",
       "    <tr>\n",
       "      <th>52338</th>\n",
       "      <td>Pinamar</td>\n",
       "      <td>USD</td>\n",
       "      <td>179700.0</td>\n",
       "      <td>3170716.65</td>\n",
       "      <td>179700.00</td>\n",
       "    </tr>\n",
       "    <tr>\n",
       "      <th>120096</th>\n",
       "      <td>Rosario</td>\n",
       "      <td>NaN</td>\n",
       "      <td>NaN</td>\n",
       "      <td>NaN</td>\n",
       "      <td>NaN</td>\n",
       "    </tr>\n",
       "    <tr>\n",
       "      <th>98355</th>\n",
       "      <td>Moreno</td>\n",
       "      <td>USD</td>\n",
       "      <td>112472.0</td>\n",
       "      <td>1984512.20</td>\n",
       "      <td>112472.00</td>\n",
       "    </tr>\n",
       "    <tr>\n",
       "      <th>12791</th>\n",
       "      <td>Mar del Plata</td>\n",
       "      <td>USD</td>\n",
       "      <td>780000.0</td>\n",
       "      <td>13762710.00</td>\n",
       "      <td>780000.00</td>\n",
       "    </tr>\n",
       "    <tr>\n",
       "      <th>11180</th>\n",
       "      <td>Córdoba</td>\n",
       "      <td>USD</td>\n",
       "      <td>620000.0</td>\n",
       "      <td>10939590.00</td>\n",
       "      <td>620000.00</td>\n",
       "    </tr>\n",
       "    <tr>\n",
       "      <th>5767</th>\n",
       "      <td>Nordelta</td>\n",
       "      <td>ARS</td>\n",
       "      <td>3357585.0</td>\n",
       "      <td>3322560.10</td>\n",
       "      <td>188305.71</td>\n",
       "    </tr>\n",
       "  </tbody>\n",
       "</table>\n",
       "</div>"
      ],
      "text/plain": [
       "           place_name currency      price  price_aprox_local_currency  \\\n",
       "741             Boedo      USD   289000.0                  5099260.50   \n",
       "36452         Posadas      ARS  2500000.0                  2473921.05   \n",
       "38746         Palermo      USD   167000.0                  2946631.50   \n",
       "5601    Mar del Plata      USD   250000.0                  4411125.00   \n",
       "52338         Pinamar      USD   179700.0                  3170716.65   \n",
       "120096        Rosario      NaN        NaN                         NaN   \n",
       "98355          Moreno      USD   112472.0                  1984512.20   \n",
       "12791   Mar del Plata      USD   780000.0                 13762710.00   \n",
       "11180         Córdoba      USD   620000.0                 10939590.00   \n",
       "5767         Nordelta      ARS  3357585.0                  3322560.10   \n",
       "\n",
       "        price_aprox_usd  \n",
       "741           289000.00  \n",
       "36452         140209.19  \n",
       "38746         167000.00  \n",
       "5601          250000.00  \n",
       "52338         179700.00  \n",
       "120096              NaN  \n",
       "98355         112472.00  \n",
       "12791         780000.00  \n",
       "11180         620000.00  \n",
       "5767          188305.71  "
      ]
     },
     "execution_count": 48,
     "metadata": {},
     "output_type": "execute_result"
    }
   ],
   "source": [
    "properati_df[['place_name','currency','price','price_aprox_local_currency','price_aprox_usd']].sample(10)\n",
    "\n"
   ]
  },
  {
   "cell_type": "code",
   "execution_count": 49,
   "metadata": {},
   "outputs": [
    {
     "data": {
      "text/plain": [
       "state_name\n",
       "Bs.As. G.B.A. Zona Norte         5.876369\n",
       "Bs.As. G.B.A. Zona Oeste        21.336623\n",
       "Bs.As. G.B.A. Zona Sur          13.381594\n",
       "Buenos Aires Costa Atlántica     9.464321\n",
       "Buenos Aires Interior           20.820602\n",
       "Capital Federal                 10.205471\n",
       "Catamarca                        3.703704\n",
       "Chaco                           36.842105\n",
       "Chubut                          36.679537\n",
       "Corrientes                      19.382504\n",
       "Córdoba                         25.113928\n",
       "Entre Ríos                      64.769648\n",
       "Formosa                         55.384615\n",
       "Jujuy                           61.538462\n",
       "La Pampa                        77.070064\n",
       "La Rioja                        50.000000\n",
       "Mendoza                         30.102790\n",
       "Misiones                        25.000000\n",
       "Neuquén                         55.798090\n",
       "Río Negro                       55.321782\n",
       "Salta                           63.309353\n",
       "San Juan                        90.000000\n",
       "San Luis                        17.460317\n",
       "Santa Cruz                       5.000000\n",
       "Santa Fe                        46.785293\n",
       "Santiago Del Estero             25.000000\n",
       "Tierra Del Fuego                 0.000000\n",
       "Tucumán                         68.397626\n",
       "dtype: float64"
      ]
     },
     "metadata": {},
     "output_type": "display_data"
    },
    {
     "data": {
      "text/plain": [
       "state_name\n",
       "Bs.As. G.B.A. Zona Norte         5.876369\n",
       "Bs.As. G.B.A. Zona Oeste        21.336623\n",
       "Bs.As. G.B.A. Zona Sur          13.381594\n",
       "Buenos Aires Costa Atlántica     9.464321\n",
       "Buenos Aires Interior           20.820602\n",
       "Capital Federal                 10.205471\n",
       "Catamarca                        3.703704\n",
       "Chaco                           36.842105\n",
       "Chubut                          36.679537\n",
       "Corrientes                      19.382504\n",
       "Córdoba                         25.122214\n",
       "Entre Ríos                      64.769648\n",
       "Formosa                         55.384615\n",
       "Jujuy                           61.538462\n",
       "La Pampa                        77.070064\n",
       "La Rioja                        50.000000\n",
       "Mendoza                         30.102790\n",
       "Misiones                        25.000000\n",
       "Neuquén                         55.798090\n",
       "Río Negro                       55.321782\n",
       "Salta                           63.309353\n",
       "San Juan                        90.000000\n",
       "San Luis                        17.460317\n",
       "Santa Cruz                       5.000000\n",
       "Santa Fe                        46.785293\n",
       "Santiago Del Estero             25.000000\n",
       "Tierra Del Fuego                 0.000000\n",
       "Tucumán                         68.397626\n",
       "dtype: float64"
      ]
     },
     "execution_count": 49,
     "metadata": {},
     "output_type": "execute_result"
    }
   ],
   "source": [
    "#Validamos lo dicho anteriormente.\n",
    "display(properati_df.groupby('state_name').apply(lambda x: x['price'].isnull().sum()/len(x)*100))\n",
    "properati_df.groupby('state_name').apply(lambda x: x['currency'].isnull().sum()/len(x)*100)\n",
    "#Provicias del interior como San Juan, La Pampa, Tucumán, Entre Ríos, tienen alto % de valores nulos."
   ]
  },
  {
   "cell_type": "code",
   "execution_count": null,
   "metadata": {},
   "outputs": [],
   "source": []
  },
  {
   "cell_type": "code",
   "execution_count": 50,
   "metadata": {},
   "outputs": [
    {
     "data": {
      "text/plain": [
       "property_type\n",
       "apartment    2676.472717\n",
       "store        2183.966993\n",
       "PH           1462.976944\n",
       "house        1181.237458\n",
       "dtype: float64"
      ]
     },
     "execution_count": 50,
     "metadata": {},
     "output_type": "execute_result"
    }
   ],
   "source": [
    "#Valores promedios de USD por m2\n",
    "properati_df.groupby('property_type').apply(lambda x: x['price_usd_per_m2'].mean()).sort_values(ascending = False)"
   ]
  },
  {
   "cell_type": "code",
   "execution_count": 51,
   "metadata": {},
   "outputs": [
    {
     "data": {
      "text/plain": [
       "count    5.961600e+04\n",
       "mean     1.874069e+05\n",
       "std      3.162183e+05\n",
       "min      4.666620e+03\n",
       "25%      8.000000e+04\n",
       "50%      1.190000e+05\n",
       "75%      1.900000e+05\n",
       "max      4.654544e+07\n",
       "Name: price_aprox_usd, dtype: float64"
      ]
     },
     "execution_count": 51,
     "metadata": {},
     "output_type": "execute_result"
    }
   ],
   "source": [
    "#Describe de parámetros del precio aprox en USD de los apartment\n",
    "properati_df[properati_df['property_type'] == 'apartment']['price_aprox_usd'].describe()"
   ]
  },
  {
   "cell_type": "code",
   "execution_count": 52,
   "metadata": {},
   "outputs": [
    {
     "data": {
      "text/plain": [
       "state_name                property_type\n",
       "Bs.As. G.B.A. Zona Norte  PH               1451.712566\n",
       "                          apartment        2539.871735\n",
       "                          house            1339.764409\n",
       "                          store            1862.009755\n",
       "Bs.As. G.B.A. Zona Oeste  PH               1224.018825\n",
       "                                              ...     \n",
       "Tierra Del Fuego          store            1100.747107\n",
       "Tucumán                   PH               1329.819072\n",
       "                          apartment        1495.412049\n",
       "                          house            1047.004923\n",
       "                          store             600.299163\n",
       "Length: 98, dtype: float64"
      ]
     },
     "execution_count": 52,
     "metadata": {},
     "output_type": "execute_result"
    }
   ],
   "source": [
    "#Precio promedio de usd por metro cuadrado de propiedades por tipo agrupados por State_name\n",
    "properati_df.groupby(['state_name','property_type']).apply(lambda x: x['price_usd_per_m2'].mean())"
   ]
  },
  {
   "cell_type": "code",
   "execution_count": 53,
   "metadata": {},
   "outputs": [
    {
     "data": {
      "text/html": [
       "<div>\n",
       "<style scoped>\n",
       "    .dataframe tbody tr th:only-of-type {\n",
       "        vertical-align: middle;\n",
       "    }\n",
       "\n",
       "    .dataframe tbody tr th {\n",
       "        vertical-align: top;\n",
       "    }\n",
       "\n",
       "    .dataframe thead tr th {\n",
       "        text-align: left;\n",
       "    }\n",
       "\n",
       "    .dataframe thead tr:last-of-type th {\n",
       "        text-align: right;\n",
       "    }\n",
       "</style>\n",
       "<table border=\"1\" class=\"dataframe\">\n",
       "  <thead>\n",
       "    <tr>\n",
       "      <th></th>\n",
       "      <th colspan=\"4\" halign=\"left\">price_aprox_usd</th>\n",
       "    </tr>\n",
       "    <tr>\n",
       "      <th>property_type</th>\n",
       "      <th>PH</th>\n",
       "      <th>apartment</th>\n",
       "      <th>house</th>\n",
       "      <th>store</th>\n",
       "    </tr>\n",
       "    <tr>\n",
       "      <th>state_name</th>\n",
       "      <th></th>\n",
       "      <th></th>\n",
       "      <th></th>\n",
       "      <th></th>\n",
       "    </tr>\n",
       "  </thead>\n",
       "  <tbody>\n",
       "    <tr>\n",
       "      <th>Bs.As. G.B.A. Zona Norte</th>\n",
       "      <td>136045.021789</td>\n",
       "      <td>2.011129e+05</td>\n",
       "      <td>426326.612906</td>\n",
       "      <td>550360.608254</td>\n",
       "    </tr>\n",
       "    <tr>\n",
       "      <th>Bs.As. G.B.A. Zona Oeste</th>\n",
       "      <td>110474.792761</td>\n",
       "      <td>1.144657e+05</td>\n",
       "      <td>218529.773389</td>\n",
       "      <td>404753.043005</td>\n",
       "    </tr>\n",
       "    <tr>\n",
       "      <th>Bs.As. G.B.A. Zona Sur</th>\n",
       "      <td>110617.264765</td>\n",
       "      <td>1.241593e+05</td>\n",
       "      <td>250338.176161</td>\n",
       "      <td>392462.840389</td>\n",
       "    </tr>\n",
       "    <tr>\n",
       "      <th>Buenos Aires Costa Atlántica</th>\n",
       "      <td>89488.609946</td>\n",
       "      <td>1.173806e+05</td>\n",
       "      <td>213872.162242</td>\n",
       "      <td>261157.146111</td>\n",
       "    </tr>\n",
       "    <tr>\n",
       "      <th>Buenos Aires Interior</th>\n",
       "      <td>102302.851429</td>\n",
       "      <td>1.489603e+05</td>\n",
       "      <td>209487.652505</td>\n",
       "      <td>245353.893061</td>\n",
       "    </tr>\n",
       "    <tr>\n",
       "      <th>Capital Federal</th>\n",
       "      <td>189433.372960</td>\n",
       "      <td>2.453469e+05</td>\n",
       "      <td>501267.519862</td>\n",
       "      <td>514980.211471</td>\n",
       "    </tr>\n",
       "    <tr>\n",
       "      <th>Catamarca</th>\n",
       "      <td>NaN</td>\n",
       "      <td>1.203333e+06</td>\n",
       "      <td>315876.027857</td>\n",
       "      <td>NaN</td>\n",
       "    </tr>\n",
       "    <tr>\n",
       "      <th>Chaco</th>\n",
       "      <td>NaN</td>\n",
       "      <td>1.243432e+05</td>\n",
       "      <td>160621.639167</td>\n",
       "      <td>485000.000000</td>\n",
       "    </tr>\n",
       "    <tr>\n",
       "      <th>Chubut</th>\n",
       "      <td>NaN</td>\n",
       "      <td>1.625027e+05</td>\n",
       "      <td>356365.166696</td>\n",
       "      <td>430793.103448</td>\n",
       "    </tr>\n",
       "    <tr>\n",
       "      <th>Corrientes</th>\n",
       "      <td>124571.428571</td>\n",
       "      <td>1.576384e+05</td>\n",
       "      <td>247610.302397</td>\n",
       "      <td>233076.923077</td>\n",
       "    </tr>\n",
       "    <tr>\n",
       "      <th>Córdoba</th>\n",
       "      <td>351597.541515</td>\n",
       "      <td>1.397666e+05</td>\n",
       "      <td>292671.095523</td>\n",
       "      <td>289198.881353</td>\n",
       "    </tr>\n",
       "    <tr>\n",
       "      <th>Entre Ríos</th>\n",
       "      <td>61692.040000</td>\n",
       "      <td>8.948829e+04</td>\n",
       "      <td>156780.676622</td>\n",
       "      <td>623384.032000</td>\n",
       "    </tr>\n",
       "    <tr>\n",
       "      <th>Formosa</th>\n",
       "      <td>NaN</td>\n",
       "      <td>6.346337e+04</td>\n",
       "      <td>NaN</td>\n",
       "      <td>NaN</td>\n",
       "    </tr>\n",
       "    <tr>\n",
       "      <th>Jujuy</th>\n",
       "      <td>NaN</td>\n",
       "      <td>6.589832e+04</td>\n",
       "      <td>360505.973750</td>\n",
       "      <td>NaN</td>\n",
       "    </tr>\n",
       "    <tr>\n",
       "      <th>La Pampa</th>\n",
       "      <td>NaN</td>\n",
       "      <td>8.125056e+04</td>\n",
       "      <td>112175.412000</td>\n",
       "      <td>308460.220000</td>\n",
       "    </tr>\n",
       "    <tr>\n",
       "      <th>La Rioja</th>\n",
       "      <td>NaN</td>\n",
       "      <td>NaN</td>\n",
       "      <td>60954.385000</td>\n",
       "      <td>NaN</td>\n",
       "    </tr>\n",
       "    <tr>\n",
       "      <th>Mendoza</th>\n",
       "      <td>247500.000000</td>\n",
       "      <td>1.318896e+05</td>\n",
       "      <td>403157.342974</td>\n",
       "      <td>342741.038571</td>\n",
       "    </tr>\n",
       "    <tr>\n",
       "      <th>Misiones</th>\n",
       "      <td>57018.400000</td>\n",
       "      <td>9.106706e+04</td>\n",
       "      <td>132785.315481</td>\n",
       "      <td>196434.696667</td>\n",
       "    </tr>\n",
       "    <tr>\n",
       "      <th>Neuquén</th>\n",
       "      <td>119619.671375</td>\n",
       "      <td>1.345912e+05</td>\n",
       "      <td>387763.816598</td>\n",
       "      <td>822500.000000</td>\n",
       "    </tr>\n",
       "    <tr>\n",
       "      <th>Río Negro</th>\n",
       "      <td>94759.515000</td>\n",
       "      <td>2.002270e+05</td>\n",
       "      <td>404785.444207</td>\n",
       "      <td>327356.323684</td>\n",
       "    </tr>\n",
       "    <tr>\n",
       "      <th>Salta</th>\n",
       "      <td>NaN</td>\n",
       "      <td>1.973477e+05</td>\n",
       "      <td>448188.111064</td>\n",
       "      <td>179467.760000</td>\n",
       "    </tr>\n",
       "    <tr>\n",
       "      <th>San Juan</th>\n",
       "      <td>NaN</td>\n",
       "      <td>3.476711e+05</td>\n",
       "      <td>251480.515000</td>\n",
       "      <td>NaN</td>\n",
       "    </tr>\n",
       "    <tr>\n",
       "      <th>San Luis</th>\n",
       "      <td>85846.020000</td>\n",
       "      <td>1.544213e+05</td>\n",
       "      <td>298312.877178</td>\n",
       "      <td>517713.991111</td>\n",
       "    </tr>\n",
       "    <tr>\n",
       "      <th>Santa Cruz</th>\n",
       "      <td>NaN</td>\n",
       "      <td>8.973388e+04</td>\n",
       "      <td>185633.891765</td>\n",
       "      <td>100950.610000</td>\n",
       "    </tr>\n",
       "    <tr>\n",
       "      <th>Santa Fe</th>\n",
       "      <td>81173.060789</td>\n",
       "      <td>1.278950e+05</td>\n",
       "      <td>187405.277949</td>\n",
       "      <td>251077.863506</td>\n",
       "    </tr>\n",
       "    <tr>\n",
       "      <th>Santiago Del Estero</th>\n",
       "      <td>NaN</td>\n",
       "      <td>3.028518e+04</td>\n",
       "      <td>230000.000000</td>\n",
       "      <td>NaN</td>\n",
       "    </tr>\n",
       "    <tr>\n",
       "      <th>Tierra Del Fuego</th>\n",
       "      <td>NaN</td>\n",
       "      <td>1.187592e+05</td>\n",
       "      <td>190499.686875</td>\n",
       "      <td>371514.630000</td>\n",
       "    </tr>\n",
       "    <tr>\n",
       "      <th>Tucumán</th>\n",
       "      <td>77675.885000</td>\n",
       "      <td>1.333862e+05</td>\n",
       "      <td>218445.141803</td>\n",
       "      <td>168659.926000</td>\n",
       "    </tr>\n",
       "  </tbody>\n",
       "</table>\n",
       "</div>"
      ],
      "text/plain": [
       "                             price_aprox_usd                               \\\n",
       "property_type                             PH     apartment          house   \n",
       "state_name                                                                  \n",
       "Bs.As. G.B.A. Zona Norte       136045.021789  2.011129e+05  426326.612906   \n",
       "Bs.As. G.B.A. Zona Oeste       110474.792761  1.144657e+05  218529.773389   \n",
       "Bs.As. G.B.A. Zona Sur         110617.264765  1.241593e+05  250338.176161   \n",
       "Buenos Aires Costa Atlántica    89488.609946  1.173806e+05  213872.162242   \n",
       "Buenos Aires Interior          102302.851429  1.489603e+05  209487.652505   \n",
       "Capital Federal                189433.372960  2.453469e+05  501267.519862   \n",
       "Catamarca                                NaN  1.203333e+06  315876.027857   \n",
       "Chaco                                    NaN  1.243432e+05  160621.639167   \n",
       "Chubut                                   NaN  1.625027e+05  356365.166696   \n",
       "Corrientes                     124571.428571  1.576384e+05  247610.302397   \n",
       "Córdoba                        351597.541515  1.397666e+05  292671.095523   \n",
       "Entre Ríos                      61692.040000  8.948829e+04  156780.676622   \n",
       "Formosa                                  NaN  6.346337e+04            NaN   \n",
       "Jujuy                                    NaN  6.589832e+04  360505.973750   \n",
       "La Pampa                                 NaN  8.125056e+04  112175.412000   \n",
       "La Rioja                                 NaN           NaN   60954.385000   \n",
       "Mendoza                        247500.000000  1.318896e+05  403157.342974   \n",
       "Misiones                        57018.400000  9.106706e+04  132785.315481   \n",
       "Neuquén                        119619.671375  1.345912e+05  387763.816598   \n",
       "Río Negro                       94759.515000  2.002270e+05  404785.444207   \n",
       "Salta                                    NaN  1.973477e+05  448188.111064   \n",
       "San Juan                                 NaN  3.476711e+05  251480.515000   \n",
       "San Luis                        85846.020000  1.544213e+05  298312.877178   \n",
       "Santa Cruz                               NaN  8.973388e+04  185633.891765   \n",
       "Santa Fe                        81173.060789  1.278950e+05  187405.277949   \n",
       "Santiago Del Estero                      NaN  3.028518e+04  230000.000000   \n",
       "Tierra Del Fuego                         NaN  1.187592e+05  190499.686875   \n",
       "Tucumán                         77675.885000  1.333862e+05  218445.141803   \n",
       "\n",
       "                                             \n",
       "property_type                         store  \n",
       "state_name                                   \n",
       "Bs.As. G.B.A. Zona Norte      550360.608254  \n",
       "Bs.As. G.B.A. Zona Oeste      404753.043005  \n",
       "Bs.As. G.B.A. Zona Sur        392462.840389  \n",
       "Buenos Aires Costa Atlántica  261157.146111  \n",
       "Buenos Aires Interior         245353.893061  \n",
       "Capital Federal               514980.211471  \n",
       "Catamarca                               NaN  \n",
       "Chaco                         485000.000000  \n",
       "Chubut                        430793.103448  \n",
       "Corrientes                    233076.923077  \n",
       "Córdoba                       289198.881353  \n",
       "Entre Ríos                    623384.032000  \n",
       "Formosa                                 NaN  \n",
       "Jujuy                                   NaN  \n",
       "La Pampa                      308460.220000  \n",
       "La Rioja                                NaN  \n",
       "Mendoza                       342741.038571  \n",
       "Misiones                      196434.696667  \n",
       "Neuquén                       822500.000000  \n",
       "Río Negro                     327356.323684  \n",
       "Salta                         179467.760000  \n",
       "San Juan                                NaN  \n",
       "San Luis                      517713.991111  \n",
       "Santa Cruz                    100950.610000  \n",
       "Santa Fe                      251077.863506  \n",
       "Santiago Del Estero                     NaN  \n",
       "Tierra Del Fuego              371514.630000  \n",
       "Tucumán                       168659.926000  "
      ]
     },
     "execution_count": 53,
     "metadata": {},
     "output_type": "execute_result"
    }
   ],
   "source": [
    "properati_df.pivot_table(index='state_name', columns='property_type', aggfunc={'price_aprox_usd':'mean'})\n"
   ]
  },
  {
   "cell_type": "code",
   "execution_count": 54,
   "metadata": {},
   "outputs": [
    {
     "data": {
      "text/plain": [
       "state_name                property_type\n",
       "Bs.As. G.B.A. Zona Norte  PH               136045.021789\n",
       "                          apartment        201112.905033\n",
       "                          house            426326.612906\n",
       "                          store            550360.608254\n",
       "Bs.As. G.B.A. Zona Oeste  PH               110474.792761\n",
       "                                               ...      \n",
       "Tierra Del Fuego          store            371514.630000\n",
       "Tucumán                   PH                77675.885000\n",
       "                          apartment        133386.182071\n",
       "                          house            218445.141803\n",
       "                          store            168659.926000\n",
       "Length: 98, dtype: float64"
      ]
     },
     "execution_count": 54,
     "metadata": {},
     "output_type": "execute_result"
    }
   ],
   "source": [
    "properati_df.groupby(['state_name','property_type']).apply(lambda x: x['price_aprox_usd'].mean())"
   ]
  },
  {
   "cell_type": "code",
   "execution_count": 55,
   "metadata": {},
   "outputs": [
    {
     "data": {
      "text/plain": [
       "state_name                place_name               property_type\n",
       "Bs.As. G.B.A. Zona Norte   Country Maschwitz Club  house            311666.666667\n",
       "                           los alamos              apartment         81600.000000\n",
       "                          Acacias Blancas          house            249529.411765\n",
       "                          Acassuso                 PH               238750.000000\n",
       "                                                   apartment        289469.767442\n",
       "                                                                        ...      \n",
       "Tucumán                   Tucumán                  store            205640.143333\n",
       "                          Villa Belgrano           apartment                  NaN\n",
       "                          Yerba Buena              apartment         91987.110000\n",
       "                                                   house            318982.235263\n",
       "                                                   store            106205.287500\n",
       "Length: 2180, dtype: float64"
      ]
     },
     "execution_count": 55,
     "metadata": {},
     "output_type": "execute_result"
    }
   ],
   "source": [
    "properati_df.groupby(['state_name','place_name','property_type']).apply(lambda x: x['price_aprox_usd'].mean())"
   ]
  },
  {
   "cell_type": "code",
   "execution_count": 56,
   "metadata": {},
   "outputs": [
    {
     "data": {
      "text/plain": [
       "count     68617.000000\n",
       "mean       2160.086916\n",
       "std        2759.288621\n",
       "min           0.600000\n",
       "25%        1218.181818\n",
       "50%        1800.000000\n",
       "75%        2486.411765\n",
       "max      206333.333333\n",
       "Name: price_usd_per_m2, dtype: float64"
      ]
     },
     "execution_count": 56,
     "metadata": {},
     "output_type": "execute_result"
    }
   ],
   "source": [
    "#Analizamos 'price_usd_per_m2' ya que la usaremos para sacar conclusiones.\n",
    "properati_df['price_usd_per_m2'].describe()"
   ]
  },
  {
   "cell_type": "code",
   "execution_count": 57,
   "metadata": {},
   "outputs": [
    {
     "data": {
      "image/png": "[encoded data removed]",
      "text/plain": [
       "<Figure size 432x288 with 1 Axes>"
      ]
     },
     "metadata": {
      "needs_background": "light"
     },
     "output_type": "display_data"
    }
   ],
   "source": [
    "sns.boxplot(x=properati_df['price_usd_per_m2'].values);"
   ]
  },
  {
   "cell_type": "code",
   "execution_count": 58,
   "metadata": {},
   "outputs": [
    {
     "name": "stdout",
     "output_type": "stream",
     "text": [
      "1218.1818181818182\n",
      "1800.0\n",
      "2486.4117647058824\n",
      "4388.756684491978\n",
      "-684.1631016042782\n"
     ]
    }
   ],
   "source": [
    "#Vemos outliers en 'price_usd_per_m2'\n",
    "data_price_usd_per_m2 = properati_df['price_usd_per_m2']\n",
    "q1m2 = data_price_usd_per_m2.quantile(0.25)\n",
    "print(q1m2)\n",
    "q2m2 = data_price_usd_per_m2.quantile(0.50)\n",
    "print(q2m2)\n",
    "q3m2 = data_price_usd_per_m2.quantile(0.75)\n",
    "print(q3m2)\n",
    "\n",
    "#Rango intercuartil\n",
    "\n",
    "iqrm2 = (q3m2 - q1m2) * 1.5\n",
    "\n",
    "up_threshold_m2 = q3m2 + iqrm2\n",
    "low_threshold_m2 = q1m2 - iqrm2\n",
    "\n",
    "print(up_threshold_m2)\n",
    "\n",
    "print(low_threshold_m2)"
   ]
  },
  {
   "cell_type": "code",
   "execution_count": 59,
   "metadata": {},
   "outputs": [
    {
     "data": {
      "text/plain": [
       "57         8333.333333\n",
       "244        5045.871560\n",
       "252        6035.353535\n",
       "381        6481.481481\n",
       "400        6481.481481\n",
       "              ...     \n",
       "120062     4411.764706\n",
       "120124    11750.000000\n",
       "121093     6888.888889\n",
       "121100     6888.888889\n",
       "121215     7699.115044\n",
       "Name: price_usd_per_m2, Length: 2868, dtype: float64"
      ]
     },
     "execution_count": 59,
     "metadata": {},
     "output_type": "execute_result"
    }
   ],
   "source": [
    "#Máscaras para filtrar outliers\n",
    "mask_up_m2 = data_price_usd_per_m2 > up_threshold_m2\n",
    "mask_down_m2 = data_price_usd_per_m2 < low_threshold_m2\n",
    "outlier_mask_m2 = np.logical_or(mask_up_m2, mask_down_m2)\n",
    "not_outliers_m2 = np.logical_not(outlier_mask_m2)\n",
    "\n",
    "outliers_price_m2 = data_price_usd_per_m2[outlier_mask_m2]\n",
    "outliers_price_m2"
   ]
  },
  {
   "cell_type": "code",
   "execution_count": 60,
   "metadata": {},
   "outputs": [
    {
     "data": {
      "text/plain": [
       "count    65749.000000\n",
       "mean      1797.352380\n",
       "std        885.749022\n",
       "min          0.600000\n",
       "25%       1185.537588\n",
       "50%       1755.813953\n",
       "75%       2379.310345\n",
       "max       4387.800000\n",
       "Name: price_usd_per_m2, dtype: float64"
      ]
     },
     "execution_count": 60,
     "metadata": {},
     "output_type": "execute_result"
    }
   ],
   "source": [
    "#Parámetros sin outliers\n",
    "data_price_usd_per_m2_filtered = data_price_usd_per_m2[not_outliers_m2]\n",
    "data_price_usd_per_m2_filtered.describe()"
   ]
  },
  {
   "cell_type": "code",
   "execution_count": 61,
   "metadata": {},
   "outputs": [
    {
     "data": {
      "image/png": "[encoded data removed]",
      "text/plain": [
       "<Figure size 432x288 with 1 Axes>"
      ]
     },
     "metadata": {
      "needs_background": "light"
     },
     "output_type": "display_data"
    }
   ],
   "source": [
    "#Box plot sin outliers\n",
    "sns.boxplot(x=data_price_usd_per_m2_filtered.values);"
   ]
  },
  {
   "cell_type": "code",
   "execution_count": 62,
   "metadata": {},
   "outputs": [
    {
     "ename": "AttributeError",
     "evalue": "'float' object has no attribute 'round'",
     "output_type": "error",
     "traceback": [
      "\u001b[1;31m---------------------------------------------------------------------------\u001b[0m",
      "\u001b[1;31mAttributeError\u001b[0m                            Traceback (most recent call last)",
      "\u001b[1;32m<ipython-input-62-6f0feeff1cce>\u001b[0m in \u001b[0;36m<module>\u001b[1;34m\u001b[0m\n\u001b[0;32m      1\u001b[0m \u001b[1;31m#Guardamos en una variable la media del precio por m2 sin outliers\u001b[0m\u001b[1;33m\u001b[0m\u001b[1;33m\u001b[0m\u001b[1;33m\u001b[0m\u001b[0m\n\u001b[1;32m----> 2\u001b[1;33m \u001b[0mmean_usd_per_m2_sin_outliers\u001b[0m \u001b[1;33m=\u001b[0m \u001b[0mdata_price_usd_per_m2_filtered\u001b[0m\u001b[1;33m.\u001b[0m\u001b[0mmean\u001b[0m\u001b[1;33m(\u001b[0m\u001b[1;33m)\u001b[0m\u001b[1;33m.\u001b[0m\u001b[0mround\u001b[0m\u001b[1;33m(\u001b[0m\u001b[1;36m2\u001b[0m\u001b[1;33m)\u001b[0m\u001b[1;33m\u001b[0m\u001b[1;33m\u001b[0m\u001b[0m\n\u001b[0m\u001b[0;32m      3\u001b[0m \u001b[0mmean_usd_per_m2_sin_outliers\u001b[0m\u001b[1;33m\u001b[0m\u001b[1;33m\u001b[0m\u001b[0m\n",
      "\u001b[1;31mAttributeError\u001b[0m: 'float' object has no attribute 'round'"
     ]
    }
   ],
   "source": [
    "#Guardamos en una variable la media del precio por m2 sin outliers\n",
    "mean_usd_per_m2_sin_outliers = data_price_usd_per_m2_filtered.mean().round(2)\n",
    "mean_usd_per_m2_sin_outliers\n"
   ]
  },
  {
   "cell_type": "code",
   "execution_count": 63,
   "metadata": {},
   "outputs": [
    {
     "data": {
      "text/plain": [
       "array(['Capital Federal', 'Bs.As. G.B.A. Zona Sur',\n",
       "       'Buenos Aires Costa Atlántica', 'Resto del pais',\n",
       "       'Bs.As. G.B.A. Zona Norte', 'Santa Fe', 'Córdoba',\n",
       "       'Bs.As. G.B.A. Zona Oeste', 'Buenos Aires Interior', 'Mendoza'],\n",
       "      dtype=object)"
      ]
     },
     "execution_count": 63,
     "metadata": {},
     "output_type": "execute_result"
    }
   ],
   "source": [
    "#Agrupamos por grandes centros urbanos\n",
    "dic_categorias_urbanas = {'Capital Federal':'Capital Federal', 'Bs.As. G.B.A. Zona Sur':'Bs.As. G.B.A. Zona Sur',\n",
    "       'Buenos Aires Costa Atlántica':'Buenos Aires Costa Atlántica','Bs.As. G.B.A. Zona Norte':'Bs.As. G.B.A. Zona Norte', 'Santa Fe':'Santa Fe', 'Córdoba':'Córdoba',\n",
    "       'Bs.As. G.B.A. Zona Oeste':'Bs.As. G.B.A. Zona Oeste','Buenos Aires Interior':'Buenos Aires Interior',\n",
    "       'Mendoza':'Mendoza','Santa Fe':'Santa Fe', 'Córdoba':'Córdoba','Entre Ríos':'Resto del pais','Misiones':'Resto del pais', 'Salta':'Resto del pais','Neuquén':'Resto del pais','Río Negro':'Resto del pais','San Luis':'Resto del pais', 'Corrientes': 'Resto del pais','Chubut': 'Resto del pais', 'Tucumán':'Resto del pais','La Pampa':'Resto del pais', 'Chaco':'Resto del pais','San Juan':'Resto del pais', 'Santa Cruz':'Resto del pais','Tierra Del Fuego':'Resto del pais','Catamarca':'Resto del pais','Santiago Del Estero':'Resto del pais', 'Jujuy':'Resto del pais','La Rioja':'Resto del pais','Formosa':'Resto del pais'}\n",
    "properati_df_replacement = properati_df.replace(dic_categorias_urbanas)\n",
    "properati_df_replacement['state_name'].unique()"
   ]
  },
  {
   "cell_type": "code",
   "execution_count": 64,
   "metadata": {},
   "outputs": [
    {
     "data": {
      "text/html": [
       "<div>\n",
       "<style scoped>\n",
       "    .dataframe tbody tr th:only-of-type {\n",
       "        vertical-align: middle;\n",
       "    }\n",
       "\n",
       "    .dataframe tbody tr th {\n",
       "        vertical-align: top;\n",
       "    }\n",
       "\n",
       "    .dataframe thead th {\n",
       "        text-align: right;\n",
       "    }\n",
       "</style>\n",
       "<table border=\"1\" class=\"dataframe\">\n",
       "  <thead>\n",
       "    <tr style=\"text-align: right;\">\n",
       "      <th></th>\n",
       "      <th>operation</th>\n",
       "      <th>property_type</th>\n",
       "      <th>place_name</th>\n",
       "      <th>place_with_parent_names</th>\n",
       "      <th>country_name</th>\n",
       "      <th>state_name</th>\n",
       "      <th>geonames_id</th>\n",
       "      <th>lat-lon</th>\n",
       "      <th>lat</th>\n",
       "      <th>lon</th>\n",
       "      <th>...</th>\n",
       "      <th>price_usd_per_m2</th>\n",
       "      <th>price_per_m2</th>\n",
       "      <th>floor</th>\n",
       "      <th>rooms</th>\n",
       "      <th>expenses</th>\n",
       "      <th>properati_url</th>\n",
       "      <th>description</th>\n",
       "      <th>title</th>\n",
       "      <th>image_thumbnail</th>\n",
       "      <th>centro_urbano</th>\n",
       "    </tr>\n",
       "  </thead>\n",
       "  <tbody>\n",
       "    <tr>\n",
       "      <th>0</th>\n",
       "      <td>sell</td>\n",
       "      <td>PH</td>\n",
       "      <td>Mataderos</td>\n",
       "      <td>|Argentina|Capital Federal|Mataderos|</td>\n",
       "      <td>Argentina</td>\n",
       "      <td>Capital Federal</td>\n",
       "      <td>3430787.0</td>\n",
       "      <td>-34.6618237,-58.5088387</td>\n",
       "      <td>-34.661824</td>\n",
       "      <td>-58.508839</td>\n",
       "      <td>...</td>\n",
       "      <td>1127.272727</td>\n",
       "      <td>1550.000000</td>\n",
       "      <td>NaN</td>\n",
       "      <td>NaN</td>\n",
       "      <td>NaN</td>\n",
       "      <td>http://www.properati.com.ar/15bo8_venta_ph_mat...</td>\n",
       "      <td>2 AMBIENTES TIPO CASA PLANTA BAJA POR PASILLO,...</td>\n",
       "      <td>2 AMB TIPO CASA SIN EXPENSAS EN PB</td>\n",
       "      <td>https://thumbs4.properati.com/8/BluUYiHJLhgIIK...</td>\n",
       "      <td>Capital Federal</td>\n",
       "    </tr>\n",
       "    <tr>\n",
       "      <th>1</th>\n",
       "      <td>sell</td>\n",
       "      <td>apartment</td>\n",
       "      <td>La Plata</td>\n",
       "      <td>|Argentina|Bs.As. G.B.A. Zona Sur|La Plata|</td>\n",
       "      <td>Argentina</td>\n",
       "      <td>Bs.As. G.B.A. Zona Sur</td>\n",
       "      <td>3432039.0</td>\n",
       "      <td>-34.9038831,-57.9643295</td>\n",
       "      <td>-34.903883</td>\n",
       "      <td>-57.964330</td>\n",
       "      <td>...</td>\n",
       "      <td>NaN</td>\n",
       "      <td>NaN</td>\n",
       "      <td>NaN</td>\n",
       "      <td>NaN</td>\n",
       "      <td>NaN</td>\n",
       "      <td>http://www.properati.com.ar/15bob_venta_depart...</td>\n",
       "      <td>Venta de departamento en décimo piso al frente...</td>\n",
       "      <td>VENTA Depto 2 dorm. a estrenar 7 e/ 36 y 37   ...</td>\n",
       "      <td>https://thumbs4.properati.com/7/ikpVBu2ztHA7jv...</td>\n",
       "      <td>Bs.As. G.B.A. Zona Sur</td>\n",
       "    </tr>\n",
       "    <tr>\n",
       "      <th>2</th>\n",
       "      <td>sell</td>\n",
       "      <td>apartment</td>\n",
       "      <td>Mataderos</td>\n",
       "      <td>|Argentina|Capital Federal|Mataderos|</td>\n",
       "      <td>Argentina</td>\n",
       "      <td>Capital Federal</td>\n",
       "      <td>3430787.0</td>\n",
       "      <td>-34.6522615,-58.5229825</td>\n",
       "      <td>-34.652262</td>\n",
       "      <td>-58.522982</td>\n",
       "      <td>...</td>\n",
       "      <td>1309.090909</td>\n",
       "      <td>1309.090909</td>\n",
       "      <td>NaN</td>\n",
       "      <td>NaN</td>\n",
       "      <td>NaN</td>\n",
       "      <td>http://www.properati.com.ar/15bod_venta_depart...</td>\n",
       "      <td>2 AMBIENTES 3ER PISO LATERAL LIVING COMEDOR AM...</td>\n",
       "      <td>2 AMB 3ER PISO CON ASCENSOR APTO CREDITO</td>\n",
       "      <td>https://thumbs4.properati.com/5/SXKr34F_IwG3W_...</td>\n",
       "      <td>Capital Federal</td>\n",
       "    </tr>\n",
       "    <tr>\n",
       "      <th>3</th>\n",
       "      <td>sell</td>\n",
       "      <td>PH</td>\n",
       "      <td>Liniers</td>\n",
       "      <td>|Argentina|Capital Federal|Liniers|</td>\n",
       "      <td>Argentina</td>\n",
       "      <td>Capital Federal</td>\n",
       "      <td>3431333.0</td>\n",
       "      <td>-34.6477969,-58.5164244</td>\n",
       "      <td>-34.647797</td>\n",
       "      <td>-58.516424</td>\n",
       "      <td>...</td>\n",
       "      <td>NaN</td>\n",
       "      <td>NaN</td>\n",
       "      <td>NaN</td>\n",
       "      <td>NaN</td>\n",
       "      <td>NaN</td>\n",
       "      <td>http://www.properati.com.ar/15boh_venta_ph_lin...</td>\n",
       "      <td>PH 3 ambientes con patio. Hay 3 deptos en lote...</td>\n",
       "      <td>PH 3 amb. cfte. reciclado</td>\n",
       "      <td>https://thumbs4.properati.com/3/DgIfX-85Mog5SP...</td>\n",
       "      <td>Capital Federal</td>\n",
       "    </tr>\n",
       "    <tr>\n",
       "      <th>4</th>\n",
       "      <td>sell</td>\n",
       "      <td>apartment</td>\n",
       "      <td>Centro</td>\n",
       "      <td>|Argentina|Buenos Aires Costa Atlántica|Mar de...</td>\n",
       "      <td>Argentina</td>\n",
       "      <td>Buenos Aires Costa Atlántica</td>\n",
       "      <td>3435548.0</td>\n",
       "      <td>-38.0026256,-57.5494468</td>\n",
       "      <td>-38.002626</td>\n",
       "      <td>-57.549447</td>\n",
       "      <td>...</td>\n",
       "      <td>1828.571429</td>\n",
       "      <td>1828.571429</td>\n",
       "      <td>NaN</td>\n",
       "      <td>NaN</td>\n",
       "      <td>NaN</td>\n",
       "      <td>http://www.properati.com.ar/15bok_venta_depart...</td>\n",
       "      <td>DEPARTAMENTO CON FANTÁSTICA ILUMINACIÓN NATURA...</td>\n",
       "      <td>DEPTO 2 AMB AL CONTRAFRENTE ZONA CENTRO/PLAZA ...</td>\n",
       "      <td>https://thumbs4.properati.com/5/xrRqlNcSI_vs-f...</td>\n",
       "      <td>Buenos Aires Costa Atlántica</td>\n",
       "    </tr>\n",
       "    <tr>\n",
       "      <th>5</th>\n",
       "      <td>sell</td>\n",
       "      <td>house</td>\n",
       "      <td>Gualeguaychú</td>\n",
       "      <td>|Argentina|Entre Ríos|Gualeguaychú|</td>\n",
       "      <td>Argentina</td>\n",
       "      <td>Entre Ríos</td>\n",
       "      <td>3433657.0</td>\n",
       "      <td>-33.0140714,-58.519828</td>\n",
       "      <td>-33.014071</td>\n",
       "      <td>-58.519828</td>\n",
       "      <td>...</td>\n",
       "      <td>NaN</td>\n",
       "      <td>NaN</td>\n",
       "      <td>NaN</td>\n",
       "      <td>NaN</td>\n",
       "      <td>NaN</td>\n",
       "      <td>http://www.properati.com.ar/15bop_venta_depart...</td>\n",
       "      <td>Casa en el perímetro del barrio 338, ubicada e...</td>\n",
       "      <td>Casa Barrio 338. Sobre calle 3 de caballería, ...</td>\n",
       "      <td>https://thumbs4.properati.com/6/q-w68gvaUEQVXI...</td>\n",
       "      <td>Resto del pais</td>\n",
       "    </tr>\n",
       "    <tr>\n",
       "      <th>6</th>\n",
       "      <td>sell</td>\n",
       "      <td>PH</td>\n",
       "      <td>Munro</td>\n",
       "      <td>|Argentina|Bs.As. G.B.A. Zona Norte|Vicente Ló...</td>\n",
       "      <td>Argentina</td>\n",
       "      <td>Bs.As. G.B.A. Zona Norte</td>\n",
       "      <td>3430511.0</td>\n",
       "      <td>-34.5329567,-58.5217825</td>\n",
       "      <td>-34.532957</td>\n",
       "      <td>-58.521782</td>\n",
       "      <td>...</td>\n",
       "      <td>1226.415094</td>\n",
       "      <td>1666.666667</td>\n",
       "      <td>NaN</td>\n",
       "      <td>NaN</td>\n",
       "      <td>NaN</td>\n",
       "      <td>http://www.properati.com.ar/15bor_venta_ph_mun...</td>\n",
       "      <td>MUY BUEN PH AL FRENTE CON ENTRADA INDEPENDIENT...</td>\n",
       "      <td>MUY BUEN PH AL FRENTE DOS DORMITORIOS , PATIO,...</td>\n",
       "      <td>https://thumbs4.properati.com/5/6GOXsHCyDu1aGx...</td>\n",
       "      <td>Bs.As. G.B.A. Zona Norte</td>\n",
       "    </tr>\n",
       "    <tr>\n",
       "      <th>7</th>\n",
       "      <td>sell</td>\n",
       "      <td>apartment</td>\n",
       "      <td>Belgrano</td>\n",
       "      <td>|Argentina|Capital Federal|Belgrano|</td>\n",
       "      <td>Argentina</td>\n",
       "      <td>Capital Federal</td>\n",
       "      <td>3436077.0</td>\n",
       "      <td>-34.5598729,-58.443362</td>\n",
       "      <td>-34.559873</td>\n",
       "      <td>-58.443362</td>\n",
       "      <td>...</td>\n",
       "      <td>3066.666667</td>\n",
       "      <td>3450.000000</td>\n",
       "      <td>NaN</td>\n",
       "      <td>NaN</td>\n",
       "      <td>NaN</td>\n",
       "      <td>http://www.properati.com.ar/15bot_venta_depart...</td>\n",
       "      <td>EXCELENTE MONOAMBIENTE A ESTRENAR AMPLIO SUPER...</td>\n",
       "      <td>JOSE HERNANDEZ 1400 MONOAMBIENTE  ESTRENAR CAT...</td>\n",
       "      <td>https://thumbs4.properati.com/1/IHxARynlr8sPEW...</td>\n",
       "      <td>Capital Federal</td>\n",
       "    </tr>\n",
       "    <tr>\n",
       "      <th>8</th>\n",
       "      <td>sell</td>\n",
       "      <td>apartment</td>\n",
       "      <td>Belgrano</td>\n",
       "      <td>|Argentina|Capital Federal|Belgrano|</td>\n",
       "      <td>Argentina</td>\n",
       "      <td>Capital Federal</td>\n",
       "      <td>3436077.0</td>\n",
       "      <td>-34.5598729,-58.443362</td>\n",
       "      <td>-34.559873</td>\n",
       "      <td>-58.443362</td>\n",
       "      <td>...</td>\n",
       "      <td>3000.000000</td>\n",
       "      <td>3250.000000</td>\n",
       "      <td>NaN</td>\n",
       "      <td>NaN</td>\n",
       "      <td>NaN</td>\n",
       "      <td>http://www.properati.com.ar/15bou_venta_depart...</td>\n",
       "      <td>EXCELENTE DOS AMBIENTES  ESTRENAR AMPLIO SUPER...</td>\n",
       "      <td>JOSE HERNANDEZ   1400 DOS AMBIENTES ESTRENAR ,...</td>\n",
       "      <td>https://thumbs4.properati.com/2/J3zOjgaFHrkvnv...</td>\n",
       "      <td>Capital Federal</td>\n",
       "    </tr>\n",
       "    <tr>\n",
       "      <th>9</th>\n",
       "      <td>sell</td>\n",
       "      <td>house</td>\n",
       "      <td>Rosario</td>\n",
       "      <td>|Argentina|Santa Fe|Rosario|</td>\n",
       "      <td>Argentina</td>\n",
       "      <td>Santa Fe</td>\n",
       "      <td>3838574.0</td>\n",
       "      <td>-32.942031,-60.7259192</td>\n",
       "      <td>-32.942031</td>\n",
       "      <td>-60.725919</td>\n",
       "      <td>...</td>\n",
       "      <td>NaN</td>\n",
       "      <td>NaN</td>\n",
       "      <td>NaN</td>\n",
       "      <td>NaN</td>\n",
       "      <td>NaN</td>\n",
       "      <td>http://www.properati.com.ar/15box_venta_casa_r...</td>\n",
       "      <td>MEDNOZA AL 7600A UNA CUADRA DE CALLE MENDOZAWH...</td>\n",
       "      <td>WHITE 7637 - 2 DORMITORIOS CON PATIO</td>\n",
       "      <td>https://thumbs4.properati.com/8/RCf1YEWdF4rv98...</td>\n",
       "      <td>Santa Fe</td>\n",
       "    </tr>\n",
       "  </tbody>\n",
       "</table>\n",
       "<p>10 rows × 26 columns</p>\n",
       "</div>"
      ],
      "text/plain": [
       "  operation property_type    place_name  \\\n",
       "0      sell            PH     Mataderos   \n",
       "1      sell     apartment      La Plata   \n",
       "2      sell     apartment     Mataderos   \n",
       "3      sell            PH       Liniers   \n",
       "4      sell     apartment        Centro   \n",
       "5      sell         house  Gualeguaychú   \n",
       "6      sell            PH         Munro   \n",
       "7      sell     apartment      Belgrano   \n",
       "8      sell     apartment      Belgrano   \n",
       "9      sell         house       Rosario   \n",
       "\n",
       "                             place_with_parent_names country_name  \\\n",
       "0              |Argentina|Capital Federal|Mataderos|    Argentina   \n",
       "1        |Argentina|Bs.As. G.B.A. Zona Sur|La Plata|    Argentina   \n",
       "2              |Argentina|Capital Federal|Mataderos|    Argentina   \n",
       "3                |Argentina|Capital Federal|Liniers|    Argentina   \n",
       "4  |Argentina|Buenos Aires Costa Atlántica|Mar de...    Argentina   \n",
       "5                |Argentina|Entre Ríos|Gualeguaychú|    Argentina   \n",
       "6  |Argentina|Bs.As. G.B.A. Zona Norte|Vicente Ló...    Argentina   \n",
       "7               |Argentina|Capital Federal|Belgrano|    Argentina   \n",
       "8               |Argentina|Capital Federal|Belgrano|    Argentina   \n",
       "9                       |Argentina|Santa Fe|Rosario|    Argentina   \n",
       "\n",
       "                     state_name  geonames_id                  lat-lon  \\\n",
       "0               Capital Federal    3430787.0  -34.6618237,-58.5088387   \n",
       "1        Bs.As. G.B.A. Zona Sur    3432039.0  -34.9038831,-57.9643295   \n",
       "2               Capital Federal    3430787.0  -34.6522615,-58.5229825   \n",
       "3               Capital Federal    3431333.0  -34.6477969,-58.5164244   \n",
       "4  Buenos Aires Costa Atlántica    3435548.0  -38.0026256,-57.5494468   \n",
       "5                    Entre Ríos    3433657.0   -33.0140714,-58.519828   \n",
       "6      Bs.As. G.B.A. Zona Norte    3430511.0  -34.5329567,-58.5217825   \n",
       "7               Capital Federal    3436077.0   -34.5598729,-58.443362   \n",
       "8               Capital Federal    3436077.0   -34.5598729,-58.443362   \n",
       "9                      Santa Fe    3838574.0   -32.942031,-60.7259192   \n",
       "\n",
       "         lat        lon  ...  price_usd_per_m2 price_per_m2  floor  rooms  \\\n",
       "0 -34.661824 -58.508839  ...       1127.272727  1550.000000    NaN    NaN   \n",
       "1 -34.903883 -57.964330  ...               NaN          NaN    NaN    NaN   \n",
       "2 -34.652262 -58.522982  ...       1309.090909  1309.090909    NaN    NaN   \n",
       "3 -34.647797 -58.516424  ...               NaN          NaN    NaN    NaN   \n",
       "4 -38.002626 -57.549447  ...       1828.571429  1828.571429    NaN    NaN   \n",
       "5 -33.014071 -58.519828  ...               NaN          NaN    NaN    NaN   \n",
       "6 -34.532957 -58.521782  ...       1226.415094  1666.666667    NaN    NaN   \n",
       "7 -34.559873 -58.443362  ...       3066.666667  3450.000000    NaN    NaN   \n",
       "8 -34.559873 -58.443362  ...       3000.000000  3250.000000    NaN    NaN   \n",
       "9 -32.942031 -60.725919  ...               NaN          NaN    NaN    NaN   \n",
       "\n",
       "   expenses                                      properati_url  \\\n",
       "0       NaN  http://www.properati.com.ar/15bo8_venta_ph_mat...   \n",
       "1       NaN  http://www.properati.com.ar/15bob_venta_depart...   \n",
       "2       NaN  http://www.properati.com.ar/15bod_venta_depart...   \n",
       "3       NaN  http://www.properati.com.ar/15boh_venta_ph_lin...   \n",
       "4       NaN  http://www.properati.com.ar/15bok_venta_depart...   \n",
       "5       NaN  http://www.properati.com.ar/15bop_venta_depart...   \n",
       "6       NaN  http://www.properati.com.ar/15bor_venta_ph_mun...   \n",
       "7       NaN  http://www.properati.com.ar/15bot_venta_depart...   \n",
       "8       NaN  http://www.properati.com.ar/15bou_venta_depart...   \n",
       "9       NaN  http://www.properati.com.ar/15box_venta_casa_r...   \n",
       "\n",
       "                                         description  \\\n",
       "0  2 AMBIENTES TIPO CASA PLANTA BAJA POR PASILLO,...   \n",
       "1  Venta de departamento en décimo piso al frente...   \n",
       "2  2 AMBIENTES 3ER PISO LATERAL LIVING COMEDOR AM...   \n",
       "3  PH 3 ambientes con patio. Hay 3 deptos en lote...   \n",
       "4  DEPARTAMENTO CON FANTÁSTICA ILUMINACIÓN NATURA...   \n",
       "5  Casa en el perímetro del barrio 338, ubicada e...   \n",
       "6  MUY BUEN PH AL FRENTE CON ENTRADA INDEPENDIENT...   \n",
       "7  EXCELENTE MONOAMBIENTE A ESTRENAR AMPLIO SUPER...   \n",
       "8  EXCELENTE DOS AMBIENTES  ESTRENAR AMPLIO SUPER...   \n",
       "9  MEDNOZA AL 7600A UNA CUADRA DE CALLE MENDOZAWH...   \n",
       "\n",
       "                                               title  \\\n",
       "0                 2 AMB TIPO CASA SIN EXPENSAS EN PB   \n",
       "1  VENTA Depto 2 dorm. a estrenar 7 e/ 36 y 37   ...   \n",
       "2           2 AMB 3ER PISO CON ASCENSOR APTO CREDITO   \n",
       "3                       PH 3 amb. cfte. reciclado      \n",
       "4  DEPTO 2 AMB AL CONTRAFRENTE ZONA CENTRO/PLAZA ...   \n",
       "5  Casa Barrio 338. Sobre calle 3 de caballería, ...   \n",
       "6  MUY BUEN PH AL FRENTE DOS DORMITORIOS , PATIO,...   \n",
       "7  JOSE HERNANDEZ 1400 MONOAMBIENTE  ESTRENAR CAT...   \n",
       "8  JOSE HERNANDEZ   1400 DOS AMBIENTES ESTRENAR ,...   \n",
       "9         WHITE 7637 - 2 DORMITORIOS CON PATIO         \n",
       "\n",
       "                                     image_thumbnail  \\\n",
       "0  https://thumbs4.properati.com/8/BluUYiHJLhgIIK...   \n",
       "1  https://thumbs4.properati.com/7/ikpVBu2ztHA7jv...   \n",
       "2  https://thumbs4.properati.com/5/SXKr34F_IwG3W_...   \n",
       "3  https://thumbs4.properati.com/3/DgIfX-85Mog5SP...   \n",
       "4  https://thumbs4.properati.com/5/xrRqlNcSI_vs-f...   \n",
       "5  https://thumbs4.properati.com/6/q-w68gvaUEQVXI...   \n",
       "6  https://thumbs4.properati.com/5/6GOXsHCyDu1aGx...   \n",
       "7  https://thumbs4.properati.com/1/IHxARynlr8sPEW...   \n",
       "8  https://thumbs4.properati.com/2/J3zOjgaFHrkvnv...   \n",
       "9  https://thumbs4.properati.com/8/RCf1YEWdF4rv98...   \n",
       "\n",
       "                  centro_urbano  \n",
       "0               Capital Federal  \n",
       "1        Bs.As. G.B.A. Zona Sur  \n",
       "2               Capital Federal  \n",
       "3               Capital Federal  \n",
       "4  Buenos Aires Costa Atlántica  \n",
       "5                Resto del pais  \n",
       "6      Bs.As. G.B.A. Zona Norte  \n",
       "7               Capital Federal  \n",
       "8               Capital Federal  \n",
       "9                      Santa Fe  \n",
       "\n",
       "[10 rows x 26 columns]"
      ]
     },
     "execution_count": 64,
     "metadata": {},
     "output_type": "execute_result"
    }
   ],
   "source": [
    "#Creamos nueva columna en el DF original donde incluimos los agrupamientos por centro urbano\n",
    "properati_df['centro_urbano'] = properati_df_replacement['state_name']\n",
    "properati_df.head(10)"
   ]
  },
  {
   "cell_type": "code",
   "execution_count": 65,
   "metadata": {},
   "outputs": [
    {
     "data": {
      "text/plain": [
       "centro_urbano                 property_type\n",
       "Bs.As. G.B.A. Zona Norte      PH               1451.712566\n",
       "                              apartment        2539.871735\n",
       "                              house            1339.764409\n",
       "                              store            1862.009755\n",
       "Bs.As. G.B.A. Zona Oeste      PH               1224.018825\n",
       "                              apartment        1720.754481\n",
       "                              house            1081.629587\n",
       "                              store            1556.947316\n",
       "Bs.As. G.B.A. Zona Sur        PH               1114.012013\n",
       "                              apartment        1889.978782\n",
       "                              house            1164.503788\n",
       "                              store            1541.024184\n",
       "Buenos Aires Costa Atlántica  PH               1156.454370\n",
       "                              apartment        1958.838430\n",
       "                              house             749.149782\n",
       "                              store            1401.045662\n",
       "Buenos Aires Interior         PH               1019.888682\n",
       "                              apartment        1633.999387\n",
       "                              house             643.236465\n",
       "                              store             987.670901\n",
       "Capital Federal               PH               1695.517729\n",
       "                              apartment        3324.464870\n",
       "                              house            1546.701574\n",
       "                              store            2899.667204\n",
       "Córdoba                       PH               1544.048178\n",
       "                              apartment        1426.524689\n",
       "                              house             713.335035\n",
       "                              store            1458.775597\n",
       "Mendoza                       PH               1113.716814\n",
       "                              apartment        1966.691498\n",
       "                              house            1347.909268\n",
       "                              store            1361.578717\n",
       "Resto del pais                PH               2000.542092\n",
       "                              apartment        1847.929072\n",
       "                              house            1215.144246\n",
       "                              store            1270.007640\n",
       "Santa Fe                      PH               1207.188748\n",
       "                              apartment        2391.993013\n",
       "                              house             990.905762\n",
       "                              store            3002.901146\n",
       "dtype: float64"
      ]
     },
     "metadata": {},
     "output_type": "display_data"
    }
   ],
   "source": [
    "#Agrupamos por centro urbano y tipo de propiedad para saber precio de m2 promedio.\n",
    "precio_m2_centro_urbano = properati_df.groupby(['centro_urbano','property_type']).apply(lambda x: x['price_usd_per_m2'].mean())\n",
    "display(precio_m2_centro_urbano)\n"
   ]
  },
  {
   "cell_type": "code",
   "execution_count": 66,
   "metadata": {},
   "outputs": [
    {
     "name": "stdout",
     "output_type": "stream",
     "text": [
      "1803.7028985507247\n",
      "2300.0\n",
      "2922.0779220779223\n",
      "4599.640457368719\n",
      "126.14036325992834\n"
     ]
    }
   ],
   "source": [
    "#Buscamos outliers en Bs As Norte (precio por m2) agrupado por tipo de propiedad.\n",
    "mask_bsas_norte = properati_df['centro_urbano'] == 'Bs.As. G.B.A. Zona Norte'\n",
    "data_bsas_norte = properati_df.loc[mask_bsas_norte,:]\n",
    "data_bsas_norte\n",
    "mask_type_ph = properati_df['property_type'] == 'PH'\n",
    "mask_type_house = properati_df['property_type'] == 'house'\n",
    "mask_type_store = properati_df['property_type'] == 'store'\n",
    "data_bsas_norte_apartment = data_bsas_norte.loc[mask_type_apartment,:]\n",
    "data_bsas_norte_ph = data_bsas_norte.loc[mask_type_ph,:]\n",
    "data_bsas_norte_house = data_bsas_norte.loc[mask_type_house,:]\n",
    "data_bsas_norte_store = data_bsas_norte.loc[mask_type_store,:]\n",
    "\n",
    "#Empezamos con apartment\n",
    "\n",
    "data_price_m2_apartment_bsas_norte = data_bsas_norte_apartment['price_usd_per_m2']\n",
    "q1m2banorte = data_price_m2_apartment_bsas_norte.quantile(0.25)\n",
    "print(q1m2banorte)\n",
    "q2m2banorte = data_price_m2_apartment_bsas_norte.quantile(0.50)\n",
    "print(q2m2banorte)\n",
    "q3m2banorte = data_price_m2_apartment_bsas_norte.quantile(0.75)\n",
    "print(q3m2banorte)\n",
    "\n",
    "#Rango intercuartil\n",
    "\n",
    "iqrm2banorte = (q3m2banorte - q1m2banorte) * 1.5\n",
    "\n",
    "up_threshold_m2banorte = q3m2banorte + iqrm2banorte\n",
    "low_threshold_m2banorte = q1m2banorte - iqrm2banorte\n",
    "\n",
    "print(up_threshold_m2banorte)\n",
    "\n",
    "print(low_threshold_m2banorte)"
   ]
  },
  {
   "cell_type": "code",
   "execution_count": 67,
   "metadata": {},
   "outputs": [
    {
     "data": {
      "text/plain": [
       "count     7343.000000\n",
       "mean      2539.871735\n",
       "std       2387.647600\n",
       "min         29.906933\n",
       "25%       1803.702899\n",
       "50%       2300.000000\n",
       "75%       2922.077922\n",
       "max      48296.222222\n",
       "Name: price_usd_per_m2, dtype: float64"
      ]
     },
     "execution_count": 67,
     "metadata": {},
     "output_type": "execute_result"
    }
   ],
   "source": [
    "data_price_m2_apartment_bsas_norte.describe()"
   ]
  },
  {
   "cell_type": "code",
   "execution_count": 68,
   "metadata": {},
   "outputs": [
    {
     "data": {
      "image/png": "[encoded data removed]",
      "text/plain": [
       "<Figure size 432x288 with 1 Axes>"
      ]
     },
     "metadata": {
      "needs_background": "light"
     },
     "output_type": "display_data"
    }
   ],
   "source": [
    "#Box plot Bs As Norte Apartment (Precio m2)\n",
    "sns.boxplot(x=data_price_m2_apartment_bsas_norte.values);"
   ]
  },
  {
   "cell_type": "code",
   "execution_count": 69,
   "metadata": {},
   "outputs": [
    {
     "data": {
      "text/plain": [
       "571       5782.312925\n",
       "610       8130.000000\n",
       "628       5681.818182\n",
       "1138      5612.244898\n",
       "4378      4647.058824\n",
       "             ...     \n",
       "116547    5188.679245\n",
       "116631    5068.493151\n",
       "116632    4743.589744\n",
       "116654    4615.384615\n",
       "116658    4974.093264\n",
       "Name: price_usd_per_m2, Length: 169, dtype: float64"
      ]
     },
     "execution_count": 69,
     "metadata": {},
     "output_type": "execute_result"
    }
   ],
   "source": [
    "#Máscaras para filtrar outliers\n",
    "mask_up_m2banorte = data_price_m2_apartment_bsas_norte > up_threshold_m2banorte\n",
    "mask_down_m2banorte = data_price_m2_apartment_bsas_norte < low_threshold_m2banorte\n",
    "outlier_mask_m2banorte = np.logical_or(mask_up_m2banorte, mask_down_m2banorte)\n",
    "not_outliers_m2banorte = np.logical_not(outlier_mask_m2banorte)\n",
    "\n",
    "outliers_price_m2banorte = data_price_m2_apartment_bsas_norte[outlier_mask_m2banorte]\n",
    "outliers_price_m2banorte"
   ]
  },
  {
   "cell_type": "code",
   "execution_count": 70,
   "metadata": {},
   "outputs": [
    {
     "data": {
      "text/plain": [
       "count    7174.000000\n",
       "mean     2358.056318\n",
       "std       784.568623\n",
       "min       148.500000\n",
       "25%      1797.385669\n",
       "50%      2276.923077\n",
       "75%      2887.323113\n",
       "max      4596.774194\n",
       "Name: price_usd_per_m2, dtype: float64"
      ]
     },
     "execution_count": 70,
     "metadata": {},
     "output_type": "execute_result"
    }
   ],
   "source": [
    "#Parámetros sin outliers\n",
    "data_price_m2_apartment_bsas_norte_filtered = data_price_m2_apartment_bsas_norte[not_outliers_m2banorte]\n",
    "data_price_m2_apartment_bsas_norte_filtered.describe()"
   ]
  },
  {
   "cell_type": "code",
   "execution_count": 71,
   "metadata": {},
   "outputs": [
    {
     "ename": "AttributeError",
     "evalue": "'float' object has no attribute 'round'",
     "output_type": "error",
     "traceback": [
      "\u001b[1;31m---------------------------------------------------------------------------\u001b[0m",
      "\u001b[1;31mAttributeError\u001b[0m                            Traceback (most recent call last)",
      "\u001b[1;32m<ipython-input-71-65436be3619c>\u001b[0m in \u001b[0;36m<module>\u001b[1;34m\u001b[0m\n\u001b[1;32m----> 1\u001b[1;33m \u001b[0mmean_price_m2_banorte_apartment\u001b[0m \u001b[1;33m=\u001b[0m \u001b[0mdata_price_m2_apartment_bsas_norte_filtered\u001b[0m\u001b[1;33m.\u001b[0m\u001b[0mmean\u001b[0m\u001b[1;33m(\u001b[0m\u001b[1;33m)\u001b[0m\u001b[1;33m.\u001b[0m\u001b[0mround\u001b[0m\u001b[1;33m(\u001b[0m\u001b[1;36m2\u001b[0m\u001b[1;33m)\u001b[0m\u001b[1;33m\u001b[0m\u001b[1;33m\u001b[0m\u001b[0m\n\u001b[0m\u001b[0;32m      2\u001b[0m \u001b[0mmean_price_m2_banorte_apartment\u001b[0m\u001b[1;33m\u001b[0m\u001b[1;33m\u001b[0m\u001b[0m\n",
      "\u001b[1;31mAttributeError\u001b[0m: 'float' object has no attribute 'round'"
     ]
    }
   ],
   "source": [
    "mean_price_m2_banorte_apartment = data_price_m2_apartment_bsas_norte_filtered.mean().round(2)\n",
    "mean_price_m2_banorte_apartment"
   ]
  },
  {
   "cell_type": "code",
   "execution_count": null,
   "metadata": {},
   "outputs": [],
   "source": [
    "#Box plot Bs As Norte Apartment (Precio m2) sin outliers\n",
    "sns.boxplot(x=data_price_m2_apartment_bsas_norte_filtered.values);"
   ]
  },
  {
   "cell_type": "code",
   "execution_count": null,
   "metadata": {},
   "outputs": [],
   "source": [
    "#Completamos los NaN de precio por m2 de Bs As zona norte tipo apartment\n",
    "data_price_m2_apartment_bsas_norte_filled = data_price_m2_apartment_bsas_norte.fillna(mean_price_m2_banorte_apartment)a"
   ]
  },
  {
   "cell_type": "code",
   "execution_count": null,
   "metadata": {},
   "outputs": [],
   "source": [
    "properati_df.head(3)"
   ]
  },
  {
   "cell_type": "code",
   "execution_count": null,
   "metadata": {},
   "outputs": [],
   "source": [
    "properati_df.currency.value_counts(dropna = False)"
   ]
  },
  {
   "cell_type": "code",
   "execution_count": null,
   "metadata": {},
   "outputs": [],
   "source": []
  },
  {
   "cell_type": "code",
   "execution_count": null,
   "metadata": {},
   "outputs": [],
   "source": [
    "properati_df.columns"
   ]
  },
  {
   "cell_type": "code",
   "execution_count": 72,
   "metadata": {},
   "outputs": [
    {
     "data": {
      "text/plain": [
       "NaN            33560\n",
       "2000.000000      890\n",
       "1500.000000      656\n",
       "1000.000000      650\n",
       "2500.000000      594\n",
       "               ...  \n",
       "3554.054054        1\n",
       "3586.274510        1\n",
       "2693.478261        1\n",
       "753.362761         1\n",
       "3353.336757        1\n",
       "Name: precio_m2_usd_cubierta, Length: 26735, dtype: int64"
      ]
     },
     "execution_count": 72,
     "metadata": {},
     "output_type": "execute_result"
    }
   ],
   "source": [
    "### ANALISIS DE VALORES NaN DE USD POR M2\n",
    "\n",
    "# Generamos una nueva columna paa calcular el precio por m2 utilizando superficie cubierta:\n",
    "properati_df['precio_m2_usd_cubierta'] = properati_df['price_aprox_usd']/properati_df['surface_covered_in_m2']\n",
    "properati_df['precio_m2_usd_cubierta'].value_counts(dropna = False)\n",
    "# Tiene 33560 valores NaN"
   ]
  },
  {
   "cell_type": "code",
   "execution_count": 73,
   "metadata": {},
   "outputs": [
    {
     "data": {
      "text/plain": [
       "33560"
      ]
     },
     "execution_count": 73,
     "metadata": {},
     "output_type": "execute_result"
    }
   ],
   "source": [
    "# Generamos una mascara para comparar los nuevos valores \"precio_m2_usd_cubierta\" y \"price_usd_per_m2\":\n",
    "# Máscara con valores nulos de la variable precio_m2_usd_cubierta:\n",
    "mask_m2_cubierta_nan = properati_df.precio_m2_usd_cubierta.isnull()\n",
    "mask_m2_cubierta_nan.sum()"
   ]
  },
  {
   "cell_type": "code",
   "execution_count": 74,
   "metadata": {},
   "outputs": [
    {
     "name": "stdout",
     "output_type": "stream",
     "text": [
      "(33560, 8)\n"
     ]
    },
    {
     "data": {
      "text/html": [
       "<div>\n",
       "<style scoped>\n",
       "    .dataframe tbody tr th:only-of-type {\n",
       "        vertical-align: middle;\n",
       "    }\n",
       "\n",
       "    .dataframe tbody tr th {\n",
       "        vertical-align: top;\n",
       "    }\n",
       "\n",
       "    .dataframe thead th {\n",
       "        text-align: right;\n",
       "    }\n",
       "</style>\n",
       "<table border=\"1\" class=\"dataframe\">\n",
       "  <thead>\n",
       "    <tr style=\"text-align: right;\">\n",
       "      <th></th>\n",
       "      <th>currency</th>\n",
       "      <th>price</th>\n",
       "      <th>price_aprox_local_currency</th>\n",
       "      <th>price_aprox_usd</th>\n",
       "      <th>price_usd_per_m2</th>\n",
       "      <th>price_per_m2</th>\n",
       "      <th>precio_m2_usd_cubierta</th>\n",
       "      <th>surface_covered_in_m2</th>\n",
       "    </tr>\n",
       "  </thead>\n",
       "  <tbody>\n",
       "    <tr>\n",
       "      <th>121205</th>\n",
       "      <td>ARS</td>\n",
       "      <td>1507000.0</td>\n",
       "      <td>1491279.61</td>\n",
       "      <td>84518.1</td>\n",
       "      <td>1690.362000</td>\n",
       "      <td>NaN</td>\n",
       "      <td>NaN</td>\n",
       "      <td>NaN</td>\n",
       "    </tr>\n",
       "    <tr>\n",
       "      <th>121206</th>\n",
       "      <td>ARS</td>\n",
       "      <td>1507000.0</td>\n",
       "      <td>1491279.61</td>\n",
       "      <td>84518.1</td>\n",
       "      <td>1690.362000</td>\n",
       "      <td>NaN</td>\n",
       "      <td>NaN</td>\n",
       "      <td>NaN</td>\n",
       "    </tr>\n",
       "    <tr>\n",
       "      <th>121207</th>\n",
       "      <td>NaN</td>\n",
       "      <td>NaN</td>\n",
       "      <td>NaN</td>\n",
       "      <td>NaN</td>\n",
       "      <td>NaN</td>\n",
       "      <td>NaN</td>\n",
       "      <td>NaN</td>\n",
       "      <td>178.0</td>\n",
       "    </tr>\n",
       "    <tr>\n",
       "      <th>121208</th>\n",
       "      <td>NaN</td>\n",
       "      <td>NaN</td>\n",
       "      <td>NaN</td>\n",
       "      <td>NaN</td>\n",
       "      <td>NaN</td>\n",
       "      <td>NaN</td>\n",
       "      <td>NaN</td>\n",
       "      <td>178.0</td>\n",
       "    </tr>\n",
       "    <tr>\n",
       "      <th>121209</th>\n",
       "      <td>USD</td>\n",
       "      <td>410000.0</td>\n",
       "      <td>7234245.00</td>\n",
       "      <td>410000.0</td>\n",
       "      <td>2611.464968</td>\n",
       "      <td>NaN</td>\n",
       "      <td>NaN</td>\n",
       "      <td>NaN</td>\n",
       "    </tr>\n",
       "    <tr>\n",
       "      <th>121210</th>\n",
       "      <td>NaN</td>\n",
       "      <td>NaN</td>\n",
       "      <td>NaN</td>\n",
       "      <td>NaN</td>\n",
       "      <td>NaN</td>\n",
       "      <td>NaN</td>\n",
       "      <td>NaN</td>\n",
       "      <td>120.0</td>\n",
       "    </tr>\n",
       "    <tr>\n",
       "      <th>121211</th>\n",
       "      <td>NaN</td>\n",
       "      <td>NaN</td>\n",
       "      <td>NaN</td>\n",
       "      <td>NaN</td>\n",
       "      <td>NaN</td>\n",
       "      <td>NaN</td>\n",
       "      <td>NaN</td>\n",
       "      <td>205.0</td>\n",
       "    </tr>\n",
       "    <tr>\n",
       "      <th>121212</th>\n",
       "      <td>NaN</td>\n",
       "      <td>NaN</td>\n",
       "      <td>NaN</td>\n",
       "      <td>NaN</td>\n",
       "      <td>NaN</td>\n",
       "      <td>NaN</td>\n",
       "      <td>NaN</td>\n",
       "      <td>420.0</td>\n",
       "    </tr>\n",
       "    <tr>\n",
       "      <th>121213</th>\n",
       "      <td>NaN</td>\n",
       "      <td>NaN</td>\n",
       "      <td>NaN</td>\n",
       "      <td>NaN</td>\n",
       "      <td>NaN</td>\n",
       "      <td>NaN</td>\n",
       "      <td>NaN</td>\n",
       "      <td>600.0</td>\n",
       "    </tr>\n",
       "    <tr>\n",
       "      <th>121214</th>\n",
       "      <td>NaN</td>\n",
       "      <td>NaN</td>\n",
       "      <td>NaN</td>\n",
       "      <td>NaN</td>\n",
       "      <td>NaN</td>\n",
       "      <td>NaN</td>\n",
       "      <td>NaN</td>\n",
       "      <td>123.0</td>\n",
       "    </tr>\n",
       "  </tbody>\n",
       "</table>\n",
       "</div>"
      ],
      "text/plain": [
       "       currency      price  price_aprox_local_currency  price_aprox_usd  \\\n",
       "121205      ARS  1507000.0                  1491279.61          84518.1   \n",
       "121206      ARS  1507000.0                  1491279.61          84518.1   \n",
       "121207      NaN        NaN                         NaN              NaN   \n",
       "121208      NaN        NaN                         NaN              NaN   \n",
       "121209      USD   410000.0                  7234245.00         410000.0   \n",
       "121210      NaN        NaN                         NaN              NaN   \n",
       "121211      NaN        NaN                         NaN              NaN   \n",
       "121212      NaN        NaN                         NaN              NaN   \n",
       "121213      NaN        NaN                         NaN              NaN   \n",
       "121214      NaN        NaN                         NaN              NaN   \n",
       "\n",
       "        price_usd_per_m2  price_per_m2  precio_m2_usd_cubierta  \\\n",
       "121205       1690.362000           NaN                     NaN   \n",
       "121206       1690.362000           NaN                     NaN   \n",
       "121207               NaN           NaN                     NaN   \n",
       "121208               NaN           NaN                     NaN   \n",
       "121209       2611.464968           NaN                     NaN   \n",
       "121210               NaN           NaN                     NaN   \n",
       "121211               NaN           NaN                     NaN   \n",
       "121212               NaN           NaN                     NaN   \n",
       "121213               NaN           NaN                     NaN   \n",
       "121214               NaN           NaN                     NaN   \n",
       "\n",
       "        surface_covered_in_m2  \n",
       "121205                    NaN  \n",
       "121206                    NaN  \n",
       "121207                  178.0  \n",
       "121208                  178.0  \n",
       "121209                    NaN  \n",
       "121210                  120.0  \n",
       "121211                  205.0  \n",
       "121212                  420.0  \n",
       "121213                  600.0  \n",
       "121214                  123.0  "
      ]
     },
     "execution_count": 74,
     "metadata": {},
     "output_type": "execute_result"
    }
   ],
   "source": [
    "# Al utilizar la mascara, verificamos que la columna \"price_usd_per_m2\" tiene algunos valores que quizás podriamos imputarlos en nuestra nueva variable \"precio_m2_usd_cubierta\":\n",
    "precios_y_m2 = properati_df[['currency','price','price_aprox_local_currency','price_aprox_usd', 'price_usd_per_m2', 'price_per_m2', 'precio_m2_usd_cubierta', 'surface_covered_in_m2']]\n",
    "verificar = precios_y_m2[mask_m2_cubierta_nan]\n",
    "print(verificar.shape)\n",
    "verificar.tail(10)"
   ]
  },
  {
   "cell_type": "code",
   "execution_count": 75,
   "metadata": {},
   "outputs": [
    {
     "data": {
      "text/html": [
       "<div>\n",
       "<style scoped>\n",
       "    .dataframe tbody tr th:only-of-type {\n",
       "        vertical-align: middle;\n",
       "    }\n",
       "\n",
       "    .dataframe tbody tr th {\n",
       "        vertical-align: top;\n",
       "    }\n",
       "\n",
       "    .dataframe thead th {\n",
       "        text-align: right;\n",
       "    }\n",
       "</style>\n",
       "<table border=\"1\" class=\"dataframe\">\n",
       "  <thead>\n",
       "    <tr style=\"text-align: right;\">\n",
       "      <th></th>\n",
       "      <th>price_usd_per_m2</th>\n",
       "      <th>precio_m2_usd_cubierta</th>\n",
       "    </tr>\n",
       "  </thead>\n",
       "  <tbody>\n",
       "    <tr>\n",
       "      <th>10</th>\n",
       "      <td>46.235139</td>\n",
       "      <td>NaN</td>\n",
       "    </tr>\n",
       "    <tr>\n",
       "      <th>15</th>\n",
       "      <td>1524.390244</td>\n",
       "      <td>NaN</td>\n",
       "    </tr>\n",
       "    <tr>\n",
       "      <th>66</th>\n",
       "      <td>1918.421053</td>\n",
       "      <td>NaN</td>\n",
       "    </tr>\n",
       "    <tr>\n",
       "      <th>142</th>\n",
       "      <td>236.842105</td>\n",
       "      <td>NaN</td>\n",
       "    </tr>\n",
       "    <tr>\n",
       "      <th>168</th>\n",
       "      <td>719.021487</td>\n",
       "      <td>NaN</td>\n",
       "    </tr>\n",
       "    <tr>\n",
       "      <th>...</th>\n",
       "      <td>...</td>\n",
       "      <td>...</td>\n",
       "    </tr>\n",
       "    <tr>\n",
       "      <th>121203</th>\n",
       "      <td>1684.753600</td>\n",
       "      <td>NaN</td>\n",
       "    </tr>\n",
       "    <tr>\n",
       "      <th>121204</th>\n",
       "      <td>1684.753600</td>\n",
       "      <td>NaN</td>\n",
       "    </tr>\n",
       "    <tr>\n",
       "      <th>121205</th>\n",
       "      <td>1690.362000</td>\n",
       "      <td>NaN</td>\n",
       "    </tr>\n",
       "    <tr>\n",
       "      <th>121206</th>\n",
       "      <td>1690.362000</td>\n",
       "      <td>NaN</td>\n",
       "    </tr>\n",
       "    <tr>\n",
       "      <th>121209</th>\n",
       "      <td>2611.464968</td>\n",
       "      <td>NaN</td>\n",
       "    </tr>\n",
       "  </tbody>\n",
       "</table>\n",
       "<p>5265 rows × 2 columns</p>\n",
       "</div>"
      ],
      "text/plain": [
       "        price_usd_per_m2  precio_m2_usd_cubierta\n",
       "10             46.235139                     NaN\n",
       "15           1524.390244                     NaN\n",
       "66           1918.421053                     NaN\n",
       "142           236.842105                     NaN\n",
       "168           719.021487                     NaN\n",
       "...                  ...                     ...\n",
       "121203       1684.753600                     NaN\n",
       "121204       1684.753600                     NaN\n",
       "121205       1690.362000                     NaN\n",
       "121206       1690.362000                     NaN\n",
       "121209       2611.464968                     NaN\n",
       "\n",
       "[5265 rows x 2 columns]"
      ]
     },
     "execution_count": 75,
     "metadata": {},
     "output_type": "execute_result"
    }
   ],
   "source": [
    "mask = verificar['price_usd_per_m2'].notnull()\n",
    "verificar[mask][['price_usd_per_m2', 'precio_m2_usd_cubierta']]\n",
    "# Hay 5265 valores en \"price_usd_per_m2\" que no estan en \"precio_m2_usd_cubierta\""
   ]
  },
  {
   "cell_type": "code",
   "execution_count": 76,
   "metadata": {},
   "outputs": [
    {
     "data": {
      "text/plain": [
       "NaN             28295\n",
       "2000.000000       956\n",
       "1500.000000       699\n",
       "1000.000000       698\n",
       "2500.000000       637\n",
       "                ...  \n",
       "5582.524272         1\n",
       "2635.932000         1\n",
       "1690.922750         1\n",
       "24755.533333        1\n",
       "1378.542703         1\n",
       "Name: precio_m2_usd_cubierta_nuevo, Length: 28678, dtype: int64"
      ]
     },
     "execution_count": 76,
     "metadata": {},
     "output_type": "execute_result"
    }
   ],
   "source": [
    "# Rellenamos los NaN de \"precio_m2_usd_cubierta\" con los valores de \"price_usd_per_m2\" y generamos nueva columna:\n",
    "usd_m2_fillna = properati_df.precio_m2_usd_cubierta.fillna(properati_df.price_usd_per_m2)\n",
    "properati_df['precio_m2_usd_cubierta_nuevo'] = usd_m2_fillna\n",
    "properati_df.precio_m2_usd_cubierta_nuevo.value_counts(dropna = False)\n",
    "# Obtuvimos una nueva columna con 28295 NaN"
   ]
  },
  {
   "cell_type": "code",
   "execution_count": 77,
   "metadata": {},
   "outputs": [
    {
     "name": "stdout",
     "output_type": "stream",
     "text": [
      "0.00        77230\n",
      "28317.49       77\n",
      "23597.91       73\n",
      "18878.33       58\n",
      "9439.16        35\n",
      "            ...  \n",
      "2327.46         1\n",
      "10058.12        1\n",
      "37557.93        1\n",
      "58134.84        1\n",
      "38206.22        1\n",
      "Length: 6204, dtype: int64\n",
      " 0.00      20493\n",
      "-166.67       59\n",
      "-400.00       55\n",
      "-200.00       53\n",
      "-333.33       51\n",
      "           ...  \n",
      "-117.91        1\n",
      "-778.07        1\n",
      "-468.36        1\n",
      "-204.86        1\n",
      "-407.85        1\n",
      "Length: 26934, dtype: int64\n",
      "False\n",
      "False\n"
     ]
    }
   ],
   "source": [
    "# Vamos a corroborar si es posible verificar el origen de los valores de las columnas de precio, para confirmar si estamos imputando valores faltantes de forma correcta:\n",
    "# Restamos las columnas de precio de la nueva columna:\n",
    "comparacion1 = (properati_df.price_per_m2 - properati_df.precio_m2_usd_cubierta).round(2)\n",
    "print(comparacion1.value_counts())\n",
    "\n",
    "comparacion2 = (properati_df.price_usd_per_m2 - properati_df.precio_m2_usd_cubierta).round(2)\n",
    "print(comparacion2.value_counts())\n",
    "\n",
    "print(comparacion1.dropna() is properati_df.precio_m2_usd_cubierta.dropna())\n",
    "print(comparacion2.dropna() is properati_df.precio_m2_usd_cubierta.dropna())\n",
    "# Las columnas no son iguales, concluimos que no es correcto imputar valores de la columna \"price_usd_per_m2\" para completar valores faltantes de nuestra nueva columna."
   ]
  },
  {
   "cell_type": "code",
   "execution_count": 78,
   "metadata": {},
   "outputs": [
    {
     "data": {
      "text/html": [
       "<div>\n",
       "<style scoped>\n",
       "    .dataframe tbody tr th:only-of-type {\n",
       "        vertical-align: middle;\n",
       "    }\n",
       "\n",
       "    .dataframe tbody tr th {\n",
       "        vertical-align: top;\n",
       "    }\n",
       "\n",
       "    .dataframe thead th {\n",
       "        text-align: right;\n",
       "    }\n",
       "</style>\n",
       "<table border=\"1\" class=\"dataframe\">\n",
       "  <thead>\n",
       "    <tr style=\"text-align: right;\">\n",
       "      <th></th>\n",
       "      <th>price_per_m2</th>\n",
       "      <th>precio_m2_usd_cubierta</th>\n",
       "    </tr>\n",
       "  </thead>\n",
       "  <tbody>\n",
       "    <tr>\n",
       "      <th>47629</th>\n",
       "      <td>3840.579710</td>\n",
       "      <td>3840.579710</td>\n",
       "    </tr>\n",
       "    <tr>\n",
       "      <th>81463</th>\n",
       "      <td>1233.333333</td>\n",
       "      <td>1233.333333</td>\n",
       "    </tr>\n",
       "    <tr>\n",
       "      <th>66253</th>\n",
       "      <td>NaN</td>\n",
       "      <td>NaN</td>\n",
       "    </tr>\n",
       "    <tr>\n",
       "      <th>42838</th>\n",
       "      <td>1942.857143</td>\n",
       "      <td>1942.857143</td>\n",
       "    </tr>\n",
       "    <tr>\n",
       "      <th>21766</th>\n",
       "      <td>2192.982456</td>\n",
       "      <td>2192.982456</td>\n",
       "    </tr>\n",
       "    <tr>\n",
       "      <th>86068</th>\n",
       "      <td>NaN</td>\n",
       "      <td>NaN</td>\n",
       "    </tr>\n",
       "    <tr>\n",
       "      <th>26399</th>\n",
       "      <td>1333.333333</td>\n",
       "      <td>1333.333333</td>\n",
       "    </tr>\n",
       "    <tr>\n",
       "      <th>3985</th>\n",
       "      <td>NaN</td>\n",
       "      <td>NaN</td>\n",
       "    </tr>\n",
       "    <tr>\n",
       "      <th>84884</th>\n",
       "      <td>NaN</td>\n",
       "      <td>NaN</td>\n",
       "    </tr>\n",
       "    <tr>\n",
       "      <th>94938</th>\n",
       "      <td>1512.345679</td>\n",
       "      <td>1512.345679</td>\n",
       "    </tr>\n",
       "  </tbody>\n",
       "</table>\n",
       "</div>"
      ],
      "text/plain": [
       "       price_per_m2  precio_m2_usd_cubierta\n",
       "47629   3840.579710             3840.579710\n",
       "81463   1233.333333             1233.333333\n",
       "66253           NaN                     NaN\n",
       "42838   1942.857143             1942.857143\n",
       "21766   2192.982456             2192.982456\n",
       "86068           NaN                     NaN\n",
       "26399   1333.333333             1333.333333\n",
       "3985            NaN                     NaN\n",
       "84884           NaN                     NaN\n",
       "94938   1512.345679             1512.345679"
      ]
     },
     "execution_count": 78,
     "metadata": {},
     "output_type": "execute_result"
    }
   ],
   "source": [
    "# Visualización para verificar las diferencias de valores existentes entre las columnas 'price_per_m2' y 'precio_m2_usd_cubierta':\n",
    "properati_df[['price_per_m2', 'precio_m2_usd_cubierta']].sample(10)"
   ]
  },
  {
   "cell_type": "code",
   "execution_count": 79,
   "metadata": {},
   "outputs": [
    {
     "data": {
      "text/plain": [
       "NaN            52354\n",
       "2000.000000      574\n",
       "2500.000000      447\n",
       "1000.000000      397\n",
       "1500.000000      391\n",
       "               ...  \n",
       "2552.750000        1\n",
       "2313.204366        1\n",
       "2216.279710        1\n",
       "1966.292135        1\n",
       "1152.173913        1\n",
       "Name: precio_m2_usd_total, Length: 25576, dtype: int64"
      ]
     },
     "execution_count": 79,
     "metadata": {},
     "output_type": "execute_result"
    }
   ],
   "source": [
    "# Generamos una nueva columna de precio por m2 pero utilizando la variable de superficie total:\n",
    "properati_df['precio_m2_usd_total'] = properati_df['price_aprox_usd']/properati_df['surface_total_in_m2']\n",
    "properati_df['precio_m2_usd_total'].value_counts(dropna = False)\n",
    "# Tiene 52354 valores NaN"
   ]
  },
  {
   "cell_type": "code",
   "execution_count": 80,
   "metadata": {},
   "outputs": [
    {
     "data": {
      "text/html": [
       "<div>\n",
       "<style scoped>\n",
       "    .dataframe tbody tr th:only-of-type {\n",
       "        vertical-align: middle;\n",
       "    }\n",
       "\n",
       "    .dataframe tbody tr th {\n",
       "        vertical-align: top;\n",
       "    }\n",
       "\n",
       "    .dataframe thead th {\n",
       "        text-align: right;\n",
       "    }\n",
       "</style>\n",
       "<table border=\"1\" class=\"dataframe\">\n",
       "  <thead>\n",
       "    <tr style=\"text-align: right;\">\n",
       "      <th></th>\n",
       "      <th>precio_m2_usd_total</th>\n",
       "    </tr>\n",
       "  </thead>\n",
       "  <tbody>\n",
       "    <tr>\n",
       "      <th>50355</th>\n",
       "      <td>inf</td>\n",
       "    </tr>\n",
       "    <tr>\n",
       "      <th>32479</th>\n",
       "      <td>inf</td>\n",
       "    </tr>\n",
       "    <tr>\n",
       "      <th>46161</th>\n",
       "      <td>inf</td>\n",
       "    </tr>\n",
       "    <tr>\n",
       "      <th>59973</th>\n",
       "      <td>inf</td>\n",
       "    </tr>\n",
       "    <tr>\n",
       "      <th>59974</th>\n",
       "      <td>inf</td>\n",
       "    </tr>\n",
       "    <tr>\n",
       "      <th>...</th>\n",
       "      <td>...</td>\n",
       "    </tr>\n",
       "    <tr>\n",
       "      <th>121210</th>\n",
       "      <td>NaN</td>\n",
       "    </tr>\n",
       "    <tr>\n",
       "      <th>121211</th>\n",
       "      <td>NaN</td>\n",
       "    </tr>\n",
       "    <tr>\n",
       "      <th>121212</th>\n",
       "      <td>NaN</td>\n",
       "    </tr>\n",
       "    <tr>\n",
       "      <th>121213</th>\n",
       "      <td>NaN</td>\n",
       "    </tr>\n",
       "    <tr>\n",
       "      <th>121214</th>\n",
       "      <td>NaN</td>\n",
       "    </tr>\n",
       "  </tbody>\n",
       "</table>\n",
       "<p>121220 rows × 1 columns</p>\n",
       "</div>"
      ],
      "text/plain": [
       "        precio_m2_usd_total\n",
       "50355                   inf\n",
       "32479                   inf\n",
       "46161                   inf\n",
       "59973                   inf\n",
       "59974                   inf\n",
       "...                     ...\n",
       "121210                  NaN\n",
       "121211                  NaN\n",
       "121212                  NaN\n",
       "121213                  NaN\n",
       "121214                  NaN\n",
       "\n",
       "[121220 rows x 1 columns]"
      ]
     },
     "execution_count": 80,
     "metadata": {},
     "output_type": "execute_result"
    }
   ],
   "source": [
    "# Verifico los valores que contiene la columnas: \n",
    "properati_df[['precio_m2_usd_total']].sort_values(by = 'precio_m2_usd_total', ascending = False)"
   ]
  },
  {
   "cell_type": "code",
   "execution_count": 85,
   "metadata": {},
   "outputs": [
    {
     "data": {
      "text/html": [
       "<div>\n",
       "<style scoped>\n",
       "    .dataframe tbody tr th:only-of-type {\n",
       "        vertical-align: middle;\n",
       "    }\n",
       "\n",
       "    .dataframe tbody tr th {\n",
       "        vertical-align: top;\n",
       "    }\n",
       "\n",
       "    .dataframe thead th {\n",
       "        text-align: right;\n",
       "    }\n",
       "</style>\n",
       "<table border=\"1\" class=\"dataframe\">\n",
       "  <thead>\n",
       "    <tr style=\"text-align: right;\">\n",
       "      <th></th>\n",
       "      <th>price_aprox_usd</th>\n",
       "      <th>precio_m2_usd_total</th>\n",
       "      <th>surface_total_in_m2</th>\n",
       "    </tr>\n",
       "  </thead>\n",
       "  <tbody>\n",
       "    <tr>\n",
       "      <th>205</th>\n",
       "      <td>180000.00</td>\n",
       "      <td>inf</td>\n",
       "      <td>0.0</td>\n",
       "    </tr>\n",
       "    <tr>\n",
       "      <th>206</th>\n",
       "      <td>350000.00</td>\n",
       "      <td>inf</td>\n",
       "      <td>0.0</td>\n",
       "    </tr>\n",
       "    <tr>\n",
       "      <th>561</th>\n",
       "      <td>42623.59</td>\n",
       "      <td>inf</td>\n",
       "      <td>0.0</td>\n",
       "    </tr>\n",
       "    <tr>\n",
       "      <th>562</th>\n",
       "      <td>35893.55</td>\n",
       "      <td>inf</td>\n",
       "      <td>0.0</td>\n",
       "    </tr>\n",
       "    <tr>\n",
       "      <th>563</th>\n",
       "      <td>59000.00</td>\n",
       "      <td>inf</td>\n",
       "      <td>0.0</td>\n",
       "    </tr>\n",
       "    <tr>\n",
       "      <th>...</th>\n",
       "      <td>...</td>\n",
       "      <td>...</td>\n",
       "      <td>...</td>\n",
       "    </tr>\n",
       "    <tr>\n",
       "      <th>114306</th>\n",
       "      <td>75000.00</td>\n",
       "      <td>inf</td>\n",
       "      <td>0.0</td>\n",
       "    </tr>\n",
       "    <tr>\n",
       "      <th>114307</th>\n",
       "      <td>67000.00</td>\n",
       "      <td>inf</td>\n",
       "      <td>0.0</td>\n",
       "    </tr>\n",
       "    <tr>\n",
       "      <th>116328</th>\n",
       "      <td>150000.00</td>\n",
       "      <td>inf</td>\n",
       "      <td>0.0</td>\n",
       "    </tr>\n",
       "    <tr>\n",
       "      <th>118839</th>\n",
       "      <td>55000.00</td>\n",
       "      <td>inf</td>\n",
       "      <td>0.0</td>\n",
       "    </tr>\n",
       "    <tr>\n",
       "      <th>120157</th>\n",
       "      <td>80000.00</td>\n",
       "      <td>inf</td>\n",
       "      <td>0.0</td>\n",
       "    </tr>\n",
       "  </tbody>\n",
       "</table>\n",
       "<p>249 rows × 3 columns</p>\n",
       "</div>"
      ],
      "text/plain": [
       "        price_aprox_usd  precio_m2_usd_total  surface_total_in_m2\n",
       "205           180000.00                  inf                  0.0\n",
       "206           350000.00                  inf                  0.0\n",
       "561            42623.59                  inf                  0.0\n",
       "562            35893.55                  inf                  0.0\n",
       "563            59000.00                  inf                  0.0\n",
       "...                 ...                  ...                  ...\n",
       "114306         75000.00                  inf                  0.0\n",
       "114307         67000.00                  inf                  0.0\n",
       "116328        150000.00                  inf                  0.0\n",
       "118839         55000.00                  inf                  0.0\n",
       "120157         80000.00                  inf                  0.0\n",
       "\n",
       "[249 rows x 3 columns]"
      ]
     },
     "execution_count": 85,
     "metadata": {},
     "output_type": "execute_result"
    }
   ],
   "source": [
    "# Y verificamos que tiene 249 valores infinitos:\n",
    "mask_inf = properati_df.precio_m2_usd_total == np.inf\n",
    "properati_df[['price_aprox_usd', 'precio_m2_usd_total', 'surface_total_in_m2']][mask_inf]"
   ]
  },
  {
   "cell_type": "code",
   "execution_count": 86,
   "metadata": {},
   "outputs": [
    {
     "name": "stdout",
     "output_type": "stream",
     "text": [
      "26637    206333.333333\n",
      "26037    173826.066667\n",
      "26193    104486.114286\n",
      "Name: precio_m2_usd_total_nuevo, dtype: float64\n"
     ]
    },
    {
     "data": {
      "text/plain": [
       "68617"
      ]
     },
     "execution_count": 86,
     "metadata": {},
     "output_type": "execute_result"
    }
   ],
   "source": [
    "# Reemplazamos los valores infinitos por NaN:\n",
    "para_reemplazar = properati_df.precio_m2_usd_total.replace([np.inf, -np.inf], np.nan)\n",
    "properati_df['precio_m2_usd_total_nuevo'] = para_reemplazar\n",
    "print(properati_df['precio_m2_usd_total_nuevo'].sort_values(ascending = False).head(3))\n",
    "\n",
    "# La columna nueva no contiene valores infinitos:\n",
    "properati_df['precio_m2_usd_total_nuevo'].notnull().sum()"
   ]
  },
  {
   "cell_type": "code",
   "execution_count": 87,
   "metadata": {},
   "outputs": [
    {
     "name": "stdout",
     "output_type": "stream",
     "text": [
      " 0.00        18400\n",
      "-166.67         59\n",
      "-400.00         55\n",
      "-200.00         53\n",
      "-333.33         51\n",
      "             ...  \n",
      "-603.48          1\n",
      "-713.63          1\n",
      " 398.60          1\n",
      "-11731.00        1\n",
      "-1459.69         1\n",
      "Length: 29567, dtype: int64\n",
      "0.0    68617\n",
      "dtype: int64\n",
      "False\n",
      "False\n",
      "(68617,)\n",
      "(68617,)\n"
     ]
    }
   ],
   "source": [
    "# Realizamos mismo procedimiento anterior para verificar si la nueva variable es igual a alguna variable existente:\n",
    "comparacion4 = (properati_df['precio_m2_usd_total_nuevo'] - properati_df.price_per_m2).round(2)\n",
    "print(comparacion4.value_counts())\n",
    "\n",
    "comparacion5 = (properati_df['precio_m2_usd_total_nuevo'] - properati_df.price_usd_per_m2).round(2)\n",
    "print(comparacion5.value_counts())\n",
    "\n",
    "print(properati_df['precio_m2_usd_total_nuevo'].dropna() is properati_df.price_per_m2.dropna())\n",
    "print(properati_df['precio_m2_usd_total_nuevo'].dropna() is properati_df.price_usd_per_m2.dropna())\n",
    "print(properati_df.price_usd_per_m2.dropna().shape)\n",
    "print(properati_df['precio_m2_usd_total_nuevo'].dropna().shape)\n",
    "# La columna 'price_usd_per_m2' realiza el mismo calculo que 'precio_m2_usd_total_nuevo'.\n",
    "# No es correcto considerar los valores de la columna 'price_usd_per_m2' para imputar valores faltantes de la columna 'precio_m2_usd_cubierta', porque contiene valores de superficie total.\n",
    "# La columna \"precio_m2_usd_cubierta_nuevo\" puede ser desconsiderada.\n",
    "# La columna \"precio_m2_usd_total_nuevo\" también puede ser desconsiderada porque es igual a \"price_usd_per_m2\"."
   ]
  },
  {
   "cell_type": "code",
   "execution_count": 88,
   "metadata": {},
   "outputs": [
    {
     "data": {
      "text/html": [
       "<div>\n",
       "<style scoped>\n",
       "    .dataframe tbody tr th:only-of-type {\n",
       "        vertical-align: middle;\n",
       "    }\n",
       "\n",
       "    .dataframe tbody tr th {\n",
       "        vertical-align: top;\n",
       "    }\n",
       "\n",
       "    .dataframe thead th {\n",
       "        text-align: right;\n",
       "    }\n",
       "</style>\n",
       "<table border=\"1\" class=\"dataframe\">\n",
       "  <thead>\n",
       "    <tr style=\"text-align: right;\">\n",
       "      <th></th>\n",
       "      <th>surface_total_in_m2</th>\n",
       "      <th>surface_covered_in_m2</th>\n",
       "      <th>price_usd_per_m2</th>\n",
       "      <th>precio_m2_usd_total_nuevo</th>\n",
       "    </tr>\n",
       "  </thead>\n",
       "  <tbody>\n",
       "    <tr>\n",
       "      <th>111850</th>\n",
       "      <td>46.0</td>\n",
       "      <td>35.0</td>\n",
       "      <td>NaN</td>\n",
       "      <td>NaN</td>\n",
       "    </tr>\n",
       "    <tr>\n",
       "      <th>30032</th>\n",
       "      <td>NaN</td>\n",
       "      <td>104.0</td>\n",
       "      <td>NaN</td>\n",
       "      <td>NaN</td>\n",
       "    </tr>\n",
       "    <tr>\n",
       "      <th>62518</th>\n",
       "      <td>NaN</td>\n",
       "      <td>NaN</td>\n",
       "      <td>NaN</td>\n",
       "      <td>NaN</td>\n",
       "    </tr>\n",
       "    <tr>\n",
       "      <th>21224</th>\n",
       "      <td>1600.0</td>\n",
       "      <td>360.0</td>\n",
       "      <td>562.500000</td>\n",
       "      <td>562.500000</td>\n",
       "    </tr>\n",
       "    <tr>\n",
       "      <th>103527</th>\n",
       "      <td>NaN</td>\n",
       "      <td>30.0</td>\n",
       "      <td>NaN</td>\n",
       "      <td>NaN</td>\n",
       "    </tr>\n",
       "    <tr>\n",
       "      <th>47077</th>\n",
       "      <td>103.0</td>\n",
       "      <td>94.0</td>\n",
       "      <td>2883.495146</td>\n",
       "      <td>2883.495146</td>\n",
       "    </tr>\n",
       "    <tr>\n",
       "      <th>26901</th>\n",
       "      <td>145.0</td>\n",
       "      <td>100.0</td>\n",
       "      <td>1310.344828</td>\n",
       "      <td>1310.344828</td>\n",
       "    </tr>\n",
       "    <tr>\n",
       "      <th>62058</th>\n",
       "      <td>720.0</td>\n",
       "      <td>214.0</td>\n",
       "      <td>500.000000</td>\n",
       "      <td>500.000000</td>\n",
       "    </tr>\n",
       "    <tr>\n",
       "      <th>24372</th>\n",
       "      <td>37.0</td>\n",
       "      <td>27.0</td>\n",
       "      <td>2783.783784</td>\n",
       "      <td>2783.783784</td>\n",
       "    </tr>\n",
       "    <tr>\n",
       "      <th>32202</th>\n",
       "      <td>192.0</td>\n",
       "      <td>137.0</td>\n",
       "      <td>1250.000000</td>\n",
       "      <td>1250.000000</td>\n",
       "    </tr>\n",
       "  </tbody>\n",
       "</table>\n",
       "</div>"
      ],
      "text/plain": [
       "        surface_total_in_m2  surface_covered_in_m2  price_usd_per_m2  \\\n",
       "111850                 46.0                   35.0               NaN   \n",
       "30032                   NaN                  104.0               NaN   \n",
       "62518                   NaN                    NaN               NaN   \n",
       "21224                1600.0                  360.0        562.500000   \n",
       "103527                  NaN                   30.0               NaN   \n",
       "47077                 103.0                   94.0       2883.495146   \n",
       "26901                 145.0                  100.0       1310.344828   \n",
       "62058                 720.0                  214.0        500.000000   \n",
       "24372                  37.0                   27.0       2783.783784   \n",
       "32202                 192.0                  137.0       1250.000000   \n",
       "\n",
       "        precio_m2_usd_total_nuevo  \n",
       "111850                        NaN  \n",
       "30032                         NaN  \n",
       "62518                         NaN  \n",
       "21224                  562.500000  \n",
       "103527                        NaN  \n",
       "47077                 2883.495146  \n",
       "26901                 1310.344828  \n",
       "62058                  500.000000  \n",
       "24372                 2783.783784  \n",
       "32202                 1250.000000  "
      ]
     },
     "execution_count": 88,
     "metadata": {},
     "output_type": "execute_result"
    }
   ],
   "source": [
    "# Visualización para verificar valores:\n",
    "properati_df[['surface_total_in_m2', 'surface_covered_in_m2', 'price_usd_per_m2', 'precio_m2_usd_total_nuevo']].sample(10)"
   ]
  },
  {
   "cell_type": "code",
   "execution_count": 89,
   "metadata": {},
   "outputs": [
    {
     "data": {
      "text/plain": [
       "operation                            0\n",
       "property_type                        0\n",
       "place_name                          23\n",
       "place_with_parent_names              0\n",
       "country_name                         0\n",
       "state_name                           0\n",
       "geonames_id                      18717\n",
       "lat-lon                          51550\n",
       "lat                              51550\n",
       "lon                              51550\n",
       "price                            20410\n",
       "currency                         20411\n",
       "price_aprox_local_currency       20410\n",
       "price_aprox_usd                  20410\n",
       "surface_total_in_m2              39328\n",
       "surface_covered_in_m2            19907\n",
       "price_usd_per_m2                 52603\n",
       "price_per_m2                     33562\n",
       "floor                           113321\n",
       "rooms                            73830\n",
       "expenses                        106958\n",
       "properati_url                        0\n",
       "description                          2\n",
       "title                                0\n",
       "image_thumbnail                   3112\n",
       "centro_urbano                        0\n",
       "precio_m2_usd_cubierta           33560\n",
       "precio_m2_usd_cubierta_nuevo     28295\n",
       "precio_m2_usd_total              52354\n",
       "precio_m2_usd_total_nuevo        52603\n",
       "dtype: int64"
      ]
     },
     "execution_count": 89,
     "metadata": {},
     "output_type": "execute_result"
    }
   ],
   "source": [
    "# Verificamos una vez mas los valores nulos de las columnas:\n",
    "properati_df.isnull().sum()"
   ]
  },
  {
   "cell_type": "code",
   "execution_count": 90,
   "metadata": {},
   "outputs": [],
   "source": [
    "import seaborn as sns\n",
    "def count_plotter(data, label, labelsize=12):    \n",
    "    sns.set(rc={\"figure.figsize\": (10, 7), \n",
    "                \"xtick.labelsize\": labelsize})\n",
    "    sns.set_style(\"white\")    \n",
    "    data_count = sns.countplot(data)\n",
    "    data_count.set_title('Histograma de ' + label + '\\n', fontsize=16)\n",
    "    \n",
    "def distribution_plotter(data, label, bins=None):    \n",
    "    sns.set(rc={\"figure.figsize\": (10, 7)})\n",
    "    sns.set_style(\"ticks\")    \n",
    "    dist = sns.distplot(data, bins= bins, hist_kws={'alpha':0.2}, kde_kws={'linewidth':5})\n",
    "    dist.set_title('Distribución de ' + label + '\\n', fontsize=16)"
   ]
  },
  {
   "cell_type": "code",
   "execution_count": 91,
   "metadata": {},
   "outputs": [
    {
     "data": {
      "image/png": "[encoded data removed]",
      "text/plain": [
       "<Figure size 720x504 with 1 Axes>"
      ]
     },
     "metadata": {},
     "output_type": "display_data"
    }
   ],
   "source": [
    "# Realizamos una distribución de los valores de \"price_usd_per_m2\":\n",
    "distribution_plotter(properati_df.price_usd_per_m2, \"Price_usd_per_m2\")"
   ]
  },
  {
   "cell_type": "code",
   "execution_count": 92,
   "metadata": {},
   "outputs": [
    {
     "data": {
      "text/html": [
       "<div>\n",
       "<style scoped>\n",
       "    .dataframe tbody tr th:only-of-type {\n",
       "        vertical-align: middle;\n",
       "    }\n",
       "\n",
       "    .dataframe tbody tr th {\n",
       "        vertical-align: top;\n",
       "    }\n",
       "\n",
       "    .dataframe thead th {\n",
       "        text-align: right;\n",
       "    }\n",
       "</style>\n",
       "<table border=\"1\" class=\"dataframe\">\n",
       "  <thead>\n",
       "    <tr style=\"text-align: right;\">\n",
       "      <th></th>\n",
       "      <th>price_aprox_usd</th>\n",
       "      <th>price_usd_per_m2</th>\n",
       "      <th>surface_total_in_m2</th>\n",
       "    </tr>\n",
       "  </thead>\n",
       "  <tbody>\n",
       "    <tr>\n",
       "      <th>26637</th>\n",
       "      <td>6809000.0</td>\n",
       "      <td>206333.333333</td>\n",
       "      <td>33.0</td>\n",
       "    </tr>\n",
       "    <tr>\n",
       "      <th>26037</th>\n",
       "      <td>5214782.0</td>\n",
       "      <td>173826.066667</td>\n",
       "      <td>30.0</td>\n",
       "    </tr>\n",
       "    <tr>\n",
       "      <th>26193</th>\n",
       "      <td>3657014.0</td>\n",
       "      <td>104486.114286</td>\n",
       "      <td>35.0</td>\n",
       "    </tr>\n",
       "    <tr>\n",
       "      <th>114131</th>\n",
       "      <td>12000000.0</td>\n",
       "      <td>80000.000000</td>\n",
       "      <td>150.0</td>\n",
       "    </tr>\n",
       "    <tr>\n",
       "      <th>25853</th>\n",
       "      <td>2356000.0</td>\n",
       "      <td>78533.333333</td>\n",
       "      <td>30.0</td>\n",
       "    </tr>\n",
       "  </tbody>\n",
       "</table>\n",
       "</div>"
      ],
      "text/plain": [
       "        price_aprox_usd  price_usd_per_m2  surface_total_in_m2\n",
       "26637         6809000.0     206333.333333                 33.0\n",
       "26037         5214782.0     173826.066667                 30.0\n",
       "26193         3657014.0     104486.114286                 35.0\n",
       "114131       12000000.0      80000.000000                150.0\n",
       "25853         2356000.0      78533.333333                 30.0"
      ]
     },
     "execution_count": 92,
     "metadata": {},
     "output_type": "execute_result"
    }
   ],
   "source": [
    "# Filtramos para ver los valores mas altos:\n",
    "properati_df[['price_aprox_usd', 'price_usd_per_m2', 'surface_total_in_m2']].sort_values(by = 'price_usd_per_m2', ascending = False).head(5)"
   ]
  },
  {
   "cell_type": "code",
   "execution_count": 93,
   "metadata": {},
   "outputs": [
    {
     "data": {
      "image/png": "[encoded data removed]",
      "text/plain": [
       "<Figure size 720x504 with 1 Axes>"
      ]
     },
     "metadata": {},
     "output_type": "display_data"
    }
   ],
   "source": [
    "# Acotamos el rango para la visualización. Es necesario eliminar outliers.\n",
    "mask_price_usd_per_filtro = properati_df.price_usd_per_m2 < 20000\n",
    "price_usd_per_filtro = properati_df.loc[mask_price_usd_per_filtro, :]\n",
    "distribution_plotter(price_usd_per_filtro.price_usd_per_m2, \"Price_usd_per_m2 menor a 20,000\")"
   ]
  },
  {
   "cell_type": "code",
   "execution_count": null,
   "metadata": {},
   "outputs": [],
   "source": []
  },
  {
   "cell_type": "code",
   "execution_count": 103,
   "metadata": {},
   "outputs": [],
   "source": [
    "### De aca en adelante unos histogramas por si los quieren usar con alguna otra variable"
   ]
  },
  {
   "cell_type": "code",
   "execution_count": 94,
   "metadata": {},
   "outputs": [
    {
     "data": {
      "image/png": "[encoded data removed]",
      "text/plain": [
       "<Figure size 720x504 with 1 Axes>"
      ]
     },
     "metadata": {},
     "output_type": "display_data"
    }
   ],
   "source": [
    "count_plotter(properati_df.floor, \"Histograma de Cantidad de pisos\", 0)"
   ]
  },
  {
   "cell_type": "code",
   "execution_count": 101,
   "metadata": {},
   "outputs": [
    {
     "data": {
      "text/plain": [
       "83        5.0\n",
       "85        1.0\n",
       "89        1.0\n",
       "93        2.0\n",
       "94        2.0\n",
       "         ... \n",
       "119937    6.0\n",
       "119938    3.0\n",
       "119939    3.0\n",
       "119940    5.0\n",
       "119942    6.0\n",
       "Name: floor, Length: 7731, dtype: float64"
      ]
     },
     "execution_count": 101,
     "metadata": {},
     "output_type": "execute_result"
    }
   ],
   "source": [
    "mask_pisos = properati_df.floor < 100\n",
    "properati_df_floor_filtro = properati_df.floor.loc[mask_pisos]\n",
    "properati_df_floor_filtro"
   ]
  },
  {
   "cell_type": "code",
   "execution_count": 95,
   "metadata": {},
   "outputs": [
    {
     "data": {
      "text/plain": [
       "39394     3150.0\n",
       "63248     2509.0\n",
       "60483     2177.0\n",
       "63257     2103.0\n",
       "28537     1609.0\n",
       "           ...  \n",
       "121215       NaN\n",
       "121216       NaN\n",
       "121217       NaN\n",
       "121218       NaN\n",
       "121219       NaN\n",
       "Name: floor, Length: 121220, dtype: float64"
      ]
     },
     "execution_count": 95,
     "metadata": {},
     "output_type": "execute_result"
    }
   ],
   "source": [
    "properati_df.floor.sort_values(ascending =  False)"
   ]
  },
  {
   "cell_type": "code",
   "execution_count": 102,
   "metadata": {},
   "outputs": [
    {
     "data": {
      "image/png": "[encoded data removed]",
      "text/plain": [
       "<Figure size 720x504 with 1 Axes>"
      ]
     },
     "metadata": {},
     "output_type": "display_data"
    }
   ],
   "source": [
    "count_plotter(properati_df_floor_filtro, \"Histograma de Cantidad de pisos\", 0)"
   ]
  },
  {
   "cell_type": "code",
   "execution_count": null,
   "metadata": {},
   "outputs": [],
   "source": []
  },
  {
   "cell_type": "code",
   "execution_count": null,
   "metadata": {},
   "outputs": [],
   "source": []
  },
  {
   "cell_type": "code",
   "execution_count": null,
   "metadata": {},
   "outputs": [],
   "source": []
  }
 ],
 "metadata": {
  "kernelspec": {
   "display_name": "Python 3",
   "language": "python",
   "name": "python3"
  },
  "language_info": {
   "codemirror_mode": {
    "name": "ipython",
    "version": 3
   },
   "file_extension": ".py",
   "mimetype": "text/x-python",
   "name": "python",
   "nbconvert_exporter": "python",
   "pygments_lexer": "ipython3",
   "version": "3.8.3"
  }
 },
 "nbformat": 4,
 "nbformat_minor": 4
}
